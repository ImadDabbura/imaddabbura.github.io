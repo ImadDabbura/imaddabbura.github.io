{
 "cells": [
  {
   "cell_type": "markdown",
   "id": "74cc2236-6b70-4b97-b5d6-1ce815b4b673",
   "metadata": {},
   "source": [
    "---\n",
    "title: A Deep Dive into Python's Modules and Packages\n",
    "date: \"2024-02-09\"\n",
    "date-modified: \"2024-02-09\"\n",
    "image: \"images/modules-packages-image.jpeg\"\n",
    "categories: [Python, SWE]\n",
    "---"
   ]
  },
  {
   "cell_type": "markdown",
   "id": "2ad599b6-04b3-4049-a40e-e5f5c1313af1",
   "metadata": {},
   "source": [
    "<img src=\"images/modules-packages-image.jpeg\" width=\"800px\" height=\"500px\">"
   ]
  },
  {
   "cell_type": "markdown",
   "id": "765c4ea7-9c93-4c09-be88-14ca21a025c8",
   "metadata": {},
   "source": [
    "Python's simplicity and versatility are largely attributed to its extensive ecosystem of modules and packages. These essential components enable developers to write clean, reusable, and efficient code, whether for simple scripts or complex applications.\n",
    "\n",
    "This article aims to deepen our understanding of Python's modules and packages and the machinery involved, helping me become a more effective Python programmer. We will explore their structure and functionality, covering everything from the basics of importing to creating custom packages and managing dependencies. By unpacking the underlying machinery of how modules/packages get imported and what they really are, we'll gain insights that will enhance our coding practices and project organization."
   ]
  },
  {
   "cell_type": "markdown",
   "id": "120ab007-f6e3-402f-ba1d-7d4262160a1a",
   "metadata": {
    "tags": []
   },
   "source": [
    "# Introduction"
   ]
  },
  {
   "cell_type": "markdown",
   "id": "3c020551-ae30-4eeb-bfcc-d793c13ddc21",
   "metadata": {},
   "source": [
    "- Python has only one type of module object regardless of the language the module was implemented it (C/Python/...)\n",
    "- Package provides a naming hierarchy to organize modules (same analogy to directory in Unix file system):\n",
    "    - All packages are modules but not all modules are packages\n",
    "    - A module is a package that has `__path__`\n",
    "    - A package can include subpackages (sub-directories)\n",
    "- There are two types of packages:\n",
    "    - **Regular packages** are directories that have `__init__.py`. When importing a package/subpackage -> implicitly executes all `__init__.py` files on the path and bound objects to names in the package's namespace\n",
    "        - When import machinery is looking for the package, it stops once it finds it\n",
    "    - **Namespace packages** are directories that don't have `__init__.py`\n",
    "        - When import machinery is looking for the package, it does not stop when it finds it and assuming there may be a regular package in some other paths in `sys.path` but keep a record of all namespace packages it found during the search. If it finds a regular package with that name -> discard all namespace packages it found and import the regular package. If it doesn't find any regular package with that name -> Use all the namespace packages it found during the search and combine their paths in `namespace_path` so when we try to import subpackage or modules, it checks all the paths in the namespace_path (which is a list)\n",
    "        - There can be multiple packages of the same name (under different directories) -> They are all combined together and the `namespace_path` list would have the path for all of them. Therefore, the same package can be used to refer to completely different modules in different directories\n",
    "        - Python first scans the whole sys.path before deciding that the package is a namespace -> If any name is found with `__init__.py` in it, it will give this priority and don't continue.\n",
    "- When importing subpackages such as `foo.bar.baz`, Python first imports foo, then foo.bar, then foo.bar.baz\n",
    "    - Each of these will be cached in `sys.modules`\n",
    "- `__init__.py` makes a directory a python package\n",
    "    - We can use it to import useful stuff from different modules/subpackages so it can be available to user\n",
    "    - When importing an object, it has `__module__` attribute which determines the global environment for the object\n",
    "    - We can define `__all__` in `__init__` as concatenation of all `__all__` in modules\n",
    "        - Example: `__all__ = foo.__all__ + bar.__all__` BUT we need to either first import foo and bar or import anything from them so they can be defined such as `from .foo import *` OR `from .foo import y`\n",
    "    - `__init__` can be used to also initialize things and maybe monkeypatch some other modules\n",
    "- Each package has `__path__` attribute that helps when searching for subpackages. This will be given to path finder when loading subpackages\n",
    "    - It is a list; similar to `sys.path` so we can change it. But it is not recommended\n",
    "    - Example: `import math; math.__path__.append(~/Documents\")`\n",
    "- Relative import is preferred to absolute imports inside packages to avoid having issues if the package name is changed\n",
    "- Packages get loaded once even if we import it multiple times\n",
    "- We can in theory upgrade a package in the cache like this:\n",
    "    - `sys.modules[new_name] = package_name`\n",
    "- If we use `python -m package.module`, it executes module as the main program and **relative imports** works. Otherwise, relative imports won't work.\n",
    "    - `m` stands for module\n",
    "- The `__main__` module is a special case relative to Python’s import system. The `__main__` module is directly initialized at interpreter startup, much like `sys` and `builtins`. The manner in which `__main__` is initialized depends on the flags and other options with which the interpreter is invoked\n",
    "- `__main__.py` designates main for a package/subpackage and also allows package directory to be executable -> explicitly marks the entry point. Examples:\n",
    "    - `python package` would look for `__main__.py` to execute it\n",
    "    - `python -m package.subpackage` would look for `__main__.py` inside package/subpackage to execute\n",
    "    - `__package__` is set so the relative imports still work\n",
    "    - A lot of programming tools utilize this to their own benefit: `python -m profile script.y` OR `python -m pdb script.py`\n",
    "    - NOTE THAT `__init__.py` files on the path will still be executed\n",
    "- Depending on how `__main__` is initialized, `__main__.__spec__` gets set appropriately or to None.\n",
    "    - When Python is started with the -m option, `__spec__` is set to the module spec of the corresponding module or package. `__spec__` is also populated when the `__main__` module is loaded as part of executing a directory, zipfile or other sys.path entry.\n",
    "    - Otherwise, it will be set to None\n",
    "\n",
    "<img src=\"images/executable-submodules.png\" width=\"400px\">"
   ]
  },
  {
   "cell_type": "markdown",
   "id": "bda3f2ab-987d-4e35-b797-3bbc84f1569d",
   "metadata": {},
   "source": [
    "# Sys.path"
   ]
  },
  {
   "cell_type": "markdown",
   "id": "e86c18b8-bf6a-4a88-9139-e6617eb91689",
   "metadata": {},
   "source": [
    "- `importlib` has a rich API to interact with import system. It is preferred over `__import__()`\n",
    "- `__import__` Only does module search and creation without the name binding\n",
    "- `import` Does everything. Module search, creation, and name binding. It calls `__import__` under the hood\n",
    "- `.egg` files are just directories or .zip files with extra metadata for package managers\n",
    "- `sys.path` is where python looks to search for a module/package (last place) that we try to import. It traverses it from start-to-end\n",
    "    - It has the name of directorires, .zipfiles, .egg files\n",
    "    - first match wins\n",
    "    - If it can't find it -> can not be imported\n",
    "- `sys.prefix` is where python is stored (**os.py is the landmark**) and `sys.exec_prefix` is where compiled binaries are stored (**lib-dynload is the landmark**)\n",
    "    - With virtual environments -> each one has its own sys.prefix\n",
    "    - It is constructed from `sys.prefix`, `PYTHONHOME`, and `site.py`. Setting `PYTHONHOME` would override `sys.prefix` and `sys.exec_prefic`\n",
    "    - Python looks for its libraries starting from where it is and keep going up until the root of the file syetsm. It looks for `os.py` and use that location as a landmark\n",
    "    - `python -S` skips site.py\n",
    "    - `python -vv` to see what python tries to do with every statement\n",
    "    - Setting PYTHONPATH to some directories will insert them into the beginning of sys.path. Example:\n",
    "        - `env PYTHONPATH=\"/Users/imad/Documents python` to run python with documents inserted at the beginning of the sys.apth\n",
    "    - `site.py` appends the path to third-party libraries. This is where installed packages get stored. Example: `/usr/local/lib/python3.4/site-packages`\n",
    "\n",
    "- Python now have builtin virtual environments that can create one using the `venv` module\n",
    "    - `python -m venv env_name` will create new environment called *env_name*\n",
    "    - This environment will include few directories such as include, lib, site-packages, bin and pyvenv.cfg\n",
    "    - This new environment has no third party libraries or any system wide libraries such as those in /usr/local\n",
    "    - All third libraries will be installed in site-packages directory\n",
    "    - Python binary will refer to the original Python installation when the environment was created\n",
    "    - We can use `source path_to_env_name/bin/activate` to activate the environment. `deactivate` to deactivate it. Finally, `rm -r path_to_env_name` or `pyenv --rm` if we create it using **poetry**\n",
    "- Files with `.pth` extension in site-packages directory get added to the sys.path. We can list directories in those files that will be added to sys.path for any new instance of Python\n",
    "    - Package managers and other third-party packages use this kind of hack to add paths to the sys.path\n",
    "- sitecustomize and usercustomize also can be used to add stuff to the sys.path\n",
    "- Finally the current working directory will be added to the path (at the beginning)"
   ]
  },
  {
   "cell_type": "markdown",
   "id": "2eb43e3a-2661-471c-a803-82b25deb958e",
   "metadata": {},
   "source": [
    "# Modules"
   ]
  },
  {
   "cell_type": "markdown",
   "id": "ae08c89f-4b57-4ccf-8c8e-0ae79adb6f0e",
   "metadata": {},
   "source": [
    "- Modules are just objects of type ModuleType. They act like a dictionary that holds references to objects it holds; `module.__dict__`\n",
    "    - When importing a module, it executes the module from top to bottom before returning to the caller\n",
    "    - Module can be namespace, py file, execution environment for statements or container of global variables\n",
    "    - We can set/delete attributes. `module.x = 10` is the same as `module.__dict__['x'] = 10`\n",
    "    - The dictionary has preset attributes such as `__path__`, `__loader__` ...\n",
    "    - Main attributes:\n",
    "        - `__name__`    : # Module name\n",
    "        - `__file__`    : # Associated source file (if any)\n",
    "        - `__doc__`     : # Doc string\n",
    "        - `__path__`    : # Package path. It is used to look for package subcomponents\n",
    "        - `__package__` : # The module’s `__package__` attribute must be set. Its value must be a string, but it can be the same value as its `__name__`. When the module is a package, its `__package__` value should be set to its `__name__`. When the module is not a package, `__package__` should be set to the empty string for top-level modules, or for submodules, to the parent package’s name.\n",
    "        - `__spec__`    : # Module spec\n",
    "- The main difference between modules and packages is that packages have `__path__` and `__package__` defined (not None)\n",
    "- `sys.modules` serves as a cache for all imported modules/packages\n",
    "    - It is a dictionary so we can delete/set keys\n",
    "    - If we delete a module, it will force Python to import it when we reimport it\n",
    "    - If we set module key to None -> result in `ModuleNotFoundError`\n",
    "- Even if we import one object from a module/package, the module/package will be cached in the `sys.modules` but not available in the global name space\n",
    "- The  module created during loading and passed to exec_module() may not be the one returned at the end of the import\n",
    "    - This can happen if the imported module set the `sys.modules[__name__]` to some other module\n",
    "- The module's attributes are set after creation and before execution\n",
    "- Execution of the module is what populates the module's `__dict__` (namespace of the module). This is done by the loader\n",
    "- When a submodule is loaded using any mechanism, a binding is placed in the parent module’s namespace to the submodule object. For example, if we have a package called spam that has a submodule foo and it imports any of its objects like `from .foo import x`, after importing spam, spam will have an attribute foo which is bound to the submodule -> We can now use `spam.foo`\n",
    "- Relative imports use leading dots. A single leading dot indicates a relative import, starting with the current package. Two or more leading dots indicate a relative import to the parent(s) of the current package, one level per dot after the first.\n",
    "    - Relative imports can only use this form of import: `from <> import <>`\n",
    "    - It can't use `import .<>` because this is not a valid expression\n",
    "- Absolute imports have to start from the top level package and go downward to refer to the module:\n",
    "    - `from package.subpackage import` module\n",
    "    - Not recommended because if we change the name of the package then we need to change all the import statements -> relative imports are more robust and don't care about namings\n",
    "- Process when importing a module/package (after locating it):\n",
    "    1. First checks if it is cached. If not, continue\n",
    "    1. It creates a ModuleType object with that name\n",
    "    1. Cache the module in sys.modules\n",
    "    1. Executes the source code inside the module (first prefixing it with .py and then assign `__file__`)\n",
    "        - In the case of the package/subpackage, it assign it the `__init__.py` file\n",
    "        - It also executes all the `__init__.py` on the path\n",
    "    1. Assign a variable to the module object\n",
    "\n",
    "```Python\n",
    "import sys, types\n",
    "\n",
    "def import_module(modname):\n",
    "    # Check if it is in the cache first\n",
    "    if modname in sys.modules:\n",
    "        return sys.modules[modname]\n",
    "    \n",
    "    sourcepath = modname + '.py'\n",
    "    with open(sourcepath, 'r') as f:\n",
    "        sourcecode = f.read()\n",
    "    mod = types.ModuleType(modname)\n",
    "    mod.__file__ = sourcepath\n",
    "    \n",
    "    # Cache the module\n",
    "    sys.modules[modname] = mod\n",
    "    \n",
    "    # Convert it to Python ByteCode\n",
    "    code = compile(sourcecode, sourcepath, 'exec')\n",
    "    \n",
    "    # Execute the code in the module from top to bottom\n",
    "    # And update the state (globals) in the module's dictionary\n",
    "    exec(code, mod.__dict__)\n",
    "    \n",
    "    # We return the cached one in case there is some patching inside the module\n",
    "    return sys.modules[modname]\n",
    "\n",
    "```"
   ]
  },
  {
   "cell_type": "markdown",
   "id": "b9273e50-965c-4203-aeb2-40612d1bbc0b",
   "metadata": {},
   "source": [
    "# Module Compilation"
   ]
  },
  {
   "attachments": {},
   "cell_type": "markdown",
   "id": "971b7d62-a3c3-43aa-8876-cdba7a1b6a19",
   "metadata": {},
   "source": [
    "<img src=\"images/module-compilation.png\" width=\"400px\">\n",
    "\n",
    "- Python put a lock when importing a module until it is done so that we don't have multiple threads trying to import the same module at the same time\n",
    "- `__import__` is the machinery behind `import` statement\n",
    "- We can use `importlib.import_module(module)` which is the same thing as `__import__`\n",
    "    - `importlib.import_module(spam)` is the same as `import spam`\n",
    "    - `importlib.import_module('.spam', __package__)` is the same as `from . import spam`\n",
    "    - We can track all imports as follows:\n",
    "\n",
    "```Python\n",
    "import builtins\n",
    "\n",
    "def imp_mod(modname, *args, imp=__import__):\n",
    "    print(f\"Importing {modname}\")\n",
    "    return imp(modname, *args)\n",
    "\n",
    "builtins.__import__ = imp_mod\n",
    "```\n",
    "\n",
    "- **Module Reloading**:\n",
    "    - It is not a good idea to reload a module because it creates zombies. Basically Python doesn't try to clean up the dictionary from the old module, but instead exec() the new state of the module using the old `module.__dict__`. This means stuff from previous load may still exist and we end up having weird cases. This is how Python reloads a module:\n",
    "    ```Python\n",
    "    code = open(module.__file__, 'rb').open()\n",
    "    exec(code, module.__dict__)\n",
    "    ```\n",
    "    - Also, submodules that are loaded in the module/package don't get reloaded. They still have their old version. Exampe: If module has `import pandas as pd`, when reloading the module it doesn't reload pandas.\n",
    "    - Also, if we have instances that use the old version of the module and then we reload -> New instances of the same object (class) will refer to different code implementation than the instances created before the reload -> Even though they refer to the same class, instances will have different types\n",
    "\n",
    "- `sys.path` is only the small part of the import machinery\n",
    "- Imports is actually controlled by `sys.meta_path`\n",
    "    - It is a list of importers\n",
    "    ```Python\n",
    "    [_frozen_importlib.BuiltinImporter,\n",
    " _frozen_importlib.FrozenImporter,\n",
    " _frozen_importlib_external.PathFinder,\n",
    " <six._SixMetaPathImporter at 0x10c8769b0>,\n",
    " <pkg_resources.extern.VendorImporter at 0x10dbf9300>]\n",
    "    ```\n",
    "    - Python’s default sys.meta_path has three meta path finders, one that knows how to import built-in modules, one that knows how to import frozen modules, and one that knows how to import modules from an import path\n",
    "    - For every import statement, it goes from start-to-end to know if sys.meta_path knows how to install it\n",
    "\n",
    "```Python\n",
    "importlib.util as imp\n",
    "\n",
    "def find_spec(modname):\n",
    "    for imp in sys.meta_path:\n",
    "        spec = imp.find_spec(modname)\n",
    "        if spec:\n",
    "            return spec\n",
    "    return None\n",
    "```\n",
    "\n",
    "- ModuleSpec of a module is its metadata that the loader uses to load it. We can also use `importlib.util.find_spec()` to get the module spec of any loaded package. If the package/module is not found -> returns None. Example of pandas module spec:\n",
    "\n",
    "  ```Python\n",
    "    ModuleSpec(name='pandas', loader=<_frozen_importlib_external.SourceFileLoader object at 0x10e609f90>, origin='/Users/imad/anaconda3/envs/python-exp/lib/python3.10/site-packages/pandas/__init__.py', submodule_search_locations=['/Users/imad/anaconda3/envs/python-exp/lib/python3.10/site-packages/pandas'])\n",
    "    ```\n",
    "    - Module Spec main info:\n",
    "        - spec.name : # Full module name\n",
    "        - spec.parent : # Enclosing package\n",
    "        - spec.submodule_search_locations : # Package __path__\n",
    "        - spec.has_location : # Has external location\n",
    "        - spec.origin : # Source file location\n",
    "        - spec.cached : # Cached location\n",
    "        - spec.loader : # Loader object\n",
    "    - We can use the `loader` from module spec to get the source code w/o importing it. They actually create the imported module:\n",
    "\n",
    "    ```Python\n",
    "    module = spec.loader.create_module(spec)\n",
    "    if not module:\n",
    "        module = types.ModuleType(spec.name)\n",
    "        module.__file__ = spec.origin\n",
    "        module.__loader__ = spec.loader\n",
    "        module.__package__ = spec.parent\n",
    "        module.__path__ = spec.submodule_search_locations\n",
    "        module.__spec__ = spec\n",
    "    ```\n",
    "    - We can create module from spec with `importlib.util.module_from_spec`. This DOES NOT LOAD THE MODEL., it only creates it. To load the module, the module must be executed with `spec.loader.exec_module(spec)` and then cache it `sys.modules[spec.name] module`. `exec_module` will populate the `__dict__` of the module.\n",
    "- We can execute modules lazily on first access. Implementation example:\n",
    "\n",
    "```Python\n",
    "import types\n",
    "\n",
    "\n",
    "class _Module(types.ModuleType):\n",
    "    pass\n",
    "\n",
    "\n",
    "class _LazyModule(_Module):\n",
    "\n",
    "    def __init__(self, spec):\n",
    "        super().__init__(spec.name) \n",
    "        self.__file__ = spec.origin\n",
    "        self.__package__ = spec.parent \n",
    "        self.__loader__ = spec.loader\n",
    "        self.__path__ = spec.submodule_search_locations \n",
    "        self.__spec__ = spec\n",
    "\n",
    "    def __getattr__(self, name):\n",
    "        self.__class__ = _Module\n",
    "        self.__spec__.loader.exec_module(self)\n",
    "        assert sys.modules[self.__name__] == self\n",
    "        return getattr(self, name)\n",
    "```\n",
    "\n",
    "```Python\n",
    "import importlib.util, sys\n",
    "\n",
    "def lazy_import(name):\n",
    "   # If already loaded, return the module\n",
    "    if name in sys.modules:\n",
    "        return sys.modules[name]\n",
    "    \n",
    "    # Not loaded. Find the spec\n",
    "    spec = importlib.util.find_spec(name)\n",
    "    if not spec:\n",
    "        raise ImportError(f'No module {name:r}')\n",
    "    \n",
    "    # Check for compatibility\n",
    "    if not hasattr(spec.loader, 'exec_module'):\n",
    "        raise ImportError('Not supported')\n",
    "\n",
    "    # Perform the lazy import\n",
    "    module = sys.modules[name] = _LazyModule(spec)\n",
    "    return module\n",
    "\n",
    "```\n",
    "- Therefore, the module create/loading has been decoupled in recent versions of Python\n",
    "- We can insert an importer to `sys.meta_path` that can change the behavior of imports\n",
    "    - If it is in the beginning, it supercedes all other loaders and we can do crazy things\n",
    "\n",
    "    ```Python\n",
    "    import sys\n",
    "    \n",
    "    \n",
    "    class Watcher(object):\n",
    "    \n",
    "        @classmethod\n",
    "        def find_spec(cls, name, path, target=None):\n",
    "            print('Importing', name, path, target)\n",
    "            return None\n",
    "    \n",
    "        \n",
    "    sys.meta_path.insert(0, Watcher)\n",
    "    ```\n",
    "    \n",
    "- We can also use this idea to add some logic such as autoinstall packages that are not found using pip. We insert the installer at the end of `sys.meta_path`\n",
    "    \n",
    "```Python\n",
    "import sys\n",
    "import subprocess\n",
    "import importlib.util\n",
    "\n",
    "\n",
    "class AutoInstall(object):\n",
    "    _loaded = set()\n",
    "\n",
    "    @classmethod\n",
    "    def find_spec(cls, name, path, target=None):\n",
    "        if path is None and name not in cls._loaded: \n",
    "            cls._loaded.add(name)\n",
    "            print(\"Installing\", name)\n",
    "            try:\n",
    "                out = subprocess.check_output(\n",
    "                          [sys.executable, '-m', 'pip', 'install', name])\n",
    "                return importlib.util.find_spec(name) \n",
    "            except Exception as! e:\n",
    "                print(\"Failed\")\n",
    "        return None\n",
    "sys.meta_path.append(AutoInstall)\n",
    "```\n",
    "\n",
    "- We can also import packages not found on the system from some other systems such as Redis\n",
    "\n",
    "- `sys.path_hooks` is responsible for the actual loading of the module/package depending on the path\n",
    "    - Each entry in the `sys.path` is tested against a list of **path hooks** to assosiate a module finder with each path entry\n",
    "    - Path finders are used to locate module and return module spec along with loader\n",
    "    - Path finders get cached in `sys.path_importer_cache`\n",
    "- Both `loaders` and `finders` have `find_spec()` that returns **spec** of module if they know how to find/load it. Otherwise, they return `None`\n",
    "- What happens during import:\n",
    "\n",
    "```Python\n",
    "modname = 'somemodulename'\n",
    "for entry in sys.path:\n",
    "    finder = sys.path_importer_cache[entry]\n",
    "    if finder:\n",
    "        spec = finder.find_spec(modname)\n",
    "        if spec:\n",
    "            break\n",
    "else:\n",
    "    raise ImportError('No such module')\n",
    "...\n",
    "# Load module from the spec\n",
    "...\n",
    "```"
   ]
  },
  {
   "cell_type": "markdown",
   "id": "e44a7cbd-6e01-468b-b5f7-a1eb21b8b112",
   "metadata": {},
   "source": [
    "# Experiments"
   ]
  },
  {
   "cell_type": "code",
   "execution_count": 2,
   "id": "4efe21f4-70e0-4876-a98d-51fbed950551",
   "metadata": {},
   "outputs": [],
   "source": [
    "sys.path.append(\"/Users/imad/Desktop/\")"
   ]
  },
  {
   "cell_type": "code",
   "execution_count": 3,
   "id": "3a689c5c-b33a-44c8-a65d-4f109f396781",
   "metadata": {},
   "outputs": [
    {
     "name": "stdout",
     "output_type": "stream",
     "text": [
      "pck.mod\n"
     ]
    }
   ],
   "source": [
    "from pck.mod import X"
   ]
  },
  {
   "cell_type": "code",
   "execution_count": 4,
   "id": "8c327a3a-78f7-444f-aee2-df36dee0bb7d",
   "metadata": {},
   "outputs": [
    {
     "data": {
      "text/plain": [
       "100"
      ]
     },
     "execution_count": 4,
     "metadata": {},
     "output_type": "execute_result"
    }
   ],
   "source": [
    "X"
   ]
  },
  {
   "cell_type": "code",
   "execution_count": 5,
   "id": "420680d8-7c17-4db5-8b4c-dd234f31d620",
   "metadata": {},
   "outputs": [
    {
     "name": "stdout",
     "output_type": "stream",
     "text": [
      "pck.test\n"
     ]
    }
   ],
   "source": [
    "from pck.test import X"
   ]
  },
  {
   "cell_type": "code",
   "execution_count": 6,
   "id": "099cd685-593f-474e-b20d-936c57883a19",
   "metadata": {},
   "outputs": [
    {
     "data": {
      "text/plain": [
       "_NamespacePath(['/Users/imad/Documents/python-materials/modules-and-packages/pck', '/Users/imad/Documents/python-materials/modules-and-packages/pck', '/Users/imad/Desktop/pck'])"
      ]
     },
     "execution_count": 6,
     "metadata": {},
     "output_type": "execute_result"
    }
   ],
   "source": [
    "sys.modules[\"pck\"].__path__"
   ]
  },
  {
   "cell_type": "code",
   "execution_count": 3,
   "id": "26ae3e7c-313a-4388-bc49-9fc9e2d7a162",
   "metadata": {},
   "outputs": [
    {
     "ename": "AttributeError",
     "evalue": "module 'package.foo' has no attribute '__path__'",
     "output_type": "error",
     "traceback": [
      "\u001b[0;31m---------------------------------------------------------------------------\u001b[0m",
      "\u001b[0;31mAttributeError\u001b[0m                            Traceback (most recent call last)",
      "Input \u001b[0;32mIn [3]\u001b[0m, in \u001b[0;36m<module>\u001b[0;34m\u001b[0m\n\u001b[0;32m----> 1\u001b[0m foo\u001b[38;5;241m.\u001b[39m__package__, \u001b[43mfoo\u001b[49m\u001b[38;5;241;43m.\u001b[39;49m\u001b[43m__path__\u001b[49m\n",
      "\u001b[0;31mAttributeError\u001b[0m: module 'package.foo' has no attribute '__path__'"
     ]
    }
   ],
   "source": [
    "foo.__package__, foo.__path__"
   ]
  },
  {
   "cell_type": "code",
   "execution_count": 18,
   "id": "f204330c-1eff-4da4-a9fd-167e7a74c177",
   "metadata": {},
   "outputs": [
    {
     "data": {
      "text/plain": [
       "<module 'package.foo' from '/Users/imad/Documents/python-materials/modules-and-packages/package/foo.py'>"
      ]
     },
     "execution_count": 18,
     "metadata": {},
     "output_type": "execute_result"
    }
   ],
   "source": [
    "globals()[\"foo\"]"
   ]
  },
  {
   "cell_type": "code",
   "execution_count": 21,
   "id": "596a075a-f58c-42d7-9d54-f1c0bbcef01b",
   "metadata": {},
   "outputs": [],
   "source": [
    "def f():\n",
    "    pass"
   ]
  },
  {
   "cell_type": "code",
   "execution_count": 23,
   "id": "ce368771-aeb3-420b-847d-ef6418735c45",
   "metadata": {},
   "outputs": [],
   "source": [
    "from pandas import read_csv"
   ]
  },
  {
   "cell_type": "code",
   "execution_count": 2,
   "id": "38e03cfd-d29b-4564-bc74-e5b0d9bcaa2c",
   "metadata": {},
   "outputs": [
    {
     "data": {
      "text/plain": [
       "[zipimport.zipimporter,\n",
       " <function _frozen_importlib_external.FileFinder.path_hook.<locals>.path_hook_for_FileFinder(path)>]"
      ]
     },
     "execution_count": 2,
     "metadata": {},
     "output_type": "execute_result"
    }
   ],
   "source": [
    "sys.path_hooks"
   ]
  },
  {
   "cell_type": "code",
   "execution_count": 17,
   "id": "86da7a73-13f4-4c85-83c6-7c209370a0f0",
   "metadata": {},
   "outputs": [
    {
     "data": {
      "text/plain": [
       "['/Users/imad/anaconda3/envs/python-exp/lib/python310.zip',\n",
       " '/Users/imad/anaconda3/envs/python-exp/lib/python3.10',\n",
       " '/Users/imad/anaconda3/envs/python-exp/lib/python3.10/encodings',\n",
       " '/Users/imad/anaconda3/envs/python-exp/lib/python3.10/importlib',\n",
       " '/Users/imad/anaconda3/envs/python-exp/lib/python3.10/site-packages',\n",
       " '/Users/imad/anaconda3/envs/python-exp/lib/python3.10/lib-dynload',\n",
       " '/Users/imad/anaconda3/envs/python-exp/lib/python3.10/site-packages/PyYAML-6.0-py3.10-macosx-10.9-x86_64.egg',\n",
       " '/Users/imad/Documents/python-materials/modules-and-packages',\n",
       " '/Users/imad/anaconda3/envs/python-exp/lib/python3.10/site-packages/ipykernel',\n",
       " '/Users/imad/anaconda3/envs/python-exp/lib/python3.10/json']"
      ]
     },
     "execution_count": 17,
     "metadata": {},
     "output_type": "execute_result"
    }
   ],
   "source": [
    "list(sys.path_importer_cache.keys())[:10]"
   ]
  },
  {
   "cell_type": "code",
   "execution_count": 10,
   "id": "e4ece638-93da-4b93-a594-52d3984b93c1",
   "metadata": {},
   "outputs": [],
   "source": [
    "from importlib.util import find_spec"
   ]
  },
  {
   "cell_type": "code",
   "execution_count": 14,
   "id": "9e70eb1d-aee1-4c99-8222-0f1a114b78ba",
   "metadata": {},
   "outputs": [
    {
     "data": {
      "text/plain": [
       "'y = 200\\nprint(y)\\n\\nclass A:\\n    print(\"A\")\\n'"
      ]
     },
     "execution_count": 14,
     "metadata": {},
     "output_type": "execute_result"
    }
   ],
   "source": [
    "m = find_spec(\"mod\")\n",
    "m.loader.get_source(\"mod\")"
   ]
  },
  {
   "cell_type": "code",
   "execution_count": 8,
   "id": "83c9c028-470a-49b3-a6cc-d9f967425469",
   "metadata": {},
   "outputs": [
    {
     "data": {
      "text/plain": [
       "[_frozen_importlib.BuiltinImporter,\n",
       " _frozen_importlib.FrozenImporter,\n",
       " _frozen_importlib_external.PathFinder,\n",
       " <six._SixMetaPathImporter at 0x10c8769b0>,\n",
       " <pkg_resources.extern.VendorImporter at 0x10dbf9300>]"
      ]
     },
     "execution_count": 8,
     "metadata": {},
     "output_type": "execute_result"
    }
   ],
   "source": [
    "import sys\n",
    "sys.meta_path"
   ]
  },
  {
   "cell_type": "code",
   "execution_count": 1,
   "id": "89c67452-6262-4f27-8ec2-df6628331245",
   "metadata": {},
   "outputs": [
    {
     "name": "stdout",
     "output_type": "stream",
     "text": [
      "200\n",
      "A\n"
     ]
    }
   ],
   "source": [
    "import mod"
   ]
  },
  {
   "cell_type": "code",
   "execution_count": 2,
   "id": "f02003c4-f556-4db3-92d3-949103c9f7a5",
   "metadata": {},
   "outputs": [],
   "source": [
    "a = mod.A()"
   ]
  },
  {
   "cell_type": "code",
   "execution_count": 4,
   "id": "bde71e6e-5ca3-49e0-8c90-6d268ca6ec55",
   "metadata": {},
   "outputs": [],
   "source": [
    "from importlib import reload"
   ]
  },
  {
   "cell_type": "code",
   "execution_count": 5,
   "id": "35796286-737b-4a22-a13c-d02fece9e169",
   "metadata": {},
   "outputs": [
    {
     "name": "stdout",
     "output_type": "stream",
     "text": [
      "200\n",
      "A\n"
     ]
    },
    {
     "data": {
      "text/plain": [
       "<module 'mod' from '/Users/imad/Documents/python-materials/modules-and-packages/mod.py'>"
      ]
     },
     "execution_count": 5,
     "metadata": {},
     "output_type": "execute_result"
    }
   ],
   "source": [
    "reload(mod)"
   ]
  },
  {
   "cell_type": "code",
   "execution_count": 3,
   "id": "41431941-be17-499a-b2af-699511a131c8",
   "metadata": {},
   "outputs": [],
   "source": [
    "b = mod.A()"
   ]
  },
  {
   "cell_type": "code",
   "execution_count": 4,
   "id": "de332317-b541-45cf-9da2-991928a725eb",
   "metadata": {},
   "outputs": [
    {
     "data": {
      "text/plain": [
       "(mod.A, mod.A, True)"
      ]
     },
     "execution_count": 4,
     "metadata": {},
     "output_type": "execute_result"
    }
   ],
   "source": [
    "a.__class__, b.__class__, type(a) == type(b)"
   ]
  },
  {
   "cell_type": "code",
   "execution_count": 5,
   "id": "345de28d-d954-4a18-b2c4-580bf0a3b6a5",
   "metadata": {},
   "outputs": [],
   "source": [
    "from importlib.util import find_spec"
   ]
  },
  {
   "cell_type": "code",
   "execution_count": 7,
   "id": "291d72dd-a4eb-45ca-83d5-dddc6856ddc3",
   "metadata": {},
   "outputs": [
    {
     "data": {
      "text/plain": [
       "ModuleSpec(name='sys', loader=<class '_frozen_importlib.BuiltinImporter'>, origin='built-in')"
      ]
     },
     "execution_count": 7,
     "metadata": {},
     "output_type": "execute_result"
    }
   ],
   "source": [
    "find_spec(\"sys\")"
   ]
  },
  {
   "cell_type": "code",
   "execution_count": 6,
   "id": "08e6b24b-7546-4545-a621-73a9a63fa2ec",
   "metadata": {},
   "outputs": [
    {
     "data": {
      "text/plain": [
       "ModuleSpec(name='pandas', loader=<_frozen_importlib_external.SourceFileLoader object at 0x10e609f90>, origin='/Users/imad/anaconda3/envs/python-exp/lib/python3.10/site-packages/pandas/__init__.py', submodule_search_locations=['/Users/imad/anaconda3/envs/python-exp/lib/python3.10/site-packages/pandas'])"
      ]
     },
     "execution_count": 6,
     "metadata": {},
     "output_type": "execute_result"
    }
   ],
   "source": [
    "find_spec(\"pandas\")"
   ]
  },
  {
   "cell_type": "code",
   "execution_count": 21,
   "id": "4c91a469-0147-495b-8e41-92232fbede57",
   "metadata": {},
   "outputs": [],
   "source": [
    "import importlib"
   ]
  },
  {
   "cell_type": "code",
   "execution_count": null,
   "id": "22a22d5e-b7bd-431d-99b4-cdcea27de573",
   "metadata": {},
   "outputs": [],
   "source": [
    "importlib.import_module()"
   ]
  },
  {
   "cell_type": "code",
   "execution_count": 11,
   "id": "76d1435d-6edd-4834-967c-98800b78b12c",
   "metadata": {},
   "outputs": [
    {
     "data": {
      "text/plain": [
       "(['/Users/imad/anaconda3/envs/python-exp/lib/python3.10/site-packages/pandas'],\n",
       " 'pandas',\n",
       " 'pandas',\n",
       " '/Users/imad/anaconda3/envs/python-exp/lib/python3.10/site-packages/pandas/__init__.py',\n",
       " '\\npandas - a powerful data analysis and manipulation library for Python\\n=====================================================================\\n\\n**pandas** is a Python package providing fast, flexible, and expressive data\\nstructures designed to make working with \"relational\" or \"labeled\" data both\\neasy and intuitive. It aims to be the fundamental high-level building block for\\ndoing practical, **real world** data analysis in Python. Additionally, it has\\nthe broader goal of becoming **the most powerful and flexible open source data\\nanalysis / manipulation tool available in any language**. It is already well on\\nits way toward this goal.\\n\\nMain Features\\n-------------\\nHere are just a few of the things that pandas does well:\\n\\n  - Easy handling of missing data in floating point as well as non-floating\\n    point data.\\n  - Size mutability: columns can be inserted and deleted from DataFrame and\\n    higher dimensional objects\\n  - Automatic and explicit data alignment: objects can be explicitly aligned\\n    to a set of labels, or the user can simply ignore the labels and let\\n    `Series`, `DataFrame`, etc. automatically align the data for you in\\n    computations.\\n  - Powerful, flexible group by functionality to perform split-apply-combine\\n    operations on data sets, for both aggregating and transforming data.\\n  - Make it easy to convert ragged, differently-indexed data in other Python\\n    and NumPy data structures into DataFrame objects.\\n  - Intelligent label-based slicing, fancy indexing, and subsetting of large\\n    data sets.\\n  - Intuitive merging and joining data sets.\\n  - Flexible reshaping and pivoting of data sets.\\n  - Hierarchical labeling of axes (possible to have multiple labels per tick).\\n  - Robust IO tools for loading data from flat files (CSV and delimited),\\n    Excel files, databases, and saving/loading data from the ultrafast HDF5\\n    format.\\n  - Time series-specific functionality: date range generation and frequency\\n    conversion, moving window statistics, date shifting and lagging.\\n')"
      ]
     },
     "execution_count": 11,
     "metadata": {},
     "output_type": "execute_result"
    }
   ],
   "source": [
    "pd.__path__, pd.__name__, pd.__package__, pd.__file__, pd.__doc__"
   ]
  }
 ],
 "metadata": {
  "kernelspec": {
   "display_name": "Python 3 (ipykernel)",
   "language": "python",
   "name": "python3"
  },
  "language_info": {
   "codemirror_mode": {
    "name": "ipython",
    "version": 3
   },
   "file_extension": ".py",
   "mimetype": "text/x-python",
   "name": "python",
   "nbconvert_exporter": "python",
   "pygments_lexer": "ipython3",
   "version": "3.13.2"
  },
  "toc-autonumbering": false,
  "toc-showmarkdowntxt": false,
  "toc-showtags": false
 },
 "nbformat": 4,
 "nbformat_minor": 5
}
