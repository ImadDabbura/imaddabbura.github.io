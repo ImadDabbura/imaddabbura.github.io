{
 "cells": [
  {
   "cell_type": "markdown",
   "id": "6f972acd-a9f7-4a1f-8dea-1dfda848d51d",
   "metadata": {},
   "source": [
    "---\n",
    "title: Transformer Architecture Explained\n",
    "date: 2023-02-01\n",
    "image: feature.webp\n",
    "categories: [NLP, Deep Learning]\n",
    "---"
   ]
  },
  {
   "cell_type": "markdown",
   "id": "8465ac08-7cb7-4bd6-b624-e5a6b197d628",
   "metadata": {},
   "source": [
    "Placeholder"
   ]
  }
 ],
 "metadata": {
  "kernelspec": {
   "display_name": "Python 3 (ipykernel)",
   "language": "python",
   "name": "python3"
  },
  "language_info": {
   "codemirror_mode": {
    "name": "ipython",
    "version": 3
   },
   "file_extension": ".py",
   "mimetype": "text/x-python",
   "name": "python",
   "nbconvert_exporter": "python",
   "pygments_lexer": "ipython3",
   "version": "3.10.9"
  }
 },
 "nbformat": 4,
 "nbformat_minor": 5
}
