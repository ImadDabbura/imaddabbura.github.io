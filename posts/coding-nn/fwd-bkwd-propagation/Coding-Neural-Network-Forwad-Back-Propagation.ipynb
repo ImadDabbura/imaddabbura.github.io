{
 "cells": [
  {
   "cell_type": "markdown",
   "metadata": {},
   "source": [
    "---\n",
    "title: \"Coding Neural Network Part 1 - Forward & Backward Propagation\"\n",
    "subtitle: \"What it takes to go from input to output? And how to compute the gradients?\"\n",
    "date: \"2018-04-01\"\n",
    "image: \"feature.png\"\n",
    "categories: [\"Machine Learning\", \"Deep Learning\"]\n",
    "format:\n",
    "  html:\n",
    "    code-fold: true\n",
    "    code-tools: true\n",
    "jupyter: python3\n",
    "---"
   ]
  },
  {
   "cell_type": "markdown",
   "metadata": {},
   "source": [
    "![](feature.png){fig-align=\"center\" width=\"400\" height=\"400\"}"
   ]
  },
  {
   "cell_type": "markdown",
   "metadata": {},
   "source": [
    "## Why Neural Networks?"
   ]
  },
  {
   "cell_type": "markdown",
   "metadata": {},
   "source": [
    "According to *Universal Approximate Theorem*, Neural Networks can approximate as well as learn and represent any function given a large enough layer and desired error margin. The way neural network learns the true function is by building complex representations on top of simple ones. On each hidden layer, the neural network learns new feature space by first compute the affine (linear) transformations of the given inputs and then apply non-linear function which in turn will be the input of the next layer. This process will continue until we reach the output layer. Therefore, we can define neural network as information flows from inputs through hidden layers towards the output. For a 3-layers neural network, the learned function would be: $f(x) = f_3(f_2(f_1(x)))$ where:\n",
    "\n",
    "- $f_1(x)$: Function learned on first hidden layer\n",
    "- $f_2(x)$: Function learned on second hidden layer\n",
    "- $f_3(x)$: Function learned on output layer\n",
    "\n",
    "Therefore, on each layer we learn different representation that gets more complicated with later hidden layers.Below is an example of a 3-layers neural network (we don't count input layer):\n",
    "\n",
    "![**Figure 1**: Neural Network with two hidden layers](../images/neural_net.jpg){fig-align=\"center\"}"
   ]
  },
  {
   "cell_type": "markdown",
   "metadata": {},
   "source": [
    "For example, computers can't understand images directly and don't know what to do with pixels data. However, a neural network can build a simple representation of the image in the early hidden layers that identifies edges. Given the first hidden layer output, it can learn corners and contours. Given the second hidden layer, it can learn parts such as nose. Finally, it can learn the object identity.\n",
    "\n",
    "Since **truth is never linear** and representation is very critical to the performance of a machine learning algorithm, neural network can help us build very complex models and leave it to the algorithm to learn such representations without worrying about feature engineering that takes practitioners very long time and effort to curate a good representation. \n",
    "\n",
    "The article has two parts:\n",
    "\n",
    "1. Coding the neural network: This entails writing all the helper functions that would allow us to implement a multi-layer neural network. While doing so, I'll explain the theoretical parts whenever possible and give some advices on implementations.\n",
    "2. Application: We'll use the neural network we coded in the first part on image recognition problem to see if the network we built will be able to detect if the image has a cat or a dog and see it working :)"
   ]
  },
  {
   "cell_type": "code",
   "execution_count": 1,
   "metadata": {},
   "outputs": [],
   "source": [
    "# | echo: false\n",
    "%load_ext lab_black"
   ]
  },
  {
   "cell_type": "code",
   "execution_count": 2,
   "metadata": {
    "code_folding": [
     0
    ]
   },
   "outputs": [
    {
     "name": "stderr",
     "output_type": "stream",
     "text": [
      "/Users/imad/anaconda3/envs/dl/lib/python3.10/site-packages/scipy/__init__.py:146: UserWarning: A NumPy version >=1.16.5 and <1.23.0 is required for this version of SciPy (detected version 1.23.1\n",
      "  warnings.warn(f\"A NumPy version >={np_minversion} and <{np_maxversion}\"\n"
     ]
    }
   ],
   "source": [
    "# | output: false\n",
    "import os as os\n",
    "\n",
    "import h5py\n",
    "import matplotlib.pyplot as plt\n",
    "import numpy as np\n",
    "import seaborn as sns\n",
    "\n",
    "%matplotlib inline\n",
    "sns.set_context(\"notebook\")\n",
    "plt.style.use(\"fivethirtyeight\")"
   ]
  },
  {
   "cell_type": "markdown",
   "metadata": {},
   "source": [
    "<a id=\"Coding the NN\"></a>"
   ]
  },
  {
   "cell_type": "markdown",
   "metadata": {},
   "source": [
    "## I. Coding The Neural Network"
   ]
  },
  {
   "cell_type": "markdown",
   "metadata": {},
   "source": [
    "### Forward Propagation"
   ]
  },
  {
   "cell_type": "markdown",
   "metadata": {},
   "source": [
    "The input $X$ provides the initial information that then propagates to the hidden units at each layer and finally produce the output $\\widehat{Y}$. The architecture of the network entails determining its depth, width, and activation functions used on each layer. **Depth** is the number of hidden layers. **Width** is the number of units (nodes) on each hidden layer since we don't control neither input layer nor output layer dimensions. There are quite a few set of activation functions such *Rectified Linear Unit, Sigmoid, Hyperbolic tangent, etc*. Research has proven that deeper networks outperform networks with more hidden units. Therefore, it's always better and won't hurt to train a deeper network (with diminishing returns).\n",
    "\n",
    "Lets first introduce some notations that will be used throughout the article:\n",
    "\n",
    "* $W^l$: Weights matrix for the $l^{th}$ layer\n",
    "* $b^l$: Bias vector for the $l^{th}$ layer\n",
    "* $Z^l$: Linear (affine) transformations of given inputs for the $l^{th}$ layer\n",
    "* $g^l$: Activation function applied on the $l^{th}$ layer\n",
    "* $A^l$: Post-activation output for the $l^{th}$ layer\n",
    "* $dW^l$: Derivative of the cost function w.r.t  $W^l$ ($\\frac{\\partial J}{\\partial W^l}$)\n",
    "* $db^l$: Derivative of the cost function w.r.t $b^l$ ($\\frac{\\partial J}{\\partial b^l})$)\n",
    "* $dZ^l$: Derivative of the cost function w.r.t $Z^l$ ($\\frac{\\partial J}{\\partial Z^l}$)\n",
    "* $dA^l$: Derivative of the cost function w.r.t $A^l$ ($\\frac{\\partial J}{\\partial A^l}$)\n",
    "* $n^l$: Number of units (nodes) of the $l^{th}$ layer\n",
    "* $m$: Number of examples\n",
    "* $L$: Number of layers in the network (not including the input layer)\n",
    "\n",
    "Next, we'll write down the dimensions of a multi-layer neural network in the general form to help us in matrix multiplication because one of the major challenges in implementing a neural network is getting the dimensions right.\n",
    "\n",
    "* $W^l,\\ dW^l$: Number of units (nodes) in $l^{th}$ layer x Number of units (nodes) in $l - 1$ layer\n",
    "* $b^l,\\ db^l$: Number of units (nodes) in $l^{th}$ layer x 1\n",
    "* $Z^l,\\ dZ^l$: Number of units (nodes) in $l^{th}$ layer x number of examples\n",
    "* $A^l,\\ dA^l$: Number of units (nodes) in $l^{th}$ layer x number of examples\n",
    "\n",
    "The two equations we need to implement forward propagations are:\n",
    "$$Z^l = W^lA^{l - 1} + b ^l\\tag1\\\\{}$$\n",
    "$$A^l = g^l(Z^l) = g^l(W^lA^{l - 1} + b ^l)\\tag2$$\n",
    "These computations will take place on each layer."
   ]
  },
  {
   "cell_type": "markdown",
   "metadata": {},
   "source": [
    "### Parameters Initialization"
   ]
  },
  {
   "cell_type": "markdown",
   "metadata": {},
   "source": [
    "We'll first initialize the weight matrices and the bias vectors. It's important to note that we shouldn't initialize all the parameters to zero because doing so will lead the gradients to be equal and on each iteration the output would be the same and the learning algorithm won't learn anything. Therefore, it's important to randomly initialize the parameters to values between 0 and 1. It's also recommended to multiply the random values by small scalar such as 0.01 to make the activation units active and be on the regions where activation functions' derivatives are not close to zero."
   ]
  },
  {
   "cell_type": "code",
   "execution_count": 3,
   "metadata": {
    "code_folding": [
     0
    ]
   },
   "outputs": [],
   "source": [
    "# Initialize parameters\n",
    "def initialize_parameters(layers_dims):\n",
    "    \"\"\"\n",
    "    Initialize parameters dictionary.\n",
    "\n",
    "    Weight matrices will be initialized to random values from uniform normal\n",
    "    distribution.\n",
    "    bias vectors will be initialized to zeros.\n",
    "\n",
    "    Arguments\n",
    "    ---------\n",
    "    layers_dims : list or array-like\n",
    "        dimensions of each layer in the network.\n",
    "\n",
    "    Returns\n",
    "    -------\n",
    "    parameters : dict\n",
    "        weight matrix and the bias vector for each layer.\n",
    "    \"\"\"\n",
    "    np.random.seed(1)\n",
    "    parameters = {}\n",
    "    L = len(layers_dims)\n",
    "\n",
    "    for l in range(1, L):\n",
    "        parameters[\"W\" + str(l)] = (\n",
    "            np.random.randn(layers_dims[l], layers_dims[l - 1]) * 0.01\n",
    "        )\n",
    "        parameters[\"b\" + str(l)] = np.zeros((layers_dims[l], 1))\n",
    "\n",
    "        assert parameters[\"W\" + str(l)].shape == (layers_dims[l], layers_dims[l - 1])\n",
    "        assert parameters[\"b\" + str(l)].shape == (layers_dims[l], 1)\n",
    "\n",
    "    return parameters"
   ]
  },
  {
   "cell_type": "markdown",
   "metadata": {},
   "source": [
    "### Activation Functions"
   ]
  },
  {
   "cell_type": "markdown",
   "metadata": {},
   "source": [
    "There is no definitive guide for which activation function works best on specific problems. It's a trial and error process where one should try different set of functions and see which one works best on the problem at hand. We'll cover 4 of the most commonly used activation functions:\n",
    "\n",
    "- **Sigmoid function ($\\sigma$)**: $g(z) = \\frac{1}{1 + e^{-z}}$. It's recommended to be used only on the output layer so that we can easily interpret the output as probabilities since it has restricted output between 0 and 1. One of the main disadvantages for using sigmoid function on hidden layers is that the gradient is very close to zero over a large portion of its domain which makes it slow and harder for the learning algorithm to learn.\n",
    "- **Hyperbolic Tangent function**: $g(z) = \\frac{e^z - e^{-z}}{e^z + e^{-z}}$. It's superior to sigmoid function in which the mean of its output is very close to zero, which in other words center the output of the activation units around zero and make the range of values very small which means faster to learn. The disadvantage that it shares with sigmoid function is that the gradient is very small on good portion of the domain.\n",
    "- **Rectified Linear Unit (ReLU)**: $g(z) = max\\{0, z\\}$. The models that are close to linear are easy to optimize. Since ReLU shares a lot of the properties of linear functions, it tends to work well on most of the problems. The only issue is that the derivative is not defined at $z = 0$, which we can overcome by assigning the derivative to 0 at $z = 0$. However, this means that for $z\\leq 0$ the gradient is zero and again can't learn.\n",
    "- **Leaky Rectified Linear Unit**: $g(z) = max\\{\\alpha*z, z\\}$. It overcomes the zero gradient issue from ReLU and assigns $\\alpha$ which is a small value for $z\\leq 0$.\n",
    "\n",
    "If you're not sure which activation function to choose, start with ReLU.\n",
    "\n",
    "Next, we'll implement the above activation functions and draw a graph for each one to make it easier to see the domain and range of each function."
   ]
  },
  {
   "cell_type": "code",
   "execution_count": 4,
   "metadata": {
    "code_folding": [
     0
    ]
   },
   "outputs": [],
   "source": [
    "# Define activation functions that will be used in forward propagation\n",
    "def sigmoid(Z):\n",
    "    \"\"\"\n",
    "    Computes the sigmoid of Z element-wise.\n",
    "\n",
    "    Arguments\n",
    "    ---------\n",
    "    Z : array\n",
    "        output of affine transformation.\n",
    "\n",
    "    Returns\n",
    "    -------\n",
    "    A : array\n",
    "        post activation output.\n",
    "    Z : array\n",
    "        output of affine transformation.\n",
    "    \"\"\"\n",
    "    A = 1 / (1 + np.exp(-Z))\n",
    "\n",
    "    return A, Z\n",
    "\n",
    "\n",
    "def tanh(Z):\n",
    "    \"\"\"\n",
    "    Computes the Hyperbolic Tagent of Z elemnet-wise.\n",
    "\n",
    "    Arguments\n",
    "    ---------\n",
    "    Z : array\n",
    "        output of affine transformation.\n",
    "\n",
    "    Returns\n",
    "    -------\n",
    "    A : array\n",
    "        post activation output.\n",
    "    Z : array\n",
    "        output of affine transformation.\n",
    "    \"\"\"\n",
    "    A = np.tanh(Z)\n",
    "\n",
    "    return A, Z\n",
    "\n",
    "\n",
    "def relu(Z):\n",
    "    \"\"\"\n",
    "    Computes the Rectified Linear Unit (ReLU) element-wise.\n",
    "\n",
    "    Arguments\n",
    "    ---------\n",
    "    Z : array\n",
    "        output of affine transformation.\n",
    "\n",
    "    Returns\n",
    "    -------\n",
    "    A : array\n",
    "        post activation output.\n",
    "    Z : array\n",
    "        output of affine transformation.\n",
    "    \"\"\"\n",
    "    A = np.maximum(0, Z)\n",
    "\n",
    "    return A, Z\n",
    "\n",
    "\n",
    "def leaky_relu(Z):\n",
    "    \"\"\"\n",
    "    Computes Leaky Rectified Linear Unit element-wise.\n",
    "\n",
    "    Arguments\n",
    "    ---------\n",
    "    Z : array\n",
    "        output of affine transformation.\n",
    "\n",
    "    Returns\n",
    "    -------\n",
    "    A : array\n",
    "        post activation output.\n",
    "    Z : array\n",
    "        output of affine transformation.\n",
    "    \"\"\"\n",
    "    A = np.maximum(0.1 * Z, Z)\n",
    "\n",
    "    return A, Z"
   ]
  },
  {
   "cell_type": "code",
   "execution_count": 5,
   "metadata": {
    "code_folding": [
     0
    ]
   },
   "outputs": [
    {
     "data": {
      "image/png": "[encoded data removed]",
      "text/plain": [
       "<Figure size 864x576 with 4 Axes>"
      ]
     },
     "metadata": {},
     "output_type": "display_data"
    }
   ],
   "source": [
    "# Plot the 4 activation functions\n",
    "z = np.linspace(-10, 10, 100)\n",
    "\n",
    "# Computes post-activation outputs\n",
    "A_sigmoid, z = sigmoid(z)\n",
    "A_tanh, z = tanh(z)\n",
    "A_relu, z = relu(z)\n",
    "A_leaky_relu, z = leaky_relu(z)\n",
    "\n",
    "# Plot sigmoid\n",
    "plt.figure(figsize=(12, 8))\n",
    "plt.subplot(2, 2, 1)\n",
    "plt.plot(z, A_sigmoid, label=\"Function\")\n",
    "plt.plot(z, A_sigmoid * (1 - A_sigmoid), label=\"Derivative\")\n",
    "plt.legend(loc=\"upper left\")\n",
    "plt.xlabel(\"z\")\n",
    "plt.ylabel(r\"$\\frac{1}{1 + e^{-z}}$\")\n",
    "plt.title(\"Sigmoid Function\", fontsize=16)\n",
    "# Plot tanh\n",
    "plt.subplot(2, 2, 2)\n",
    "plt.plot(z, A_tanh, \"b\", label=\"Function\")\n",
    "plt.plot(z, 1 - np.square(A_tanh), \"r\", label=\"Derivative\")\n",
    "plt.legend(loc=\"upper left\")\n",
    "plt.xlabel(\"z\")\n",
    "plt.ylabel(r\"$\\frac{e^z - e^{-z}}{e^z + e^{-z}}$\")\n",
    "plt.title(\"Hyperbolic Tangent Function\", fontsize=16)\n",
    "# plot relu\n",
    "plt.subplot(2, 2, 3)\n",
    "plt.plot(z, A_relu, \"g\")\n",
    "plt.xlabel(\"z\")\n",
    "plt.ylabel(r\"$max\\{0, z\\}$\")\n",
    "plt.title(\"ReLU Function\", fontsize=16)\n",
    "# plot leaky relu\n",
    "plt.subplot(2, 2, 4)\n",
    "plt.plot(z, A_leaky_relu, \"y\")\n",
    "plt.xlabel(\"z\")\n",
    "plt.ylabel(r\"$max\\{0.1z, z\\}$\")\n",
    "plt.title(\"Leaky ReLU Function\", fontsize=16)\n",
    "plt.tight_layout()"
   ]
  },
  {
   "cell_type": "markdown",
   "metadata": {},
   "source": [
    "### Feed Forward"
   ]
  },
  {
   "cell_type": "markdown",
   "metadata": {},
   "source": [
    "Given its inputs from previous layer, each unit computes affine transformation $z = W^Tx + b$ and then apply an activation function $g(z)$ such as ReLU element-wise. During the process, we'll store (cache) all variables computed and used on each layer to be used in back-propagation. We'll write first two helper functions that will be used in the L-model forward propagation to make it easier to debug. Keep in mind that on each layer, we may have different activation function."
   ]
  },
  {
   "cell_type": "code",
   "execution_count": 6,
   "metadata": {
    "code_folding": [
     0
    ]
   },
   "outputs": [],
   "source": [
    "# Define helper functions that will be used in L-model forward prop\n",
    "def linear_forward(A_prev, W, b):\n",
    "    \"\"\"\n",
    "    Computes affine transformation of the input.\n",
    "\n",
    "    Arguments\n",
    "    ---------\n",
    "    A_prev : 2d-array\n",
    "        activations output from previous layer.\n",
    "    W : 2d-array\n",
    "        weight matrix, shape: size of current layer x size of previuos layer.\n",
    "    b : 2d-array\n",
    "        bias vector, shape: size of current layer x 1.\n",
    "\n",
    "    Returns\n",
    "    -------\n",
    "    Z : 2d-array\n",
    "        affine transformation output.\n",
    "    cache : tuple\n",
    "        stores A_prev, W, b to be used in backpropagation.\n",
    "    \"\"\"\n",
    "    Z = np.dot(W, A_prev) + b\n",
    "    cache = (A_prev, W, b)\n",
    "\n",
    "    return Z, cache\n",
    "\n",
    "\n",
    "def linear_activation_forward(A_prev, W, b, activation_fn):\n",
    "    \"\"\"\n",
    "    Computes post-activation output using non-linear activation function.\n",
    "\n",
    "    Arguments\n",
    "    ---------\n",
    "    A_prev : 2d-array\n",
    "        activations output from previous layer.\n",
    "    W : 2d-array\n",
    "        weight matrix, shape: size of current layer x size of previuos layer.\n",
    "    b : 2d-array\n",
    "        bias vector, shape: size of current layer x 1.\n",
    "    activation_fn : str\n",
    "        non-linear activation function to be used: \"sigmoid\", \"tanh\", \"relu\".\n",
    "\n",
    "    Returns\n",
    "    -------\n",
    "    A : 2d-array\n",
    "        output of the activation function.\n",
    "    cache : tuple\n",
    "        stores linear_cache and activation_cache. ((A_prev, W, b), Z) to be used in backpropagation.\n",
    "    \"\"\"\n",
    "    assert (\n",
    "        activation_fn == \"sigmoid\" or activation_fn == \"tanh\" or activation_fn == \"relu\"\n",
    "    )\n",
    "\n",
    "    if activation_fn == \"sigmoid\":\n",
    "        Z, linear_cache = linear_forward(A_prev, W, b)\n",
    "        A, activation_cache = sigmoid(Z)\n",
    "\n",
    "    elif activation_fn == \"tanh\":\n",
    "        Z, linear_cache = linear_forward(A_prev, W, b)\n",
    "        A, activation_cache = tanh(Z)\n",
    "\n",
    "    elif activation_fn == \"relu\":\n",
    "        Z, linear_cache = linear_forward(A_prev, W, b)\n",
    "        A, activation_cache = relu(Z)\n",
    "\n",
    "    assert A.shape == (W.shape[0], A_prev.shape[1])\n",
    "\n",
    "    cache = (linear_cache, activation_cache)\n",
    "\n",
    "    return A, cache\n",
    "\n",
    "\n",
    "def L_model_forward(X, parameters, hidden_layers_activation_fn=\"relu\"):\n",
    "    \"\"\"\n",
    "    Computes the output layer through looping over all units in topological\n",
    "    order.\n",
    "\n",
    "    Arguments\n",
    "    ---------\n",
    "    X : 2d-array\n",
    "        input matrix of shape input_size x training_examples.\n",
    "    parameters : dict\n",
    "        contains all the weight matrices and bias vectors for all layers.\n",
    "    hidden_layers_activation_fn : str\n",
    "        activation function to be used on hidden layers: \"tanh\", \"relu\".\n",
    "\n",
    "    Returns\n",
    "    -------\n",
    "    AL : 2d-array\n",
    "        probability vector of shape 1 x training_examples.\n",
    "    caches : list\n",
    "        that contains L tuples where each layer has: A_prev, W, b, Z.\n",
    "    \"\"\"\n",
    "    A = X\n",
    "    caches = []\n",
    "    L = len(parameters) // 2\n",
    "\n",
    "    for l in range(1, L):\n",
    "        A_prev = A\n",
    "        A, cache = linear_activation_forward(\n",
    "            A_prev,\n",
    "            parameters[\"W\" + str(l)],\n",
    "            parameters[\"b\" + str(l)],\n",
    "            activation_fn=hidden_layers_activation_fn,\n",
    "        )\n",
    "        caches.append(cache)\n",
    "\n",
    "    AL, cache = linear_activation_forward(\n",
    "        A, parameters[\"W\" + str(L)], parameters[\"b\" + str(L)], activation_fn=\"sigmoid\"\n",
    "    )\n",
    "    caches.append(cache)\n",
    "\n",
    "    assert AL.shape == (1, X.shape[1])\n",
    "\n",
    "    return AL, caches"
   ]
  },
  {
   "cell_type": "markdown",
   "metadata": {},
   "source": [
    "### Cost"
   ]
  },
  {
   "cell_type": "markdown",
   "metadata": {},
   "source": [
    "We'll use the binary **Cross-Entropy** cost. It uses the log-likelihood method to estimate its error. The cost is:\n",
    "$$J(W, b) = -\\frac{1}{m}\\sum_{i = 1}^m\\big(y^ilog(\\widehat{y^i}) + (1 - y^i)log(1 - \\widehat{y^i})\\big)\\tag3$$\n",
    "The above cost function is convex; however, neural network usually stuck on a local minimum and is not guaranteed to find the optimal parameters. We'll use here gradient-based learning."
   ]
  },
  {
   "cell_type": "code",
   "execution_count": 7,
   "metadata": {
    "code_folding": [
     0
    ]
   },
   "outputs": [],
   "source": [
    "# Compute cross-entropy cost\n",
    "def compute_cost(AL, y):\n",
    "    \"\"\"\n",
    "    Computes the binary Cross-Entropy cost.\n",
    "\n",
    "    Arguments\n",
    "    ---------\n",
    "    AL : 2d-array\n",
    "        probability vector of shape 1 x training_examples.\n",
    "    y : 2d-array\n",
    "        true \"label\" vector.\n",
    "\n",
    "    Returns\n",
    "    -------\n",
    "    cost : float\n",
    "        binary cross-entropy cost.\n",
    "    \"\"\"\n",
    "    m = y.shape[1]\n",
    "    cost = -(1 / m) * np.sum(\n",
    "        np.multiply(y, np.log(AL)) + np.multiply(1 - y, np.log(1 - AL))\n",
    "    )\n",
    "\n",
    "    return cost"
   ]
  },
  {
   "cell_type": "markdown",
   "metadata": {},
   "source": [
    "### Back-Propagation"
   ]
  },
  {
   "cell_type": "markdown",
   "metadata": {},
   "source": [
    "Backpropagation allows the information to go back from the cost backward through the network in order to compute the gradient. Therefore, loop over the nodes starting at the final node in reverse topological order to compute the derivative of the final node output with respect to each edge's node tail. Doing so will help us know who is responsible for the most error and change the parameters in that direction. The following derivatives' formulas will help us write the back-propagate functions:\n",
    "$$dA^L = \\frac{A^L - Y}{A^L(1 - A^L)}\\tag4\\\\{}$$\n",
    "$$dZ^L = A^L - Y\\tag5\\\\{}$$\n",
    "$$dW^l = \\frac{1}{m}dZ^l{A^{l - 1}}^T\\tag6\\\\{}$$\n",
    "$$db^l = \\frac{1}{m}\\sum_i(dZ^l)\\tag7\\\\{}$$\n",
    "$$dA^{l - 1} = {W^l}^TdZ^l\\tag8\\\\{}$$\n",
    "$$dZ^{l} = dA^l*g^{'l}(Z^l)\\tag9\\\\{}$$\n",
    "Since $b^l$ is always a vector, the sum would be across rows (since each column is an example)."
   ]
  },
  {
   "cell_type": "code",
   "execution_count": 8,
   "metadata": {
    "code_folding": [
     0
    ]
   },
   "outputs": [],
   "source": [
    "# Define derivative of activation functions w.r.t z that will be used in back-propagation\n",
    "def sigmoid_gradient(dA, Z):\n",
    "    \"\"\"\n",
    "    Computes the gradient of sigmoid output w.r.t input Z.\n",
    "\n",
    "    Arguments\n",
    "    ---------\n",
    "    dA : 2d-array\n",
    "        post-activation gradient, of any shape.\n",
    "    Z : 2d-array\n",
    "        input used for the activation fn on this layer.\n",
    "\n",
    "    Returns\n",
    "    -------\n",
    "    dZ : 2d-array\n",
    "        gradient of the cost with respect to Z.\n",
    "    \"\"\"\n",
    "    A, Z = sigmoid(Z)\n",
    "    dZ = dA * A * (1 - A)\n",
    "\n",
    "    return dZ\n",
    "\n",
    "\n",
    "def tanh_gradient(dA, Z):\n",
    "    \"\"\"\n",
    "    Computes the gradient of hyperbolic tangent output w.r.t input Z.\n",
    "\n",
    "    Arguments\n",
    "    ---------\n",
    "    dA : 2d-array\n",
    "        post-activation gradient, of any shape.\n",
    "    Z : 2d-array\n",
    "        input used for the activation fn on this layer.\n",
    "\n",
    "    Returns\n",
    "    -------\n",
    "    dZ : 2d-array\n",
    "        gradient of the cost with respect to Z.\n",
    "    \"\"\"\n",
    "    A, Z = tanh(Z)\n",
    "    dZ = dA * (1 - np.square(A))\n",
    "\n",
    "    return dZ\n",
    "\n",
    "\n",
    "def relu_gradient(dA, Z):\n",
    "    \"\"\"\n",
    "    Computes the gradient of ReLU output w.r.t input Z.\n",
    "\n",
    "    Arguments\n",
    "    ---------\n",
    "    dA : 2d-array\n",
    "        post-activation gradient, of any shape.\n",
    "    Z : 2d-array\n",
    "        input used for the activation fn on this layer.\n",
    "\n",
    "    Returns\n",
    "    -------\n",
    "    dZ : 2d-array\n",
    "        gradient of the cost with respect to Z.\n",
    "    \"\"\"\n",
    "    A, Z = relu(Z)\n",
    "    dZ = np.multiply(dA, np.int64(A > 0))\n",
    "\n",
    "    return dZ\n",
    "\n",
    "\n",
    "# define helper functions that will be used in L-model back-prop\n",
    "def linear_backword(dZ, cache):\n",
    "    \"\"\"\n",
    "    Computes the gradient of the output w.r.t weight, bias, and post-activation\n",
    "    output of (l - 1) layers at layer l.\n",
    "\n",
    "    Arguments\n",
    "    ---------\n",
    "    dZ : 2d-array\n",
    "        gradient of the cost w.r.t. the linear output (of current layer l).\n",
    "    cache : tuple\n",
    "        values of (A_prev, W, b) coming from the forward propagation in the current layer.\n",
    "\n",
    "    Returns\n",
    "    -------\n",
    "    dA_prev : 2d-array\n",
    "        gradient of the cost w.r.t. the activation (of the previous layer l-1).\n",
    "    dW : 2d-array\n",
    "        gradient of the cost w.r.t. W (current layer l).\n",
    "    db : 2d-array\n",
    "        gradient of the cost w.r.t. b (current layer l).\n",
    "    \"\"\"\n",
    "    A_prev, W, b = cache\n",
    "    m = A_prev.shape[1]\n",
    "\n",
    "    dW = (1 / m) * np.dot(dZ, A_prev.T)\n",
    "    db = (1 / m) * np.sum(dZ, axis=1, keepdims=True)\n",
    "    dA_prev = np.dot(W.T, dZ)\n",
    "\n",
    "    assert dA_prev.shape == A_prev.shape\n",
    "    assert dW.shape == W.shape\n",
    "    assert db.shape == b.shape\n",
    "\n",
    "    return dA_prev, dW, db\n",
    "\n",
    "\n",
    "def linear_activation_backward(dA, cache, activation_fn):\n",
    "    \"\"\"\n",
    "    Arguments\n",
    "    ---------\n",
    "    dA : 2d-array\n",
    "        post-activation gradient for current layer l.\n",
    "    cache : tuple\n",
    "        values of (linear_cache, activation_cache).\n",
    "    activation : str\n",
    "        activation used in this layer: \"sigmoid\", \"tanh\", or \"relu\".\n",
    "\n",
    "    Returns\n",
    "    -------\n",
    "    dA_prev : 2d-array\n",
    "        gradient of the cost w.r.t. the activation (of the previous layer l-1), same shape as A_prev.\n",
    "    dW : 2d-array\n",
    "        gradient of the cost w.r.t. W (current layer l), same shape as W.\n",
    "    db : 2d-array\n",
    "        gradient of the cost w.r.t. b (current layer l), same shape as b.\n",
    "    \"\"\"\n",
    "    linear_cache, activation_cache = cache\n",
    "\n",
    "    if activation_fn == \"sigmoid\":\n",
    "        dZ = sigmoid_gradient(dA, activation_cache)\n",
    "        dA_prev, dW, db = linear_backword(dZ, linear_cache)\n",
    "\n",
    "    elif activation_fn == \"tanh\":\n",
    "        dZ = tanh_gradient(dA, activation_cache)\n",
    "        dA_prev, dW, db = linear_backword(dZ, linear_cache)\n",
    "\n",
    "    elif activation_fn == \"relu\":\n",
    "        dZ = relu_gradient(dA, activation_cache)\n",
    "        dA_prev, dW, db = linear_backword(dZ, linear_cache)\n",
    "\n",
    "    return dA_prev, dW, db\n",
    "\n",
    "\n",
    "def L_model_backward(AL, y, caches, hidden_layers_activation_fn=\"relu\"):\n",
    "    \"\"\"\n",
    "    Computes the gradient of output layer w.r.t weights, biases, etc. starting\n",
    "    on the output layer in reverse topological order.\n",
    "\n",
    "    Arguments\n",
    "    ---------\n",
    "    AL : 2d-array\n",
    "        probability vector, output of the forward propagation (L_model_forward()).\n",
    "    y : 2d-array\n",
    "        true \"label\" vector (containing 0 if non-cat, 1 if cat).\n",
    "    caches : list\n",
    "        list of caches for all layers.\n",
    "    hidden_layers_activation_fn :\n",
    "        activation function used on hidden layers: \"tanh\", \"relu\".\n",
    "\n",
    "    Returns\n",
    "    -------\n",
    "    grads : dict\n",
    "        with the gradients.\n",
    "    \"\"\"\n",
    "    y = y.reshape(AL.shape)\n",
    "    L = len(caches)\n",
    "    grads = {}\n",
    "\n",
    "    dAL = np.divide(AL - y, np.multiply(AL, 1 - AL))\n",
    "\n",
    "    (\n",
    "        grads[\"dA\" + str(L - 1)],\n",
    "        grads[\"dW\" + str(L)],\n",
    "        grads[\"db\" + str(L)],\n",
    "    ) = linear_activation_backward(dAL, caches[L - 1], \"sigmoid\")\n",
    "\n",
    "    for l in range(L - 1, 0, -1):\n",
    "        current_cache = caches[l - 1]\n",
    "        (\n",
    "            grads[\"dA\" + str(l - 1)],\n",
    "            grads[\"dW\" + str(l)],\n",
    "            grads[\"db\" + str(l)],\n",
    "        ) = linear_activation_backward(\n",
    "            grads[\"dA\" + str(l)], current_cache, hidden_layers_activation_fn\n",
    "        )\n",
    "\n",
    "    return grads\n",
    "\n",
    "\n",
    "# define the function to update both weight matrices and bias vectors\n",
    "def update_parameters(parameters, grads, learning_rate):\n",
    "    \"\"\"\n",
    "    Update the parameters' values using gradient descent rule.\n",
    "\n",
    "    Arguments\n",
    "    ---------\n",
    "    parameters : dict\n",
    "        contains all the weight matrices and bias vectors for all layers.\n",
    "    grads : dict\n",
    "        stores all gradients (output of L_model_backward).\n",
    "\n",
    "    Returns\n",
    "    -------\n",
    "    parameters : dict\n",
    "        updated parameters.\n",
    "    \"\"\"\n",
    "    L = len(parameters) // 2\n",
    "\n",
    "    for l in range(1, L + 1):\n",
    "        parameters[\"W\" + str(l)] = (\n",
    "            parameters[\"W\" + str(l)] - learning_rate * grads[\"dW\" + str(l)]\n",
    "        )\n",
    "        parameters[\"b\" + str(l)] = (\n",
    "            parameters[\"b\" + str(l)] - learning_rate * grads[\"db\" + str(l)]\n",
    "        )\n",
    "\n",
    "    return parameters"
   ]
  },
  {
   "cell_type": "markdown",
   "metadata": {},
   "source": [
    "## Application"
   ]
  },
  {
   "cell_type": "markdown",
   "metadata": {},
   "source": [
    "The dataset that we'll be working on has 209 images. Each image is 64 x 64 pixels on RGB scale. We'll build a neural network to classify if the image has a cat or not. Therefore, $y^i \\in \\{0, 1\\}.$\n",
    "\n",
    "- We'll first load the images.\n",
    "- Show sample image for a cat.\n",
    "- Reshape input matrix so that each column would be one example. Also, since each image is 64 x 64 x 3, we'll end up having 12,288 features for each image. Therefore, the input matrix would be 12,288 x 209.\n",
    "- Standardize the data so that the gradients don't go out of control. Also, it will help hidden units have similar range of values. For now, we'll divide every pixel by 255 which shouldn't be an issue. However, it's better to standardize the data to have a mean of 0 and a standard deviation of 1."
   ]
  },
  {
   "cell_type": "code",
   "execution_count": 10,
   "metadata": {
    "code_folding": [
     0
    ]
   },
   "outputs": [
    {
     "name": "stdout",
     "output_type": "stream",
     "text": [
      "Original dimensions:\n",
      "--------------------\n",
      "Training: (209, 64, 64, 3), (209,)\n",
      "Test: (50, 64, 64, 3), (50,)\n",
      "\n",
      "New dimensions:\n",
      "---------------\n",
      "Training: (12288, 209), (1, 209)\n",
      "Test: (12288, 50), (1, 50)\n"
     ]
    },
    {
     "data": {
      "image/png": "[encoded data removed]",
      "text/plain": [
       "<Figure size 432x432 with 1 Axes>"
      ]
     },
     "metadata": {},
     "output_type": "display_data"
    }
   ],
   "source": [
    "# Import training dataset\n",
    "train_dataset = h5py.File(\"../../data/train_catvnoncat.h5\")\n",
    "X_train = np.array(train_dataset[\"train_set_x\"])\n",
    "y_train = np.array(train_dataset[\"train_set_y\"])\n",
    "\n",
    "test_dataset = h5py.File(\"../../data/test_catvnoncat.h5\")\n",
    "X_test = np.array(test_dataset[\"test_set_x\"])\n",
    "y_test = np.array(test_dataset[\"test_set_y\"])\n",
    "\n",
    "# print the shape of input data and label vector\n",
    "print(\n",
    "    f\"\"\"Original dimensions:\\n{20 * '-'}\\nTraining: {X_train.shape}, {y_train.shape}\n",
    "Test: {X_test.shape}, {y_test.shape}\"\"\"\n",
    ")\n",
    "\n",
    "# plot cat image\n",
    "plt.figure(figsize=(6, 6))\n",
    "plt.imshow(X_train[50])\n",
    "plt.axis(\"off\")\n",
    "\n",
    "# Transform input data and label vector\n",
    "X_train = X_train.reshape(209, -1).T\n",
    "y_train = y_train.reshape(-1, 209)\n",
    "\n",
    "X_test = X_test.reshape(50, -1).T\n",
    "y_test = y_test.reshape(-1, 50)\n",
    "\n",
    "# standarize the data\n",
    "X_train = X_train / 255\n",
    "X_test = X_test / 255\n",
    "\n",
    "print(\n",
    "    f\"\"\"\\nNew dimensions:\\n{15 * '-'}\\nTraining: {X_train.shape}, {y_train.shape}\n",
    "Test: {X_test.shape}, {y_test.shape}\"\"\"\n",
    ")"
   ]
  },
  {
   "cell_type": "markdown",
   "metadata": {},
   "source": [
    "Now, our dataset is ready to be used and test our neural network implementation. Let's first write **multi-layer model** function to implement gradient-based learning using predefined number of iterations and learning rate."
   ]
  },
  {
   "cell_type": "code",
   "execution_count": 11,
   "metadata": {
    "code_folding": [
     0
    ]
   },
   "outputs": [],
   "source": [
    "# Define the multi-layer model using all the helper functions we wrote before\n",
    "\n",
    "\n",
    "def L_layer_model(\n",
    "    X,\n",
    "    y,\n",
    "    layers_dims,\n",
    "    learning_rate=0.01,\n",
    "    num_iterations=3000,\n",
    "    print_cost=True,\n",
    "    hidden_layers_activation_fn=\"relu\",\n",
    "):\n",
    "    \"\"\"\n",
    "    Implements multilayer neural network using gradient descent as the\n",
    "    learning algorithm.\n",
    "\n",
    "    Arguments\n",
    "    ---------\n",
    "    X : 2d-array\n",
    "        data, shape: number of examples x num_px * num_px * 3.\n",
    "    y : 2d-array\n",
    "        true \"label\" vector, shape: 1 x number of examples.\n",
    "    layers_dims : list\n",
    "        input size and size of each layer, length: number of layers + 1.\n",
    "    learning_rate : float\n",
    "        learning rate of the gradient descent update rule.\n",
    "    num_iterations : int\n",
    "        number of iterations of the optimization loop.\n",
    "    print_cost : bool\n",
    "        if True, it prints the cost every 100 steps.\n",
    "    hidden_layers_activation_fn : str\n",
    "        activation function to be used on hidden layers: \"tanh\", \"relu\".\n",
    "\n",
    "    Returns\n",
    "    -------\n",
    "    parameters : dict\n",
    "        parameters learnt by the model. They can then be used to predict test examples.\n",
    "    \"\"\"\n",
    "    np.random.seed(1)\n",
    "\n",
    "    # initialize parameters\n",
    "    parameters = initialize_parameters(layers_dims)\n",
    "\n",
    "    # intialize cost list\n",
    "    cost_list = []\n",
    "\n",
    "    # iterate over num_iterations\n",
    "    for i in range(num_iterations):\n",
    "        # iterate over L-layers to get the final output and the cache\n",
    "        AL, caches = L_model_forward(X, parameters, hidden_layers_activation_fn)\n",
    "\n",
    "        # compute cost to plot it\n",
    "        cost = compute_cost(AL, y)\n",
    "\n",
    "        # iterate over L-layers backward to get gradients\n",
    "        grads = L_model_backward(AL, y, caches, hidden_layers_activation_fn)\n",
    "\n",
    "        # update parameters\n",
    "        parameters = update_parameters(parameters, grads, learning_rate)\n",
    "\n",
    "        # append each 100th cost to the cost list\n",
    "        if (i + 1) % 100 == 0 and print_cost:\n",
    "            print(f\"The cost after {i + 1} iterations is: {cost:.4f}\")\n",
    "\n",
    "        if i % 100 == 0:\n",
    "            cost_list.append(cost)\n",
    "\n",
    "    # plot the cost curve\n",
    "    plt.figure(figsize=(10, 6))\n",
    "    plt.plot(cost_list)\n",
    "    plt.xlabel(\"Iterations (per hundreds)\")\n",
    "    plt.ylabel(\"Loss\")\n",
    "    plt.title(f\"Loss curve for the learning rate = {learning_rate}\")\n",
    "\n",
    "    return parameters\n",
    "\n",
    "\n",
    "def accuracy(X, parameters, y, activation_fn=\"relu\"):\n",
    "    \"\"\"\n",
    "    Computes the average accuracy rate.\n",
    "\n",
    "    Arguments\n",
    "    ---------\n",
    "    X : 2d-array\n",
    "        data, shape: number of examples x num_px * num_px * 3.\n",
    "    parameters : dict\n",
    "        learnt parameters.\n",
    "    y : 2d-array\n",
    "        true \"label\" vector, shape: 1 x number of examples.\n",
    "    activation_fn : str\n",
    "        activation function to be used on hidden layers: \"tanh\", \"relu\".\n",
    "\n",
    "    Returns\n",
    "    -------\n",
    "    accuracy : float\n",
    "        accuracy rate after applying parameters on the input data\n",
    "    \"\"\"\n",
    "    probs, caches = L_model_forward(X, parameters, activation_fn)\n",
    "    labels = (probs >= 0.5) * 1\n",
    "    accuracy = np.mean(labels == y) * 100\n",
    "\n",
    "    return f\"The accuracy rate is: {accuracy:.2f}%.\""
   ]
  },
  {
   "cell_type": "markdown",
   "metadata": {},
   "source": [
    "Next, we'll train two versions of the neural network where each one will use different activation function on hidden layers: One will use rectified linear unit (**ReLU**) and the second one will use hyperbolic tangent function (**tanh**). Finally we'll use the parameters we get from both neural networks to classify test examples and compute the test accuracy rates for each version to see which activation function works best on this problem."
   ]
  },
  {
   "cell_type": "code",
   "execution_count": 12,
   "metadata": {},
   "outputs": [
    {
     "name": "stdout",
     "output_type": "stream",
     "text": [
      "The cost after 100 iterations is: 0.6556\n",
      "The cost after 200 iterations is: 0.6468\n",
      "The cost after 300 iterations is: 0.6447\n",
      "The cost after 400 iterations is: 0.6441\n",
      "The cost after 500 iterations is: 0.6440\n",
      "The cost after 600 iterations is: 0.6440\n",
      "The cost after 700 iterations is: 0.6440\n",
      "The cost after 800 iterations is: 0.6439\n",
      "The cost after 900 iterations is: 0.6439\n",
      "The cost after 1000 iterations is: 0.6439\n",
      "The cost after 1100 iterations is: 0.6439\n",
      "The cost after 1200 iterations is: 0.6439\n",
      "The cost after 1300 iterations is: 0.6438\n",
      "The cost after 1400 iterations is: 0.6438\n",
      "The cost after 1500 iterations is: 0.6437\n",
      "The cost after 1600 iterations is: 0.6434\n",
      "The cost after 1700 iterations is: 0.6429\n",
      "The cost after 1800 iterations is: 0.6413\n",
      "The cost after 1900 iterations is: 0.6361\n",
      "The cost after 2000 iterations is: 0.6124\n",
      "The cost after 2100 iterations is: 0.5112\n",
      "The cost after 2200 iterations is: 0.5001\n",
      "The cost after 2300 iterations is: 0.3644\n",
      "The cost after 2400 iterations is: 0.3393\n",
      "The cost after 2500 iterations is: 0.4184\n",
      "The cost after 2600 iterations is: 0.2372\n",
      "The cost after 2700 iterations is: 0.4299\n",
      "The cost after 2800 iterations is: 0.3064\n",
      "The cost after 2900 iterations is: 0.2842\n",
      "The cost after 3000 iterations is: 0.1902\n"
     ]
    },
    {
     "data": {
      "text/plain": [
       "'The accuracy rate is: 70.00%.'"
      ]
     },
     "execution_count": 12,
     "metadata": {},
     "output_type": "execute_result"
    },
    {
     "data": {
      "image/png": "[encoded data removed]",
      "text/plain": [
       "<Figure size 720x432 with 1 Axes>"
      ]
     },
     "metadata": {},
     "output_type": "display_data"
    }
   ],
   "source": [
    "# Setting layers dims\n",
    "layers_dims = [X_train.shape[0], 5, 5, 1]\n",
    "\n",
    "# NN with tanh activation fn\n",
    "parameters_tanh = L_layer_model(\n",
    "    X_train,\n",
    "    y_train,\n",
    "    layers_dims,\n",
    "    learning_rate=0.03,\n",
    "    num_iterations=3000,\n",
    "    hidden_layers_activation_fn=\"tanh\",\n",
    ")\n",
    "\n",
    "# Print the accuracy\n",
    "accuracy(X_test, parameters_tanh, y_test, activation_fn=\"tanh\")"
   ]
  },
  {
   "cell_type": "code",
   "execution_count": 13,
   "metadata": {},
   "outputs": [
    {
     "name": "stdout",
     "output_type": "stream",
     "text": [
      "The cost after 100 iterations is: 0.6556\n",
      "The cost after 200 iterations is: 0.6468\n",
      "The cost after 300 iterations is: 0.6447\n",
      "The cost after 400 iterations is: 0.6441\n",
      "The cost after 500 iterations is: 0.6440\n",
      "The cost after 600 iterations is: 0.6440\n",
      "The cost after 700 iterations is: 0.6440\n",
      "The cost after 800 iterations is: 0.6440\n",
      "The cost after 900 iterations is: 0.6440\n",
      "The cost after 1000 iterations is: 0.6440\n",
      "The cost after 1100 iterations is: 0.6439\n",
      "The cost after 1200 iterations is: 0.6439\n",
      "The cost after 1300 iterations is: 0.6439\n",
      "The cost after 1400 iterations is: 0.6439\n",
      "The cost after 1500 iterations is: 0.6439\n",
      "The cost after 1600 iterations is: 0.6439\n",
      "The cost after 1700 iterations is: 0.6438\n",
      "The cost after 1800 iterations is: 0.6437\n",
      "The cost after 1900 iterations is: 0.6435\n",
      "The cost after 2000 iterations is: 0.6432\n",
      "The cost after 2100 iterations is: 0.6423\n",
      "The cost after 2200 iterations is: 0.6395\n",
      "The cost after 2300 iterations is: 0.6259\n",
      "The cost after 2400 iterations is: 0.5408\n",
      "The cost after 2500 iterations is: 0.5262\n",
      "The cost after 2600 iterations is: 0.4727\n",
      "The cost after 2700 iterations is: 0.4386\n",
      "The cost after 2800 iterations is: 0.3493\n",
      "The cost after 2900 iterations is: 0.1877\n",
      "The cost after 3000 iterations is: 0.3641\n"
     ]
    },
    {
     "data": {
      "text/plain": [
       "'The accuracy rate is: 42.00%.'"
      ]
     },
     "execution_count": 13,
     "metadata": {},
     "output_type": "execute_result"
    },
    {
     "data": {
      "image/png": "[encoded data removed]",
      "text/plain": [
       "<Figure size 720x432 with 1 Axes>"
      ]
     },
     "metadata": {},
     "output_type": "display_data"
    }
   ],
   "source": [
    "# NN with relu activation fn\n",
    "parameters_relu = L_layer_model(\n",
    "    X_train,\n",
    "    y_train,\n",
    "    layers_dims,\n",
    "    learning_rate=0.03,\n",
    "    num_iterations=3000,\n",
    "    hidden_layers_activation_fn=\"relu\",\n",
    ")\n",
    "\n",
    "# Print the accuracy\n",
    "accuracy(X_test, parameters_relu, y_test, activation_fn=\"relu\")"
   ]
  },
  {
   "cell_type": "markdown",
   "metadata": {},
   "source": [
    "## Conclusion"
   ]
  },
  {
   "cell_type": "markdown",
   "metadata": {},
   "source": [
    "The purpose of this artcile is to code Deep Neural Network step-by-step and explain the important concepts while doing that. We don't really care about the accuracy rate at this moment since there are tons of things we could've done to increase the accuracy which would be the subject of following artciles. Below are some takeaways:\n",
    "\n",
    "- Even if neural network can represent any function, it may fail to learn for two reasons:\n",
    "    1. The optimization algorithm may fail to find the best value for the parameters of the desired (true) function.\n",
    "        It can stuck in a local optimum.\n",
    "    2. The learning algorithm may find different functional form that is different than the intended function due to overfitting.\n",
    "- Even if neural network rarely converges and always stuck in a local minimum, it is still able to reduce the cost significantly and come up with very complex models with high test accuracy.\n",
    "- The neural network we used in this artcile is standard fully connected network. However, there are two other kinds of networks:\n",
    "    - Convolutional NN: Where not all nodes are connected. It's best in class for image recognition.\n",
    "    - Recurrent NN: There is a feedback connections where output of the model is fed back into itself. It's used mainly in sequence modeling.\n",
    "- The fully connected neural network also forgets what happened in previous steps and also doesn't know anything about the output.\n",
    "- There are number of hyperparameters that we can tune using cross validation to get the best performance of our network:\n",
    "    1. Learning rate ($\\alpha$): Determines how big the step for each update of parameters.\n",
    "        - Small $\\alpha$ leads to slow convergence and may become computationally very expensive.\n",
    "        - Large $\\alpha$ may lead to overshooting where our learning algorithm may never converge.\n",
    "    2. Number of hidden layers (depth): The more hidden layers the better, but comes at a cost computationally.\n",
    "    3. Number of units per hidden layer (width): Research proven that huge number of hidden units per layer doesn't add to the improvement of the network.\n",
    "    4. Activation function: Which function to use on hidden layers differs among applications and domains. It's a trial and error process to try different functions and see which one works best.\n",
    "    5. Number of iterations.\n",
    "- Standardize data would help activation units have similar range of values and avoid gradients to go out of control."
   ]
  }
 ],
 "metadata": {
  "kernelspec": {
   "display_name": "Python 3 (ipykernel)",
   "language": "python",
   "name": "python3"
  },
  "language_info": {
   "codemirror_mode": {
    "name": "ipython",
    "version": 3
   },
   "file_extension": ".py",
   "mimetype": "text/x-python",
   "name": "python",
   "nbconvert_exporter": "python",
   "pygments_lexer": "ipython3",
   "version": "3.10.4"
  }
 },
 "nbformat": 4,
 "nbformat_minor": 4
}
