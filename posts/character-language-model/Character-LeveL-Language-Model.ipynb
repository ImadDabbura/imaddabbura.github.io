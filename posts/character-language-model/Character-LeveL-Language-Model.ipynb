{
 "cells": [
  {
   "cell_type": "markdown",
   "metadata": {},
   "source": [
    "---\n",
    "title: \"Character-Level Language Model\"\n",
    "subtitle: \"Predict the next character given the previous charecter and state.\"\n",
    "author: \"Imad Dabbura\"\n",
    "image: feature.jpg\n",
    "date: \"2018-02-22\"\n",
    "categories: [\"NLP\",  \"Deep Learning\"]\n",
    "listing: default\n",
    "toc: true\n",
    "format:\n",
    "  html:\n",
    "    code-fold: true\n",
    "    code-tools: true\n",
    "jupyter: python3\n",
    "---"
   ]
  },
  {
   "cell_type": "markdown",
   "metadata": {},
   "source": [
    "<!-- <p align=\"left\">\n",
    "<img src=\"images/image.jpg\" style=\"width: 600px; height: 600px\">\n",
    "</p> -->"
   ]
  },
  {
   "cell_type": "markdown",
   "metadata": {},
   "source": [
    "<p align=\"center\">\n",
    "<img src=\"feature.jpg\">\n",
    "</p>"
   ]
  },
  {
   "cell_type": "markdown",
   "metadata": {
    "tags": []
   },
   "source": [
    "## Introduction"
   ]
  },
  {
   "cell_type": "markdown",
   "metadata": {},
   "source": [
    "\n",
    "Have you ever wondered how Gmail automatic reply works? Or how a Neural Network can generate musical notes? The general way of generating sequence of text is to train a model to predict the next word/character given all previous words/characters. Such model is called **Statistical Language Model**. So what is a statistical language model? A statistical language model tries to capture the statistical structure (latent space) of training text it's trained on. Usually **Recurrent Neural Network (RNN)** models family is used to train the model due to the fact that it's very powerful and expressive in which they remember and process past information through their high dimensional hidden state units. The main goal of any language model is to learn the joint probability distribution of sequences of characters/words in a training text, i.e. trying to learn the joint probability function. For example, if we're trying to predict a sequence of $T$ words, we try to get the joint probability $P(w_1, w_2, ..., w_T)$ as big as we can which is equal to the product of all conditional probabilities $\\prod_{t = 1}^T P(w_t/w_{t-1})$ at all time steps (t).\n",
    "\n",
    "In this notebook, we'll cover **Character-level Language Model** where almost all the concepts hold for any other language models such as word-language models. The main task of character-level language model is to predict next character given all previous characters in a sequence of data, i.e. generate text character by character. More formally, given a training sequence $(x^1, ... , x^T)$, the RNN uses the sequence of its output vectors $(o^1, ... , o^T)$ to obtain a sequence of predictive distributions $P(x^t|x^{<t}) = softmax(o^t)$.\n",
    "\n",
    "Let's illustrate how the character-level language model works using my first name (\"imad\") as an example (see figure 1 for all the details of this example).\n",
    "1. We first build a vocabulary dictionary using all the unique letters of the names in the corpus as keys and the index of each letter starting from zero (since python is a zero-index language) in ascending order. For our example, the vocabulary dictionary would be: {\"a\": 0, \"d\": 1, \"i\": 2, \"m\": 3}. Therefore, \"imad\" would become a list of the following integers: [2, 3, 0, 1].\n",
    "2. Convert the input and the output characters to lists of integers using the vocabulary dictionary. In this notebook, we'll assume that $x^1 = \\vec{0}$ for all examples. Therefore, $y = \"imad\"$ and $x = \\vec{0}\\ + \"ima\"$. In other words, $x^{t + 1} = y^t$ which gives us: $y = [2, 3, 0, 1]$ and $x = [\\vec{0}, 2, 3, 0]$.\n",
    "3. For each character in the input:\n",
    "    1. Convert the input characters into one-hot vectors. Notice how the first character $x^1 = \\vec{0}$.\n",
    "    2. Compute the hidden state layer.\n",
    "    3. Compute the output layer and then pass it through softmax to get the results as probabilities.\n",
    "    4. Feed the target character at time step (t) as the input character at time step $(t + 1)$.\n",
    "    5. Go back to step A and repeat until we finish all the letters in the name.\n",
    "\n",
    "The objective is to make the green numbers as big as we can and the red numbers as small as we can in the probability distribution layer. The reason for that is that the true index should have the highest probability by making it as close as we can to 1. The way to do that is to measure the loss using cross-entropy and then compute the gradients of the loss w.r.t. all parameters to update them in the opposite of the gradient direction. Repeating the process over many times where each time we adjust the parameters based on the gradient direction --> model will be able to correctly predict next characters given all previous one using all names in the training text. Notice that hidden state $h^4$ has all past information about all characters.\n",
    "\n",
    "<p align=\"left\">\n",
    "<img src=\"images/char_level_example.png\" style=\"width: 800px; height: 600px\"><br>\n",
    "<caption><center><u><b><font color=\"00b7e4\">Figure 1:</font></b></u> Illustrative example of character-level language model using RNN</center></caption>\n",
    "</p>"
   ]
  },
  {
   "cell_type": "markdown",
   "metadata": {},
   "source": [
    "## Training"
   ]
  },
  {
   "cell_type": "markdown",
   "metadata": {},
   "source": [
    "The [dataset](http://deron.meranda.us/data/census-derived-all-first.txt) we'll be using has 5,163 names: 4,275 male names, 1,219 female names, and 331 names that can be both female and male names. The RNN architecture we'll be using to train the character-level language model is called **many to many** where time steps of the input $(T_x)$ = time steps of the output $(T_y)$. In other words, the sequence of the input and output are synced (see figure 2).\n",
    "<p align=\"left\">\n",
    "<img src=\"images/rnn_architecture.png\" style=\"width: 600px; height: 600px\"><br>\n",
    "<caption><center><u><b><font color=\"00b7e4\">Figure 2:</font></b></u> RNN architecture: many to many</center></caption>\n",
    "</p>\n",
    "The character-level language model will be trained on names; which means after we're done with training the model, we'll be able to generate interesting names :).\n",
    "\n",
    "In this section, we'll go over four main parts:\n",
    "\n",
    "1. Forward propagation.\n",
    "2. Backpropagation\n",
    "3. Sampling\n",
    "4. Fitting the model"
   ]
  },
  {
   "cell_type": "markdown",
   "metadata": {},
   "source": [
    "## Forward Propagation"
   ]
  },
  {
   "cell_type": "markdown",
   "metadata": {},
   "source": [
    "We'll be using Stochastic Gradient Descent (SGD) where each batch consists of only one example. In other words, the RNN model will learn from each example (name) separately, i.e. run both forward and backward passes on each example and update parameters accordingly. Below are all the steps needed for a forward pass:\n",
    "- Create a vocabulary dictionary using the unique lower case letters.\n",
    "    - Create a character to index dictionary that maps each character to its corresponding index in an ascending order. For example, \"a\" would have index 1 (since python is a zero index language and we'll reserve 0 index to EOS \"\\n\") and \"z\" would have index 26. We will use this dictionary in converting names into lists of integers where each letter will be represented as one-hot vector.\n",
    "    - Create an index to character dictionary that maps indices to characters. This dictionary will be used to convert the output of the RNN model into characters which will be translated into names.\n",
    "- Initialize parameters: weights will be initialized to small random numbers from standard normal distribution to break symmetry and make sure different hidden units learn different things. On the other hand, biases will be initialized to zeros.\n",
    "    - $W_{hh}$: weight matrix connecting previous hidden state $h^{t - 1}$ to current hidden state $h^t$.\n",
    "    - $W_{xh}$: weight matrix connecting input $x^t$ to hidden state $h^t$.\n",
    "    - $b$: hidden state bias vector.\n",
    "    - $W_{hy}$: weight matrix connecting hidden state $h^t$ to output $o^t$.\n",
    "    - $c$: output bias vector.\n",
    "- Convert input $x^t$ and output $y^t$ into one-hot vector each. The dimension of the one-hot vector is vocab_size x 1. Everything will be zero except for the index of the letter at (t) would be 1. In our case, $x^t$ would be the same as $y^t$ shifted to the left where $x^1 = \\vec{0}$; however, starting from $t = 2$, $x^{t + 1} = y^{t}$. For example, if we use \"imad\" as the input, then $y = [3, 4, 1, 2, 0]$ while $x = [\\vec{0}, 3, 4, 1, 2]$. Notice that $x^1 = \\vec{0}$ and not the index 0. Moreover, we're using \"\\n\" as EOS (end of sentence/name) for each name so that the RNN learns \"\\n\" as any other character so that it knows when to stop generating characters. Therefore, the last target character for all names will be \"\\n\" that represents the end of the name.\n",
    "- Compute the hidden state using the following formula:\n",
    "$$h^t = tanh(W_{hh}h^{t-1} + W_{xh}x^t + b)\\tag{1}\\\\{}$$\n",
    "Notice that we use hyperbolic tangent $(\\frac{e^x - e^{-x}}{e^x + e^{-x}})$ as the non-linear function. One of the main advantages of the hyperbolic tangent function is that it resembles the identity function.\n",
    "- Compute the output layer using the following formula:\n",
    "$$o^t = W_{hy}h^{t} + c\\tag{2}\\\\{}$$\n",
    "- Pass the output through softmax layer to normalize the output that allows us to express it as a probability, i.e. all output will be between 0 and 1 and sum up to 1. Below is the softmax formula:\n",
    "$$y^t = \\frac{e^{o^t}}{\\sum_ie^{o^t}}\\tag{3}\\\\{}$$\n",
    "The softmax layer has the same dimension as the output layer which is vocab_size x 1. As a result, $y^t[i]$ is the probability of of index $i$ being the next character at time step (t).\n",
    "- As mentioned before, the objective of a character-level language model is to minimize the negative log-likelihood of the training sequence. Therefore, the loss function at time (t) and the total loss across all time steps are:\n",
    "$$\\mathcal{L}^t = -\\sum_{i = 1}^{T_y}y^tlog\\widehat{y^t}\\tag{4}\\\\{}$$\n",
    "$$\\mathcal{L} = \\sum_{t = 1}^{T_y}\\mathcal{L}^t(\\widehat{y^t}, y^t)\\tag{5}$$\n",
    "Since we'll be using SGD, the loss will be noisy and have many oscillations, so it's a good practice to smooth out the loss using exponential weighted average.\n",
    "- Pass the target character $y^t$ as the next input $x^{t + 1}$ until we finish the sequence."
   ]
  },
  {
   "cell_type": "code",
   "execution_count": 1,
   "metadata": {},
   "outputs": [],
   "source": [
    "# | echo: false\n",
    "%load_ext lab_black\n",
    "import warnings\n",
    "\n",
    "warnings.filterwarnings(\"ignore\")"
   ]
  },
  {
   "cell_type": "code",
   "execution_count": 2,
   "metadata": {
    "code_folding": []
   },
   "outputs": [],
   "source": [
    "# Load packages\n",
    "# | warning: false\n",
    "import os\n",
    "\n",
    "import matplotlib.pyplot as plt\n",
    "import numpy as np\n",
    "import pandas as pd\n",
    "import seaborn as sns\n",
    "\n",
    "os.chdir(\"../scripts/\")\n",
    "from character_level_language_model import (\n",
    "    initialize_parameters,\n",
    "    initialize_rmsprop,\n",
    "    softmax,\n",
    "    smooth_loss,\n",
    "    update_parameters_with_rmsprop,\n",
    ")\n",
    "\n",
    "%matplotlib inline\n",
    "sns.set_context(\"notebook\")\n",
    "plt.style.use(\"fivethirtyeight\")"
   ]
  },
  {
   "cell_type": "code",
   "execution_count": 3,
   "metadata": {
    "code_folding": []
   },
   "outputs": [],
   "source": [
    "def rnn_forward(x, y, h_prev, parameters):\n",
    "    \"\"\"\n",
    "    Implement one Forward pass on one name.\n",
    "\n",
    "    Arguments\n",
    "    ---------\n",
    "    x : list\n",
    "        list of integers for the index of the characters in the example\n",
    "        shifted one character to the right.\n",
    "    y : list\n",
    "        list of integers for the index of the characters in the example.\n",
    "    h_prev : array\n",
    "        last hidden state from the previous example.\n",
    "    parameters : python dict\n",
    "        dictionary containing the parameters.\n",
    "\n",
    "    Returns\n",
    "    -------\n",
    "    loss : float\n",
    "        cross-entropy loss.\n",
    "    cache : tuple\n",
    "        contains three python dictionaries:\n",
    "            xs -- input of all time steps.\n",
    "            hs -- hidden state of all time steps.\n",
    "            probs -- probability distribution of each character at each time\n",
    "                step.\n",
    "    \"\"\"\n",
    "    # Retrieve parameters\n",
    "    Wxh, Whh, b = parameters[\"Wxh\"], parameters[\"Whh\"], parameters[\"b\"]\n",
    "    Why, c = parameters[\"Why\"], parameters[\"c\"]\n",
    "\n",
    "    # Initialize inputs, hidden state, output, and probabilities dictionaries\n",
    "    xs, hs, os, probs = {}, {}, {}, {}\n",
    "\n",
    "    # Initialize x0 to zero vector\n",
    "    xs[0] = np.zeros((vocab_size, 1))\n",
    "\n",
    "    # Initialize loss and assigns h_prev to last hidden state in hs\n",
    "    loss = 0\n",
    "    hs[-1] = np.copy(h_prev)\n",
    "\n",
    "    # Forward pass: loop over all characters of the name\n",
    "    for t in range(len(x)):\n",
    "        # Convert to one-hot vector\n",
    "        if t > 0:\n",
    "            xs[t] = np.zeros((vocab_size, 1))\n",
    "            xs[t][x[t]] = 1\n",
    "        # Hidden state\n",
    "        hs[t] = np.tanh(np.dot(Wxh, xs[t]) + np.dot(Whh, hs[t - 1]) + b)\n",
    "        # Logits\n",
    "        os[t] = np.dot(Why, hs[t]) + c\n",
    "        # Probs\n",
    "        probs[t] = softmax(os[t])\n",
    "        # Loss\n",
    "        loss -= np.log(probs[t][y[t], 0])\n",
    "\n",
    "    cache = (xs, hs, probs)\n",
    "\n",
    "    return loss, cache"
   ]
  },
  {
   "cell_type": "markdown",
   "metadata": {},
   "source": [
    "## Backpropagation"
   ]
  },
  {
   "cell_type": "markdown",
   "metadata": {},
   "source": [
    "With RNN based models, the gradient-based technique that will be used is called **Backpropagation Through Time (BPTT)**. We start at last time step $T$ and backpropagate loss function w.r.t. all parameters across all time steps and sum them up (see figure 3).\n",
    "<p align=\"left\">\n",
    "<img src=\"images/backprop.png\" style=\"width: 800px; height: 400px\"><br>\n",
    "<caption><center><u><b><font color=\"00b7e4\">Figure 3:</font></b></u> Backpropagation Through Time (BPTT)</center></caption>\n",
    "</p>\n",
    "In addition, since recurrent networks are known to have steep cliffs (sudden steep decrease in $\\mathcal{L}$), gradients may overshoot the minimum and undo a lot of the work that was done even if we are using adaptive learning methods such as RMSProp. The reason for that is that because gradient is a linear approximation of the loss function and may not capture information further than the point it was evaluated on such as the curvature of loss curve. Therefore, it's a common practice to clip the gradients to be in the interval [-maxValue, maxValue]. For this exercise, we'll clip the gradients to be in the interval [-5, 5]. That means if the gradient is > 5 or < -5, it would be clipped to 5 and -5 respectively. Below are all the formulas needed to compute the gradients w.r.t. all parameters at all time steps.\n",
    "\n",
    "$$\\nabla_{o^t}\\mathcal{L} = \\widehat{y^t} - y^t\\tag{6}\\\\{}$$\n",
    "$$\\nabla_{W_{hy}}\\mathcal{L} = \\sum_t \\nabla_{o^t}\\mathcal{L}\\cdot{h^t}^T\\tag{7}\\\\{}$$\n",
    "$$\\nabla_{c}\\mathcal{L} = \\sum_t \\nabla_{o^t}\\mathcal{L} \\tag{8}\\\\{}$$\n",
    "$$\\nabla_{h^t}\\mathcal{L} = W_{hy}^T\\cdot\\nabla_{o^t}\\mathcal{L} + \\underbrace { W_{hh}^T\\cdot\\nabla_{h^{t + 1}}\\mathcal{L} * (1 - tanh(W_{hh}h^{t} + W_{xh}x^{t + 1} + b) ^ 2)}_{dh_{next}} \\tag{9}\\\\{}$$\n",
    "$$\\nabla_{h^{t - 1}}\\mathcal{L} = W_{hh}^T\\cdot\\nabla_{h^t}\\mathcal{L} * (1 - tanh(h^t) ^ 2)\\tag{10}\\\\{}$$\n",
    "$$\\nabla_{x^t}\\mathcal{L} = W_{xh}^T\\cdot\\nabla_{h^t}\\mathcal{L} * (1 - tanh(W_{hh}\\cdot h^{t-1} + W_{xh}\\cdot x^t + b) ^ 2)\\tag{11}\\\\{}$$\n",
    "$$\\nabla_{W_{hh}}\\mathcal{L} = \\sum_t \\nabla_{h^t}\\mathcal{L} * (1 - tanh(W_{hh}\\cdot h^{t-1} + W_{xh}\\cdot x^t + b) ^ 2)\\cdot{h^{t - 1}}^T\\tag{12}\\\\{}$$\n",
    "$$\\nabla_{W_{xh}}\\mathcal{L} = \\sum_t \\nabla_{h^t}\\mathcal{L} * (1 - tanh(W_{hh}\\cdot h^{t-1} + W_{xh}\\cdot x^t + b) ^ 2) . {x^t}^T\\tag{13}\\\\{}$$\n",
    "$$\\nabla_{b}\\mathcal{L} = \\sum_t \\nabla_{h^t}\\mathcal{L} * (1 - tanh(h^t) ^ 2) \\tag{14}\\\\{}$$\n",
    "\n",
    "Note that at last time step $T$, we'll initialize $dh_{next}$  to zeros since we can't get values from future. To stabilize the update at each time step since SGD may have so many oscillations, we'll be using one of the adaptive learning methods' optimizer. More specifically, [**Root Mean Squared Propagation (RMSProp)**](https://nbviewer.jupyter.org/github/ImadDabbura/Deep-Learning/blob/master/notebooks/Optimization-Algorithms.ipynb) which tends to have acceptable performance."
   ]
  },
  {
   "cell_type": "code",
   "execution_count": 4,
   "metadata": {
    "code_folding": [
     0
    ]
   },
   "outputs": [],
   "source": [
    "def clip_gradients(gradients, max_value):\n",
    "    \"\"\"\n",
    "    Implements gradient clipping element-wise on gradients to be between the\n",
    "    interval [-max_value, max_value].\n",
    "\n",
    "    Arguments\n",
    "    ----------\n",
    "    gradients : python dict\n",
    "        dictionary that stores all the gradients.\n",
    "    max_value : scalar\n",
    "        edge of the interval [-max_value, max_value].\n",
    "\n",
    "    Returns\n",
    "    -------\n",
    "    gradients : python dict\n",
    "        dictionary where all gradients were clipped.\n",
    "    \"\"\"\n",
    "    for grad in gradients.keys():\n",
    "        np.clip(gradients[grad], -max_value, max_value, out=gradients[grad])\n",
    "\n",
    "    return gradients\n",
    "\n",
    "\n",
    "def rnn_backward(y, parameters, cache):\n",
    "    \"\"\"\n",
    "    Implements Backpropagation on one name.\n",
    "\n",
    "    Arguments\n",
    "    ---------\n",
    "    y : list\n",
    "        list of integers for the index of the characters in the example.\n",
    "    parameters : python dict\n",
    "        dictionary containing the parameters.\n",
    "    cache : tuple\n",
    "            contains three python dictionaries:\n",
    "                xs -- input of all time steps.\n",
    "                hs -- hidden state of all time steps.\n",
    "                probs -- probability distribution of each character at each time\n",
    "                    step.\n",
    "\n",
    "    Returns\n",
    "    -------\n",
    "    grads : python dict\n",
    "        dictionary containing all the gradients.\n",
    "    h_prev : array\n",
    "        last hidden state from the current example.\n",
    "    \"\"\"\n",
    "    # Retrieve xs, hs, and probs\n",
    "    xs, hs, probs = cache\n",
    "\n",
    "    # Initialize all gradients to zero\n",
    "    dh_next = np.zeros_like(hs[0])\n",
    "\n",
    "    parameters_names = [\"Whh\", \"Wxh\", \"b\", \"Why\", \"c\"]\n",
    "    grads = {}\n",
    "    for param_name in parameters_names:\n",
    "        grads[\"d\" + param_name] = np.zeros_like(parameters[param_name])\n",
    "\n",
    "    # Iterate over all time steps in reverse order starting from Tx\n",
    "    for t in reversed(range(len(xs))):\n",
    "        dy = np.copy(probs[t])\n",
    "        dy[y[t]] -= 1\n",
    "        grads[\"dWhy\"] += np.dot(dy, hs[t].T)\n",
    "        grads[\"dc\"] += dy\n",
    "        dh = np.dot(parameters[\"Why\"].T, dy) + dh_next\n",
    "        dhraw = (1 - hs[t] ** 2) * dh\n",
    "        grads[\"dWhh\"] += np.dot(dhraw, hs[t - 1].T)\n",
    "        grads[\"dWxh\"] += np.dot(dhraw, xs[t].T)\n",
    "        grads[\"db\"] += dhraw\n",
    "        dh_next = np.dot(parameters[\"Whh\"].T, dhraw)\n",
    "        # Clip the gradients using [-5, 5] as the interval\n",
    "        grads = clip_gradients(grads, 5)\n",
    "    # Get the last hidden state\n",
    "    h_prev = hs[len(xs) - 1]\n",
    "\n",
    "    return grads, h_prev"
   ]
  },
  {
   "cell_type": "markdown",
   "metadata": {},
   "source": [
    "## Sampling"
   ]
  },
  {
   "cell_type": "markdown",
   "metadata": {},
   "source": [
    "Sampling is what makes the text generated by the RNN at each time step an interesting/creative text. On each time step (t), the RNN output the conditional probability distribution of the next character given all the previous characters, i.e. $P(c_t/c_1, c_2, ..., c_{t-1})$. Let's assume that we are at time step $t = 3$ and we're trying to predict the third character, the conditional probability distribution is: $P(c_3/c_1, c_2) = (0.2, 0.3, 0.4, 0.1)$. We'll have two extremes:\n",
    "1. Maximum entropy: the character will be picked randomly using uniform probability distribution; which means that all characters in the vocabulary dictionary are equally likely. Therefore, we'll end up with maximum randomness in picking the next character and the generated text will not be either meaningful or sound real.\n",
    "2. Minimum entropy: the character with the highest conditional probability will be picked on each time step. That means next character will be what the model estimates to be the right one based on the training text and learned parameters. As a result, the name generated will be both meaningful and sound real. However, it will also be repetitive and interesting since all the parameters were optimized to learn joint probability distribution in predicting the next character.\n",
    "\n",
    "As we increase randomness, text will loose local structure; however, as we decrease randomness, the generated text will sound more real and start to preserve its local structure. For this exercise, we will sample from the distribution that's generated by the model which can be seen as an intermediate level of randomness between maximum and minimum entropy (see figure 4). Using this sampling strategy on the above distribution, the index 0 has $20$% probability of being picked, while index 2 has $40$% probability to be picked.\n",
    "<p align=\"left\">\n",
    "<img src=\"images/sampling.PNG\" style=\"width: 800px; height: 400px\"><br>\n",
    "<caption><center><u><b><font color=\"00b7e4\">Figure 4:</font></b></u> Sampling: An example of predicting next character using character-level language model</center></caption>\n",
    "</p>\n",
    "Therefore, sampling will be used at test time to generate names character by character."
   ]
  },
  {
   "cell_type": "code",
   "execution_count": 5,
   "metadata": {
    "code_folding": [
     0
    ]
   },
   "outputs": [],
   "source": [
    "def sample(parameters, idx_to_chars, chars_to_idx, n):\n",
    "    \"\"\"\n",
    "    Implements sampling of a squence of n characters characters length. The\n",
    "    sampling will be based on the probability distribution output of RNN.\n",
    "\n",
    "    Arguments\n",
    "    ---------\n",
    "    parameters : python dict\n",
    "        dictionary storing all the parameters of the model.\n",
    "    idx_to_chars : python dict\n",
    "        dictionary mapping indices to characters.\n",
    "    chars_to_idx : python dict\n",
    "        dictionary mapping characters to indices.\n",
    "    n : scalar\n",
    "        number of characters to output.\n",
    "\n",
    "    Returns\n",
    "    -------\n",
    "    sequence : str\n",
    "        sequence of characters sampled.\n",
    "    \"\"\"\n",
    "    # Retrienve parameters, shapes, and vocab size\n",
    "    Whh, Wxh, b = parameters[\"Whh\"], parameters[\"Wxh\"], parameters[\"b\"]\n",
    "    Why, c = parameters[\"Why\"], parameters[\"c\"]\n",
    "    n_h, n_x = Wxh.shape\n",
    "    vocab_size = c.shape[0]\n",
    "\n",
    "    # Initialize a0 and x1 to zero vectors\n",
    "    h_prev = np.zeros((n_h, 1))\n",
    "    x = np.zeros((n_x, 1))\n",
    "\n",
    "    # Initialize empty sequence\n",
    "    indices = []\n",
    "    idx = -1\n",
    "    counter = 0\n",
    "    while counter <= n and idx != chars_to_idx[\"\\n\"]:\n",
    "        # Fwd propagation\n",
    "        h = np.tanh(np.dot(Whh, h_prev) + np.dot(Wxh, x) + b)\n",
    "        o = np.dot(Why, h) + c\n",
    "        probs = softmax(o)\n",
    "\n",
    "        # Sample the index of the character using generated probs distribution\n",
    "        idx = np.random.choice(vocab_size, p=probs.ravel())\n",
    "\n",
    "        # Get the character of the sampled index\n",
    "        char = idx_to_chars[idx]\n",
    "\n",
    "        # Add the char to the sequence\n",
    "        indices.append(idx)\n",
    "\n",
    "        # Update a_prev and x\n",
    "        h_prev = np.copy(h)\n",
    "        x = np.zeros((n_x, 1))\n",
    "        x[idx] = 1\n",
    "\n",
    "        counter += 1\n",
    "    sequence = \"\".join([idx_to_chars[idx] for idx in indices if idx != 0])\n",
    "\n",
    "    return sequence"
   ]
  },
  {
   "cell_type": "markdown",
   "metadata": {},
   "source": [
    "## Fitting the model"
   ]
  },
  {
   "cell_type": "markdown",
   "metadata": {},
   "source": [
    "After covering all the concepts/intuitions behind character-level language model, now we're ready to fit the model. We'll use the default settings for RMSProp's hyperparameters and run the model for 100 iterations. On each iteration, we'll print out one sampled name and smoothed loss to see how the names generated start to get more interesting with more iterations as well as the loss will start decreasing. When done with fitting the model, we'll plot the loss function and generate some names."
   ]
  },
  {
   "cell_type": "code",
   "execution_count": 6,
   "metadata": {
    "code_folding": [
     0
    ]
   },
   "outputs": [],
   "source": [
    "def model(\n",
    "    file_path,\n",
    "    chars_to_idx,\n",
    "    idx_to_chars,\n",
    "    hidden_layer_size,\n",
    "    vocab_size,\n",
    "    num_epochs=10,\n",
    "    learning_rate=0.01,\n",
    "):\n",
    "    \"\"\"\n",
    "    Implements RNN to generate characters.\n",
    "\n",
    "    Arguments\n",
    "    ---------\n",
    "    file_path : str\n",
    "        path to the file of the raw data.\n",
    "    num_epochs : int\n",
    "        number of passes the optimization algorithm to go over the training\n",
    "        data.\n",
    "    learning_rate : float\n",
    "        step size of learning.\n",
    "    chars_to_idx : python dict\n",
    "        dictionary mapping characters to indices.\n",
    "    idx_to_chars : python dict\n",
    "        dictionary mapping indices to characters.\n",
    "    hidden_layer_size : int\n",
    "        number of hidden units in the hidden layer.\n",
    "    vocab_size : int\n",
    "        size of vocabulary dictionary.\n",
    "\n",
    "    Returns\n",
    "    -------\n",
    "    parameters : python dict\n",
    "        dictionary storing all the parameters of the model.\n",
    "    overall_loss : list\n",
    "        list stores smoothed loss per epoch.\n",
    "    \"\"\"\n",
    "    # Get the data\n",
    "    with open(file_path) as f:\n",
    "        data = f.readlines()\n",
    "    examples = [x.lower().strip() for x in data]\n",
    "\n",
    "    # Initialize parameters\n",
    "    parameters = initialize_parameters(vocab_size, hidden_layer_size)\n",
    "\n",
    "    # Initialize Adam parameters\n",
    "    s = initialize_rmsprop(parameters)\n",
    "\n",
    "    # Initialize loss\n",
    "    smoothed_loss = -np.log(1 / vocab_size) * 7\n",
    "\n",
    "    # Initialize hidden state h0 and overall loss\n",
    "    h_prev = np.zeros((hidden_layer_size, 1))\n",
    "    overall_loss = []\n",
    "\n",
    "    # Iterate over number of epochs\n",
    "    for epoch in range(num_epochs):\n",
    "        # Shuffle examples\n",
    "        np.random.shuffle(examples)\n",
    "\n",
    "        # Iterate over all examples (SGD)\n",
    "        for example in examples:\n",
    "            x = [None] + [chars_to_idx[char] for char in example]\n",
    "            y = x[1:] + [chars_to_idx[\"\\n\"]]\n",
    "            # Fwd pass\n",
    "            loss, cache = rnn_forward(x, y, h_prev, parameters)\n",
    "            # Compute smooth loss\n",
    "            smoothed_loss = smooth_loss(smoothed_loss, loss)\n",
    "            # Bwd pass\n",
    "            grads, h_prev = rnn_backward(y, parameters, cache)\n",
    "            # Update parameters\n",
    "            parameters, s = update_parameters_with_rmsprop(parameters, grads, s)\n",
    "\n",
    "        overall_loss.append(smoothed_loss)\n",
    "        if epoch % 10 == 0:\n",
    "            print(f\"\\033[1m\\033[94mEpoch {epoch}\")\n",
    "            print(f\"\\033[1m\\033[92m=======\")\n",
    "            # Sample one name\n",
    "            print(\n",
    "                f\"\"\"Sampled name: {sample(parameters, idx_to_chars, chars_to_idx,\n",
    "                10).capitalize()}\"\"\"\n",
    "            )\n",
    "            print(f\"Smoothed loss: {smoothed_loss:.4f}\\n\")\n",
    "\n",
    "    return parameters, overall_loss"
   ]
  },
  {
   "cell_type": "code",
   "execution_count": 7,
   "metadata": {
    "code_folding": [
     0
    ]
   },
   "outputs": [
    {
     "name": "stdout",
     "output_type": "stream",
     "text": [
      "There are 36121 characters and 27 unique characters.\n",
      "\u001b[1m\u001b[94mEpoch 0\n",
      "\u001b[1m\u001b[92m=======\n",
      "Sampled name: Ia\n",
      "Smoothed loss: 17.8206\n",
      "\n",
      "\u001b[1m\u001b[94mEpoch 10\n",
      "\u001b[1m\u001b[92m=======\n",
      "Sampled name: Rioee\n",
      "Smoothed loss: 15.8061\n",
      "\n",
      "\u001b[1m\u001b[94mEpoch 20\n",
      "\u001b[1m\u001b[92m=======\n",
      "Sampled name: Allise\n",
      "Smoothed loss: 15.8609\n",
      "\n",
      "\u001b[1m\u001b[94mEpoch 30\n",
      "\u001b[1m\u001b[92m=======\n",
      "Sampled name: Ininyo\n",
      "Smoothed loss: 15.7734\n",
      "\n",
      "\u001b[1m\u001b[94mEpoch 40\n",
      "\u001b[1m\u001b[92m=======\n",
      "Sampled name: Miadoe\n",
      "Smoothed loss: 15.7312\n",
      "\n"
     ]
    },
    {
     "data": {
      "text/plain": [
       "Text(0, 0.5, 'Smoothed loss')"
      ]
     },
     "execution_count": 7,
     "metadata": {},
     "output_type": "execute_result"
    },
    {
     "data": {
      "image/png": "[encoded data removed]",
      "text/plain": [
       "<Figure size 432x288 with 1 Axes>"
      ]
     },
     "metadata": {},
     "output_type": "display_data"
    }
   ],
   "source": [
    "# Load names\n",
    "data = open(\"../data/names.txt\", \"r\").read()\n",
    "\n",
    "# Convert characters to lower case\n",
    "data = data.lower()\n",
    "\n",
    "# Construct vocabulary using unique characters, sort it in ascending order,\n",
    "# then construct two dictionaries that maps character to index and index to\n",
    "# characters.\n",
    "chars = list(sorted(set(data)))\n",
    "chars_to_idx = {ch: i for i, ch in enumerate(chars)}\n",
    "idx_to_chars = {i: ch for ch, i in chars_to_idx.items()}\n",
    "\n",
    "# Get the size of the data and vocab size\n",
    "data_size = len(data)\n",
    "vocab_size = len(chars_to_idx)\n",
    "print(f\"There are {data_size} characters and {vocab_size} unique characters.\")\n",
    "\n",
    "# Fitting the model\n",
    "parameters, loss = model(\n",
    "    \"../data/names.txt\", chars_to_idx, idx_to_chars, 10, vocab_size, 50, 0.01\n",
    ")\n",
    "\n",
    "# Plotting the loss\n",
    "plt.plot(range(len(loss)), loss)\n",
    "plt.xlabel(\"Epochs\")\n",
    "plt.ylabel(\"Smoothed loss\")"
   ]
  },
  {
   "cell_type": "markdown",
   "metadata": {},
   "source": [
    "As you may notice, the names generated started to get more interesting after 15 epochs. One of the interesting names is \"Yasira\" which is an Arabic name :)."
   ]
  },
  {
   "cell_type": "markdown",
   "metadata": {},
   "source": [
    "## Conclusion"
   ]
  },
  {
   "cell_type": "markdown",
   "metadata": {},
   "source": [
    "Statistical language models are very crucial in Natural Language Processing (NLP) such as speech recognition and machine translation. We demonstrated in this notebook the main concepts behind statistical language models using character-level language model. The task of this model is generate names character by character using names obtained from census data that were consisted of 5,163 names. Below are the main key takeaways:\n",
    "- If we have more data, bigger model, and train longer we may get more interesting results. However, to get a very interesting results, we should instead use **Long Short_Term Memory (LSTM)** model with more than one layer deep. People have used 3 layers deep LSTM model with dropout and were able to generate very interesting results when applied on cook books and Shakespeare poems. LSTM models outperform simple RNN due to its ability in capturing longer time dependencies.\n",
    "- With the sampling technique we're using, don't expect the RNN to generate meaningful sequence of characters (names).\n",
    "- We used in this notebook each name as its own sequence; however, we may be able to speed up learning and get better results if we increase the batch size lets say from one name to a sequence of 50 characters.\n",
    "- We can control the level of randomness using the sampling strategy. Here, we balanced between what the model thinks its the right character and the level of randomness."
   ]
  }
 ],
 "metadata": {
  "kernelspec": {
   "display_name": "Python 3 (ipykernel)",
   "language": "python",
   "name": "python3"
  },
  "language_info": {
   "codemirror_mode": {
    "name": "ipython",
    "version": 3
   },
   "file_extension": ".py",
   "mimetype": "text/x-python",
   "name": "python",
   "nbconvert_exporter": "python",
   "pygments_lexer": "ipython3",
   "version": "3.10.4"
  }
 },
 "nbformat": 4,
 "nbformat_minor": 4
}
