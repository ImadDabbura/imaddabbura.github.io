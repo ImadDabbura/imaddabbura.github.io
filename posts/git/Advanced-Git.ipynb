{
 "cells": [
  {
   "cell_type": "markdown",
   "metadata": {},
   "source": [
    "---\n",
    "title: Git Confident\n",
    "date: 2023-12-22\n",
    "image: git.webp\n",
    "categories: Git\n",
    "---\n"
   ]
  },
  {
   "cell_type": "markdown",
   "metadata": {},
   "source": [
    "<img src=\"git.webp\" align=\"center\" height=\"300px\" width=\"500px\">"
   ]
  },
  {
   "cell_type": "markdown",
   "metadata": {},
   "source": [
    "## Introduction"
   ]
  },
  {
   "cell_type": "markdown",
   "metadata": {},
   "source": [
    "**Git** is a distributed version control system that thinks/stores it data as a series of snapshots (not delta). Each commit is a snapshot for the state of the system at the time of the commit. For files that haven't changed, *Git* doesn't store the file again but uses a pointer to the previous identical file that it stored before. It also lets us do almost all operations locally.\n",
    "\n",
    "Everything in *Git* is checksummed before it is stores in its object store using `SHA-1` hash. `SHA-1` hash returns 40 hexadecimal characters. All objects are referred to by their checksummed because *Git* is content addressable filesystem. This means that Git notice any changes to the files it tracks by comparing the checksummed of the stored version vs the current version.\n",
    "\n",
    "All actions in *Git* only add data to the object store (Git database). Therefore, it is almost impossible to not undo any operation especially if we regularly push our Git database to other repository such as *Github*.\n",
    "\n",
    "Git has three states:\n",
    "\n",
    "- **Modified**: file changed but not yet committed.\n",
    "- **Staged**: marked changed file to go to next commit snapshot. Staging area is a single file that is typically called \"index\", which stores information about what will go into our next commit snapshot. When we run `git add file`, Git does the following:\n",
    "    - Computes checksum of the file and store the SHA-1 value in index file.\n",
    "    - Compress the contents of the file and store it in `.git` directory under `objects` where the first two characters of the checkum would be the name of the directory and the next 38 characters would be the name of the file.\n",
    "    - Add the checksum to the index file (staging area)\n",
    "- **Committed**: store data (snapshot) in the database. The snapshot is represented as tree for root directory of the Git project. When we run `git commit`, Git does the following:\n",
    "    - It computes checksum of each subdirectory until we end up with the root directory.\n",
    "    - Stores them as tree objects in Git repository\n",
    "    - Finally, Git create a commit object and store it in the Git repository with the following metadata:\n",
    "        - Date\n",
    "        - Author name\n",
    "        - Committer name\n",
    "        - Commit message\n",
    "        - Parent(s) commit. First commit would have no parents. Following commits may have 1 parent or more parents in the case of merges\n",
    "        - Pointer to the root project tree\n",
    "\n",
    "`.git` directory which is at the root directory of the project has all the metadata for Git project such as the database (object store).\n",
    "\n",
    "Files can be in two states:\n",
    "\n",
    "- **UnTracked**: files that Git doesn't know about. They are files that weren't in any snapshot or in staging area. Therefore, they don't have modified/unmodified states.\n",
    "- **Tracked**: files that were in last snapshot or in staging area. They have all states mentioned above."
   ]
  },
  {
   "cell_type": "markdown",
   "metadata": {},
   "source": [
    "## Cloning Repository"
   ]
  },
  {
   "cell_type": "markdown",
   "metadata": {},
   "source": [
    "`git clone https://github.com/UserName/RepoName` would do the following:\n",
    "\n",
    "- Create a directory called `RepoName`\n",
    "- Create a directory called `.git` inside `RepoName`\n",
    "- Pull down all versions for every file for the history of the project\n",
    "- Check out the latest version\n",
    "\n",
    "As a result, if initially a huge file was committed but then deleted years ago, cloning will pull down the huge file even if such file is never needed again. Therefore, if a project has a long history, we may not need to clone all history and restrict to last `N` days."
   ]
  },
  {
   "cell_type": "markdown",
   "metadata": {},
   "source": [
    "## Ignoring Files"
   ]
  },
  {
   "cell_type": "markdown",
   "metadata": {},
   "source": [
    "`.gitignore` hosts all patterns that Git should ignore and not track. It is typically located at the root directory of the project and applies recursively to all subsdirectories; however, we can have `.gitignore` in subdirectories that only gets applied specifically to those subdirectories.\n",
    "\n",
    "The rules for the patterns you can put in the .gitignore file are as follows:\n",
    "\n",
    "- Blank lines or lines starting with `#` are ignored.\n",
    "- Standard glob patterns work, and will be applied recursively throughout the entire working tree. Example: \n",
    "    - `*.log` ignores all files that end with `log` recursively\n",
    "    - `doc/*.txt` ignores all `.txt` files under `doc`\n",
    "    - `doc/**/*.pdf` igores all pdf files in the `doc` directory and all its subdirectoris\n",
    "- We can start patterns with a forward slash (/) to avoid recursivity. Example: `/TODO` ignores TODO in the current directory.\n",
    "- You can end patterns with a forward slash (/) to specify a directory. Example: `build/` ignores all files under `build` in all directories.\n",
    "- You can negate a pattern by starting it with an exclamation point (!). Example: `!test.log` tracks `test.log`"
   ]
  },
  {
   "cell_type": "markdown",
   "metadata": {},
   "source": [
    "## Removing Files"
   ]
  },
  {
   "cell_type": "markdown",
   "metadata": {},
   "source": [
    "`git rm` would remove a file from working tree and stage it. If we ever staged files by mistake, we could run `git rm --cached filename` to remove it from staging area and keep it on hard drive especially if we don't want Git to track it."
   ]
  },
  {
   "cell_type": "markdown",
   "metadata": {},
   "source": [
    "## General"
   ]
  },
  {
   "cell_type": "markdown",
   "metadata": {},
   "source": [
    "- `git stash` does not by default save untracked files, it only saves untracked changes to tracked files. It will be stored under `.git/refs`\n",
    "    - `git stash -u` will save everything\n",
    "    - `git stash drop` will delete the saved changes\n",
    "    - `git stash pop` will bring back the saved changes\n",
    "- `git reflog` remember all actions taken in a repository (even intermediate steps such as creating branches, clone, pull, etc.) and not just commits. It is local to your copy of the respository and others who have the same copy of the repoository would have their own version of reflog. It also starts empty after we clone the repository. Therefore, it is more like `shell` history. We can always get back to some state.\n",
    "    - `git reflog show hash_value` will show all the actions happened for the hash.\n",
    "- `git diff` to see the changes in the working tree compared to the index\n",
    "- `git diff --cached` to see the changes we changed compared to the last commit\n",
    "- `git difftool` shoes the changes in external tools such as *vimdiff*"
   ]
  },
  {
   "cell_type": "markdown",
   "metadata": {},
   "source": [
    "## Interactive Staging"
   ]
  },
  {
   "cell_type": "markdown",
   "metadata": {},
   "source": [
    "We can use interactive staging to control which files to stage and which parts of the files (patches) to stage all interactively. This is very helpful if we have done a lot of work on many files without staging anything. `git add -i` would put us in the interactive window.\n",
    "\n",
    "We can add/checkout/restore/stash patches (parts of files) by adding `--patch` or `-p` flag to their corresponding git command."
   ]
  },
  {
   "cell_type": "markdown",
   "metadata": {},
   "source": [
    "## Stashing"
   ]
  },
  {
   "cell_type": "markdown",
   "metadata": {},
   "source": [
    "It is very helpful when we staged some work and have modified tracked files and want to jump to different branch to work on something else. By default, Git stashes only modified and staged tracked files but not untracked files. We can add `-u` to add also untracked files.\n",
    "\n",
    "- We can run `git stash` to stash the work.\n",
    "- `git stash list` to list all the stashes.\n",
    "- `git stash apply` to apply last stash OR `git stash apply stashname`. This keeps the stash on the stack.\n",
    "- `git stash drop` to remove a stash.\n",
    "- `git stash pop` to apply and remove last stash in one command.\n",
    "\n",
    "We can apply stashes from one branch on another branches.\n",
    "\n",
    "To avoid issues/merge conflicts when trying to apply stashes, it may be helpful to create new branch and apply stash in the new branch. This can be done by `git stash branch newbranchname`. This will create new branch, checkout last commit you were on, apply stash, and then drop the stash."
   ]
  },
  {
   "cell_type": "markdown",
   "metadata": {},
   "source": [
    "## Managing History"
   ]
  },
  {
   "cell_type": "markdown",
   "metadata": {},
   "source": [
    "- `git log` has all the information we need to the repo's history.\n",
    "    - `git log --all --decorate --graph --oneline` is great to get an overview and see the divergence of branches\n",
    "    - `git log -n` will limit the log to the top n\n",
    "    - `git log --oneline file` is useful to get an overview of the log of one file\n",
    "    - `git log --pretty=format:'%C(yellow)%h%C(reset) - %an [%C(green)%ar%C(reset)] %s` to change the format of the log output\n",
    "    - `git log -E -i --grep regexp` will do extended search the logs for the regexp phrase; case insensitive\n",
    "    - `git log -S term` will search for changes related to that term in the code base (addition/deletion). Check this [post](https://thoughtbot.com/blog/code-sleuthing-with-git)\n",
    "    - `git log -G regexp` will search for changes related to the regexp in the code base; but looks for patterns not literal string.\n",
    "- `git show commit` will show everything that happened with that commit including __diff__\n",
    "- `git blame file` is useful to know who did what to the file"
   ]
  },
  {
   "cell_type": "markdown",
   "metadata": {},
   "source": [
    "## Inspecting Commit Ranges"
   ]
  },
  {
   "cell_type": "markdown",
   "metadata": {},
   "source": [
    "- `^` refers to the parent. `HEAD^` means the parent of last commit in the current branch.\n",
    "- `~` refers to the first parent. `HEAD~` means the first parent of last commit in the current branch. It will be different than `^` in the case a commit has multiple parents as is the case of merge commits that have multiple parents.\n",
    "- `HEAD~5` is equivalent in some sense to `HEAD^^^^^`.\n",
    "- Double dots (`..`): If we want to see the commits that are reachable from target branch (commit) but not the source branch (commit), we use `git log sourcecommit..targetcommit`. \n",
    "- Triple dots (`...`): If we want to see the commits that are reachable by either of the branches (commits) but not from both of them, we use `git log sourcecommit...targetcommit`. This will return commits unique to sourcecommit and targetcommit but not common commit.\n",
    "- Multiple points: If we want to see the commits for multiple points such as `git log refA refB ^refC` which means commits reachable from refA and refB but not C. Therefore:\n",
    "    - `git log refA..refB` is equivalent to `git log refB ^refA`"
   ]
  },
  {
   "cell_type": "markdown",
   "metadata": {},
   "source": [
    "## Grep"
   ]
  },
  {
   "cell_type": "markdown",
   "metadata": {},
   "source": [
    "Git `grep` allows us to search for a pattern in working directory, index, and committed tree. We can also search in older versions of the code such as using old tags/commits, which `grep/ack` tools can't.\n",
    "\n",
    "The most useful flags to use with grep is `git grep -n -p --break --heading pattern optional_path optionalcommit`."
   ]
  },
  {
   "cell_type": "markdown",
   "metadata": {},
   "source": [
    "## Undoing"
   ]
  },
  {
   "cell_type": "markdown",
   "metadata": {},
   "source": [
    "__Commits are immutable. This means that even though we can fix some stuff related to commits, we can't change the commits themselves. They will still be in the history.__ Therefore, anything that is committed in Git can almost always be recovered. Even commits that\n",
    "were on branches that were deleted or commits that were overwritten with an --amend commit can\n",
    "be recovered. However, anything you lose that was never committed is likely never to be seen again.\n",
    "\n",
    "- `git commit --amend` will open an editor to write a new commit message to the already committed changes.\n",
    "    - `git commit --amend -m \"message\"` is a shorthand\n",
    "    - `git commit --amend --no-edit` will add new files to the last commit; in case we forgot to add some files to that belong to the same commit\n",
    "- `git reset HEAD file` OR `git restore --staged file` will undo the staging of the file. This is helpful if we staged a file and then we need to change some things before committing.\n",
    "- `get checkout -- file` OR `git restore file` will delete all the changes made to a file. We will never be able to get back the deleted changes. \n",
    "- `get reset --soft HEAD^1` This will remove the commit from the history and point HEAD to its parent. `--soft` here means to keep the changes of the current working directory.\n",
    "- To cancel the commit while writing the message, we can exit vim with `:cquit` which exits vim with error and git will get that error -> won't proceed in creating the commit."
   ]
  },
  {
   "cell_type": "markdown",
   "metadata": {},
   "source": [
    "## Rebasing History"
   ]
  },
  {
   "cell_type": "markdown",
   "metadata": {},
   "source": [
    "- `git add file` or `git add --all` or `git add directory`. This will add all changes made to a specific file/directory.\n",
    "- `git add --patch` Allows us to cherry pick the changes that we want to stage. This is useful if we want to split the changes we made to a specific file into different commits. When we run the command, we will interactively choose what we want to stage using shortcuts.\n",
    "- `git diff/log HEAD..HEAD~2` will give us the diff/log for the range between two commits in history. We can either choose hash_values of commits or their references such as HEAD/master.\n",
    "- `git reset --hard HEAD~1` will make HEAD point to its parent and remove last commit from log history. Note that the last commit is not completely removed, we see that with `git reflog`.\n",
    "- `git cherry-pick origin/master..master` will replay the commits with this range in another branch. This is useful when we commit to the wrong branch and we want to make those commits in another branch. We can use this command after we checkout the correct branch and run the above command. To remove the commits from the branch we first commit, we can use `git reset --hard` (even though the removed commits are still in our history).\n",
    "- `git rebase master` We want to take the work we've done on our feature branch, and reapply it as if it was done on top of the additional commits in our master branch. When performing the rebase, Git finds the commits unique to our branch and computes the diff off the changes they introduced, then moves to the target branch, master in this case, and one by one applies the diffs, creating new commits reusing the commit messages from our branch. Once done, it updates our branch to point at the newest of these commits created by reapplying the diffs.\n",
    "- While we would never revise published history, specifically the master branch, we almost always revise our commits on feature branches before merging them in. We value a clean history, and the majority of the time, the commits in a feature branch contain many rounds of refactoring and PR reviews which we don't want in the permanent history. Instead, we want the most direct and concise form of the history that fully captures the change we settled on in our feature branch after completing any refactoring or updates. Use `git rebase -i master` will allow us to do just that.\n",
    "    - We can remove, reorder, squash, edit, and split commits using interactive rebase.\n",
    "    - Git applies and rewrite the changed commits and all the commits that follow the changed ones.\n",
    "    - It is highly recommended to not change history if you already pushed it to the remote server unless we're working on feature branch and are doing it to clean up history before merging and close the pull request.\n",
    "    - Reording is simply reordering the commits shown in the editor.\n",
    "    - Be careful that the order of commits is reverse order. This means last commit will be last."
   ]
  },
  {
   "cell_type": "markdown",
   "metadata": {},
   "source": [
    "## Git Object Model"
   ]
  },
  {
   "cell_type": "markdown",
   "metadata": {},
   "source": [
    "- Git stores everything in __.git__ directory. So deleting this directory will basically delete the whole history and can't be recovered.\n",
    "- Git stores all of its representations using __objects__ directory. Object can be: blob or tree or commit.\n",
    "- Git use __sha1sum__ to get the hash value of each object. It is 40 hexadecimal characters (160 bits).\n",
    "    - Git uses the first two characters for the name of directory for the object and the other 38 characters for the object itself.\n",
    "    - Git stores objects based on their hash values (content addressable storage).\n",
    "    - Git compresses the contents using zlib\n",
    "```c\n",
    "// a file is a bunch of bytes\n",
    "type object = blob | tree | commit\n",
    "objects = map<sha1sum(object), object>\n",
    "```\n",
    "```python\n",
    "def store(obj):\n",
    "    id = sha1sum(obj)\n",
    "    objects[id] = obj\n",
    "    return\n",
    "// a directory contains named files and directories\n",
    "type tree = map<string, tree | file>\n",
    "def load(id):\n",
    "    return objects[id]\n",
    "```"
   ]
  },
  {
   "cell_type": "code",
   "execution_count": 7,
   "metadata": {},
   "outputs": [
    {
     "name": "stdout",
     "output_type": "stream",
     "text": [
      "total 48\n",
      "drwxr-xr-x  15 imad  staff   480 Nov  5 09:08 \u001b[1m\u001b[36m.\u001b[m\u001b[m\n",
      "drwxr-xr-x@ 12 imad  staff   384 Nov  5 06:56 \u001b[1m\u001b[36m..\u001b[m\u001b[m\n",
      "-rw-r--r--   1 imad  staff    15 Mar 17  2020 COMMIT_EDITMSG\n",
      "-rw-r--r--   1 imad  staff    23 Feb 12  2020 HEAD\n",
      "drwxr-xr-x   2 imad  staff    64 Feb 12  2020 \u001b[1m\u001b[36mbranches\u001b[m\u001b[m\n",
      "-rw-r--r--   1 imad  staff   455 Mar 17  2020 config\n",
      "-rw-r--r--   1 imad  staff    73 Feb 12  2020 description\n",
      "drwxr-xr-x  13 imad  staff   416 Feb 12  2020 \u001b[1m\u001b[36mhooks\u001b[m\u001b[m\n",
      "-rw-r--r--   1 imad  staff  3913 Nov  5 09:08 index\n",
      "drwxr-xr-x   3 imad  staff    96 Feb 12  2020 \u001b[1m\u001b[36minfo\u001b[m\u001b[m\n",
      "drwxr-xr-x   4 imad  staff   128 Feb 12  2020 \u001b[1m\u001b[36mlogs\u001b[m\u001b[m\n",
      "drwxr-xr-x   3 imad  staff    96 Mar 17  2020 \u001b[1m\u001b[36mmodules\u001b[m\u001b[m\n",
      "drwxr-xr-x  94 imad  staff  3008 Mar 17  2020 \u001b[1m\u001b[36mobjects\u001b[m\u001b[m\n",
      "-rw-r--r--   1 imad  staff   114 Feb 12  2020 packed-refs\n",
      "drwxr-xr-x   5 imad  staff   160 Feb 12  2020 \u001b[1m\u001b[36mrefs\u001b[m\u001b[m\n"
     ]
    }
   ],
   "source": [
    "!ls -al ../../.git"
   ]
  },
  {
   "cell_type": "code",
   "execution_count": 27,
   "metadata": {},
   "outputs": [
    {
     "name": "stdout",
     "output_type": "stream",
     "text": [
      "\u001b[1m\u001b[36m.\u001b[m\u001b[m    \u001b[1m\u001b[36m0c\u001b[m\u001b[m   \u001b[1m\u001b[36m1a\u001b[m\u001b[m   \u001b[1m\u001b[36m26\u001b[m\u001b[m   \u001b[1m\u001b[36m37\u001b[m\u001b[m   \u001b[1m\u001b[36m43\u001b[m\u001b[m   \u001b[1m\u001b[36m50\u001b[m\u001b[m   \u001b[1m\u001b[36m62\u001b[m\u001b[m   \u001b[1m\u001b[36m72\u001b[m\u001b[m   \u001b[1m\u001b[36m8b\u001b[m\u001b[m   \u001b[1m\u001b[36m9e\u001b[m\u001b[m   \u001b[1m\u001b[36mb1\u001b[m\u001b[m   \u001b[1m\u001b[36mc5\u001b[m\u001b[m   \u001b[1m\u001b[36md1\u001b[m\u001b[m   \u001b[1m\u001b[36me0\u001b[m\u001b[m   \u001b[1m\u001b[36mfc\u001b[m\u001b[m\n",
      "\u001b[1m\u001b[36m..\u001b[m\u001b[m   \u001b[1m\u001b[36m0f\u001b[m\u001b[m   \u001b[1m\u001b[36m1d\u001b[m\u001b[m   \u001b[1m\u001b[36m29\u001b[m\u001b[m   \u001b[1m\u001b[36m38\u001b[m\u001b[m   \u001b[1m\u001b[36m45\u001b[m\u001b[m   \u001b[1m\u001b[36m52\u001b[m\u001b[m   \u001b[1m\u001b[36m63\u001b[m\u001b[m   \u001b[1m\u001b[36m73\u001b[m\u001b[m   \u001b[1m\u001b[36m8e\u001b[m\u001b[m   \u001b[1m\u001b[36ma2\u001b[m\u001b[m   \u001b[1m\u001b[36mb2\u001b[m\u001b[m   \u001b[1m\u001b[36mc7\u001b[m\u001b[m   \u001b[1m\u001b[36md2\u001b[m\u001b[m   \u001b[1m\u001b[36me1\u001b[m\u001b[m   \u001b[1m\u001b[36mff\u001b[m\u001b[m\n",
      "\u001b[1m\u001b[36m00\u001b[m\u001b[m   \u001b[1m\u001b[36m12\u001b[m\u001b[m   \u001b[1m\u001b[36m1f\u001b[m\u001b[m   \u001b[1m\u001b[36m2a\u001b[m\u001b[m   \u001b[1m\u001b[36m39\u001b[m\u001b[m   \u001b[1m\u001b[36m49\u001b[m\u001b[m   \u001b[1m\u001b[36m58\u001b[m\u001b[m   \u001b[1m\u001b[36m64\u001b[m\u001b[m   \u001b[1m\u001b[36m75\u001b[m\u001b[m   \u001b[1m\u001b[36m91\u001b[m\u001b[m   \u001b[1m\u001b[36ma5\u001b[m\u001b[m   \u001b[1m\u001b[36mb3\u001b[m\u001b[m   \u001b[1m\u001b[36mca\u001b[m\u001b[m   \u001b[1m\u001b[36md3\u001b[m\u001b[m   \u001b[1m\u001b[36meb\u001b[m\u001b[m   \u001b[1m\u001b[36minfo\u001b[m\u001b[m\n",
      "\u001b[1m\u001b[36m03\u001b[m\u001b[m   \u001b[1m\u001b[36m13\u001b[m\u001b[m   \u001b[1m\u001b[36m20\u001b[m\u001b[m   \u001b[1m\u001b[36m2b\u001b[m\u001b[m   \u001b[1m\u001b[36m3f\u001b[m\u001b[m   \u001b[1m\u001b[36m4a\u001b[m\u001b[m   \u001b[1m\u001b[36m5a\u001b[m\u001b[m   \u001b[1m\u001b[36m67\u001b[m\u001b[m   \u001b[1m\u001b[36m77\u001b[m\u001b[m   \u001b[1m\u001b[36m96\u001b[m\u001b[m   \u001b[1m\u001b[36ma9\u001b[m\u001b[m   \u001b[1m\u001b[36mb4\u001b[m\u001b[m   \u001b[1m\u001b[36mcc\u001b[m\u001b[m   \u001b[1m\u001b[36md8\u001b[m\u001b[m   \u001b[1m\u001b[36mee\u001b[m\u001b[m   \u001b[1m\u001b[36mpack\u001b[m\u001b[m\n",
      "\u001b[1m\u001b[36m07\u001b[m\u001b[m   \u001b[1m\u001b[36m17\u001b[m\u001b[m   \u001b[1m\u001b[36m21\u001b[m\u001b[m   \u001b[1m\u001b[36m2c\u001b[m\u001b[m   \u001b[1m\u001b[36m40\u001b[m\u001b[m   \u001b[1m\u001b[36m4b\u001b[m\u001b[m   \u001b[1m\u001b[36m5f\u001b[m\u001b[m   \u001b[1m\u001b[36m68\u001b[m\u001b[m   \u001b[1m\u001b[36m7f\u001b[m\u001b[m   \u001b[1m\u001b[36m98\u001b[m\u001b[m   \u001b[1m\u001b[36maa\u001b[m\u001b[m   \u001b[1m\u001b[36mb6\u001b[m\u001b[m   \u001b[1m\u001b[36mce\u001b[m\u001b[m   \u001b[1m\u001b[36mdc\u001b[m\u001b[m   \u001b[1m\u001b[36mf0\u001b[m\u001b[m\n",
      "\u001b[1m\u001b[36m08\u001b[m\u001b[m   \u001b[1m\u001b[36m19\u001b[m\u001b[m   \u001b[1m\u001b[36m22\u001b[m\u001b[m   \u001b[1m\u001b[36m33\u001b[m\u001b[m   \u001b[1m\u001b[36m42\u001b[m\u001b[m   \u001b[1m\u001b[36m4d\u001b[m\u001b[m   \u001b[1m\u001b[36m61\u001b[m\u001b[m   \u001b[1m\u001b[36m6f\u001b[m\u001b[m   \u001b[1m\u001b[36m8a\u001b[m\u001b[m   \u001b[1m\u001b[36m9d\u001b[m\u001b[m   \u001b[1m\u001b[36mb0\u001b[m\u001b[m   \u001b[1m\u001b[36mb8\u001b[m\u001b[m   \u001b[1m\u001b[36md0\u001b[m\u001b[m   \u001b[1m\u001b[36mdd\u001b[m\u001b[m   \u001b[1m\u001b[36mf8\u001b[m\u001b[m\n"
     ]
    }
   ],
   "source": [
    "!ls -a ../../.git/objects"
   ]
  },
  {
   "cell_type": "code",
   "execution_count": 21,
   "metadata": {},
   "outputs": [
    {
     "name": "stdout",
     "output_type": "stream",
     "text": [
      "total 8\n",
      "drwxr-xr-x   3 imad  staff    96 Mar  4  2020 \u001b[1m\u001b[36m.\u001b[m\u001b[m\n",
      "drwxr-xr-x  94 imad  staff  3008 Mar 17  2020 \u001b[1m\u001b[36m..\u001b[m\u001b[m\n",
      "-r--r--r--   1 imad  staff   166 Mar  4  2020 5941ab3c125a3a669370d96cd5cb8496f8acde\n"
     ]
    }
   ],
   "source": [
    "!ls -Ral ../../.git/objects/ee"
   ]
  },
  {
   "cell_type": "code",
   "execution_count": 26,
   "metadata": {},
   "outputs": [
    {
     "name": "stdout",
     "output_type": "stream",
     "text": [
      "100644 blob b6e47617de110dea7ca47e087ff1347cc2646eda\t.gitignore\n",
      "100644 blob 261eeb9e9f8b2b4b0d119366dda99c6fd7d35c64\tLICENSE\n",
      "100644 blob 58da9de606d62625c379fea5ca020d19d958fb18\tREADME.md\n",
      "040000 tree 6fea6c3802fd1cf83bf19bfc2302da6b79638ab5\tmissing-cs-semester\n"
     ]
    }
   ],
   "source": [
    "!git cat-file -p ee5941ab3c125a3a669370d96cd5cb8496f8acde"
   ]
  },
  {
   "cell_type": "markdown",
   "metadata": {},
   "source": [
    "- `blobs`: Binary large objects which stores only the context of the file; not its name (array of bytes). \n",
    "```c\n",
    "type blob = array<byte>\n",
    "```\n",
    "        - It passed the type of file which is \"blob\", the number of characters in it, the separator character, and the actual content to the sha1sum to get the hash value.\n",
    "        - Since Git does not store the name of the file or any of its metadata, if you have two files with the same content then Git only stores it once."
   ]
  },
  {
   "cell_type": "code",
   "execution_count": 30,
   "metadata": {},
   "outputs": [
    {
     "name": "stdout",
     "output_type": "stream",
     "text": [
      "# software-engineering\n",
      "Materials for software engineering.\n"
     ]
    }
   ],
   "source": [
    "!git cat-file -p 58da9de606d62625c379fea5ca020d19d958fb18"
   ]
  },
  {
   "cell_type": "code",
   "execution_count": 31,
   "metadata": {},
   "outputs": [
    {
     "name": "stdout",
     "output_type": "stream",
     "text": [
      "       2       6      59 ../../README.md\n"
     ]
    }
   ],
   "source": [
    "!wc ../../README.md"
   ]
  },
  {
   "cell_type": "code",
   "execution_count": 68,
   "metadata": {},
   "outputs": [
    {
     "name": "stdout",
     "output_type": "stream",
     "text": [
      "blob 60\u0000\n",
      "# software-engineering\n",
      "Materials for software engineering.\n"
     ]
    }
   ],
   "source": [
    "%%bash\n",
    "cat <(echo -e \"blob 60\\0\") ../../README.md"
   ]
  },
  {
   "cell_type": "code",
   "execution_count": 75,
   "metadata": {},
   "outputs": [],
   "source": [
    "# # Since todo.md and todo2.md are identical, Git saves ONLY one copy\n",
    "# 100644 blob b3dfa8b0b7c73f2c7156dfc69c737d05f2f900c3    file.txt\n",
    "# 100644 blob c1ee9d5404109b66f21fa193da635aa8c4f04c47    todo.md\n",
    "# 100644 blob c1ee9d5404109b66f21fa193da635aa8c4f04c47    todo2.md"
   ]
  },
  {
   "cell_type": "code",
   "execution_count": 66,
   "metadata": {},
   "outputs": [
    {
     "name": "stdout",
     "output_type": "stream",
     "text": [
      "5ee782528aa7bc3d388c33339962f6fce514b39e  -\n"
     ]
    }
   ],
   "source": [
    "%%bash\n",
    "cat <(echo -e \"blob 58\\0\") ../../README.md | shasum"
   ]
  },
  {
   "cell_type": "markdown",
   "metadata": {},
   "source": [
    "- `trees`: Tree is a recursive data structure that contains other trees/blobs; i.e. it contains a list of pointers to other trees/blobs. In this context, tree is a directory. Therefore, the root directory is the main directory that has .git as its subdir. Each line in the tree object's file contains a pointer (the object's hash) to one such object (tree or blob), while also providing the mode, object type, and a name for the file or directory.\n",
    "```c\n",
    "// a directory contains named files and directories\n",
    "type tree = map<sha1sum(tree | file), tree | file>;\n",
    "```\n",
    "    - It maps strings(hash values) to objects. So if a directory is empty, Git does not add it as untracked change until we add a file to it or any of its directory because empty directory has nothing to map stuff to. Therefore, to track empty directories, we can add `.gitkeep` to the directory if it is empty to be able to track it.\n",
    "    - We pass all objects (not their contents) to get the hash value.\n",
    "    - Tree objects themselves do not have names, much like blobs. Parent trees associate names for subtrees, and the root tree, referred to as the \"working tree\" of a repository, in fact has no name. This has two fun characteristics:\n",
    "        - The repo doesn't care what you call it. You can rename your local directory that contains your repository to anything you'd like. Git is blissfully unaware of the name of the directory that contains the .git repo directory.\n",
    "        - We can rename subtrees as much as we want, and only parent objects need to update. The subtree object itself and everything below remain untouched.\n",
    "- Trees summary:\n",
    "    - Trees list out the contents of a directory (blobs and subtrees).\n",
    "    - For each object, the mode, permissions, type, hash, and name is listed.\n",
    "    - Tree objects must contain at least one blob or tree; otherwise, it won't be tracked.\n",
    "    - Trees can be nested to any depth.\n",
    "    - Trees, like blobs, don't store names. The names are stored in parent trees. Therefore, changing names of subtrees only change the names in the parent tree. Therefore, since root directory has no parent, changing its name doesn't have any effect on git.\n",
    "    - Trees are named and stored in the objects directory by hashing their contents (the list of objects described above)."
   ]
  },
  {
   "cell_type": "code",
   "execution_count": 78,
   "metadata": {},
   "outputs": [
    {
     "name": "stdout",
     "output_type": "stream",
     "text": [
      "100644 blob ced9612a7d927cdb23d0ba2de47679504b0c9fc3\tCommand-Line-Environment.ipynb\n",
      "100644 blob 68fe60e479d316b7f40f194a8d3400e7f5c8af60\tData-Wrangling.ipynb\n",
      "100644 blob dcee12ed0ae6096339dc40a70c5ff67a2afdec31\tDebugging-And-Profiling.ipynb\n",
      "100644 blob 40582a6d5d23028acc251c54f6e124ce9f2ec5ba\tPetpouri.ipynb\n",
      "100644 blob 6405b8d2b26e17020b12f98639148615d6c9baea\tPlan.ipynb\n",
      "100644 blob f0aca55804924d43eb3d687ebc9a780f3b8baff3\tSecurity-And-Cryptography.ipynb\n",
      "100644 blob 035f52d11f6126cac575b899f6ff0011060aeddd\tShell-Scripting.ipynb\n",
      "100644 blob a2235c5c9a32920e7f15c3bf63afde41e60c4e52\tVersion-Control(Git).ipynb\n",
      "100644 blob 395d086c29d15560f0b3eee28c0489afe1b6de8e\tVim-Tutor-Summaries.ipynb\n",
      "100644 blob 9d756b15f398735d1bd414fd97afa5f709db06f5\tbasic.png\n",
      "100644 blob 50daf1bb695821f251fbc44880413ca17ca8a8b6\tcommit_history.png\n",
      "100644 blob 43d8b8f1031c6c81f0153e0616be7576de6401f9\tpycallgraph.png\n",
      "100644 blob 5a0fa1a6cb3918e9c2d316433edfd5ccd275bd59\tvim-tutorial.md\n"
     ]
    }
   ],
   "source": [
    "# master is a branch that points to a commit which also points to a tree\n",
    "!git ls-tree master"
   ]
  },
  {
   "cell_type": "markdown",
   "metadata": {},
   "source": [
    "- `commits`: Contain parent, message, author, commiter, and current tree. Therefore, it is a file like any other object.\n",
    "```c\n",
    "// a commit has parents, metadata, and the top-level tree\n",
    "type commit = struct {\n",
    "    parent: array<commit>;\n",
    "    author: string\n",
    "    message: string\n",
    "    snapshot: tree\n",
    "}\n",
    "```\n",
    "    - It's worth noting that the commit object only contains a single reference to a working directory; Git doesn't store diffs. When diffing between two commits, it compares the working trees of the commits, computing the diff on demand.\n",
    "\n",
    "Git only stores the delta changes between commits and not everything. It also point to blobs/trees that have not been changed using old commits and don't store them again for new commits. Therefore, if a file has not been changed from previous commit, the hash value for that commit is the same so its address is still the same -> keep the same pointer."
   ]
  },
  {
   "cell_type": "markdown",
   "metadata": {},
   "source": [
    "<img src=\"git-objects-simple.png\" height=\"400px\" width=\"300px\" align=\"center\">"
   ]
  },
  {
   "cell_type": "markdown",
   "metadata": {},
   "source": [
    "## Packfiles"
   ]
  },
  {
   "cell_type": "markdown",
   "metadata": {},
   "source": [
    "These are files that *Git* uses to combine files into single file to save space instead of having different versions of the same file taking all the space and only saves the original version with deltas where pack index file will have offsets that point to the object in the pack file. *Git* automatically runs this when we have too many loose files or when run `git gc` command or when we push to remote server."
   ]
  },
  {
   "cell_type": "markdown",
   "metadata": {},
   "source": [
    "## Object Model Operations"
   ]
  },
  {
   "cell_type": "markdown",
   "metadata": {},
   "source": [
    "Review of the basic Git objects:\n",
    "\n",
    "- __Blobs__: Our base objects, storing the contents of a single version of a file.\n",
    "- __Trees__:Trees store directory listings, pointing at blobs and other trees to define a full directory structure.\n",
    "- __Commits__: Commits lock in a version of our code, pointing at a single tree, the \"working tree\", as well as holding the commit message and author info. Commits also point at parent commits to capture the history of our code.\n",
    "\n",
    "__References__: References are nothing but pointers to commits. They are stored under `.git/refs` directory as files where each file contains the hash_value of some commit.\n",
    "\n",
    "- Since it is a hassle to always refer to objects by their 40 hexadecimal string, we can use references to refer to objects. Contrary to objects, references are mutable. For example, `master` always refers to the latest commit in the main branch. `HEAD` refers to where we currently are in the history which will be used when creating new snapshot by making the parent for this commit the `HEAD` and then update `HEAD`.\n",
    "\n",
    "```python\n",
    "references = map<string, commit>;\n",
    "\n",
    "def update_reference(name, id):\n",
    "    references[name] = id\n",
    "\n",
    "def read_reference(name):\n",
    "    return references[name]\n",
    "\n",
    "def load_reference(name_or_id):\n",
    "    if name_or_id in references:\n",
    "        return load(references[name_or_id])\n",
    "    else:\n",
    "        return load(name_or_id)\n",
    "```"
   ]
  },
  {
   "cell_type": "code",
   "execution_count": 88,
   "metadata": {},
   "outputs": [
    {
     "name": "stdout",
     "output_type": "stream",
     "text": [
      "\u001b[01;34m../../.git\u001b[00m\n",
      "├── COMMIT_EDITMSG\n",
      "├── HEAD\n",
      "├── \u001b[01;34mbranches\u001b[00m\n",
      "├── config\n",
      "├── description\n",
      "├── \u001b[01;34mhooks\u001b[00m\n",
      "├── index\n",
      "├── \u001b[01;34minfo\u001b[00m\n",
      "├── \u001b[01;34mlogs\u001b[00m\n",
      "├── \u001b[01;34mmodules\u001b[00m\n",
      "├── \u001b[01;34mobjects\u001b[00m\n",
      "├── packed-refs\n",
      "└── \u001b[01;34mrefs\u001b[00m\n",
      "\n",
      "7 directories, 6 files\n"
     ]
    }
   ],
   "source": [
    "!tree -C -L 1 ../../.git"
   ]
  },
  {
   "cell_type": "code",
   "execution_count": 89,
   "metadata": {},
   "outputs": [
    {
     "name": "stdout",
     "output_type": "stream",
     "text": [
      "\u001b[01;34m../../.git/refs/\u001b[00m\n",
      "├── \u001b[01;34mheads\u001b[00m\n",
      "├── \u001b[01;34mremotes\u001b[00m\n",
      "└── \u001b[01;34mtags\u001b[00m\n",
      "\n",
      "3 directories, 0 files\n"
     ]
    }
   ],
   "source": [
    "!tree -C -L 1 ../../.git/refs/"
   ]
  },
  {
   "cell_type": "code",
   "execution_count": 90,
   "metadata": {},
   "outputs": [
    {
     "name": "stdout",
     "output_type": "stream",
     "text": [
      "\u001b[01;34m../../.git/refs/heads/\u001b[00m\n",
      "└── master\n",
      "\n",
      "0 directories, 1 file\n"
     ]
    }
   ],
   "source": [
    "!tree -C -L 1 ../../.git/refs/heads/"
   ]
  },
  {
   "cell_type": "code",
   "execution_count": 91,
   "metadata": {},
   "outputs": [
    {
     "name": "stdout",
     "output_type": "stream",
     "text": [
      "e1d95ecb4c02e0c30a8635a37631c523d2041299\n"
     ]
    }
   ],
   "source": [
    "%cat ../../.git/refs/heads/master"
   ]
  },
  {
   "cell_type": "code",
   "execution_count": 93,
   "metadata": {},
   "outputs": [
    {
     "name": "stdout",
     "output_type": "stream",
     "text": [
      "commit\n"
     ]
    }
   ],
   "source": [
    "!git cat-file -t e1d95ecb4c02e0c30a8635a37631c523d2041299"
   ]
  },
  {
   "cell_type": "code",
   "execution_count": 94,
   "metadata": {},
   "outputs": [
    {
     "name": "stdout",
     "output_type": "stream",
     "text": [
      "tree 75407c234b245d258c809de234e030f57dd98148\n",
      "parent 429137bbf1334dcea2719458bcc3a323cd829ecd\n",
      "author Imad <imad.dabbura@hotmail.com> 1584462760 -0500\n",
      "committer Imad <imad.dabbura@hotmail.com> 1584462760 -0500\n",
      "\n",
      "Review all nbs\n"
     ]
    }
   ],
   "source": [
    "!git cat-file -p e1d95ecb4c02e0c30a8635a37631c523d2041299"
   ]
  },
  {
   "cell_type": "markdown",
   "metadata": {},
   "source": [
    "## Branches"
   ]
  },
  {
   "cell_type": "markdown",
   "metadata": {},
   "source": [
    "- `heads` aka branches (because it is a collection of HEADS for each branch in Git repo) are nothing but pointers to commits. They are very simple objects, they only contain hash_value of the commit they are pointing to. Therefore, creating a branch is just creating a file in `refs/heads` with the name of the branch that has the commit of the HEAD of that branch. At the beginning, this file will have the commit the HEAD points to from the branch you were on when created the branch.\n",
    "- When you switch branches, Git resets your working directory to look like it did the last time you committed on that branch. It adds, removes, and modifies files automatically to make sure your working copy is what the branch looked like on your last commit to it.\n",
    "- Merging:\n",
    "    - If we are merging a feature branch into master branch and the feature branch is directly ahead of master where master's last commit can be reached following feature branch commit's history, Git will do fast-forward merge, which means it just updates the pointer to point forward.\n",
    "    - Otherwise, if head of master branch isn't direct ancestor of feature branch, Git does three-way merge by using 3 commits:\n",
    "        - Common ancestor commit\n",
    "        - Last commit from master branch and feature branch\n",
    "        - Creates a new snapshot with new commit object (**merge commit**) that points to two parents: last commit from master and last commit from feature branches\n",
    "    - If we have merge conflict, we can either abort the merge or resolve the merge conflist ourselves. Once we resolve the conflicts in all files, we should stage those files and then commit the changes. This would be the merge commit. We can use mergetool to resolve merge conflicts such as `vimdiff`.\n",
    "- `git branch -v` will show last commit of all branches\n",
    "- `git branch --merged` show all branches that were merged with the current branch we are on. `git branch --merged master` show all branches that were merged with master branch.\n",
    "- `git branch --no-merged` does the opposite.\n",
    "- We can't delete a branch if it has work that we haven't merged with master branch. We can force delete using `-D` flag.\n",
    "- We can rename a branch, but we should do it both locally and on the remote server. It is recommended to avoid renaming master branch because it would break integrations/scripts/etc. and requires a lot more work.\n",
    "    - Locally:\n",
    "        - `git branch --move oldname newname`\n",
    "    - Remote:\n",
    "         - `git push --set-upstream origin newname`\n",
    "         - `git push origin -d oldname`\n",
    "- `heads` are for local branches."
   ]
  },
  {
   "cell_type": "markdown",
   "metadata": {},
   "source": [
    "## Tags"
   ]
  },
  {
   "cell_type": "markdown",
   "metadata": {},
   "source": [
    "- __Tags__ are like branches, they too point to a commit and stored under `.git/refs` dir in `tags` dir. They are basically files that have the commits they are pointing to.\n",
    "- Tags can be created simply by `git tag version_no`. We can also create more complex tags by adding annotations, PGP signature, and other metadata. In this case, they will be stored in `refs/objects` dir and the tag will simply be the hash value of the tag object (which will also contain the hash of the commit that was tagged).\n",
    "    - Annotated tags, however, are stored as full objects in the Git database. They’re checksummed; contain the tagger name, email, and date; have a tagging message; and can be signed and verified with GNU Privacy Guard (GPG). It’s generally recommended that you create annotated tags so you can have all this information.\n",
    "- We can also tag previous commits by specifying their hash abbreviation: `git tag -a v1.0 ca21323`\n",
    "- `git push` doesn't transfer tags to remote server, we have to explicityly push tags: `git push origin v1.0`\n",
    "- `git tag` to list all tags\n",
    "- `git tag -l pattern` to look for tags that match specific patters\n",
    "- We can checkout tags to inspect files from that version: `git checkout tagname`. Any changes that are made and committed wouldn't belong to any branch and be unreachable unless we use exact commit hash. Therefore, to fix issues, create new branch from tag and do the changes.\n",
    "- The __difference__ between tags and branches is that branches evolve over time; however, tags point to fixed commit in repo's history.\n",
    "- We can delete tags:\n",
    "    - locally: `git tag -d tagname`\n",
    "    - remote: `git push remote_name -d tagname` OR `git push remote_name :refs/tags/tagname`"
   ]
  },
  {
   "cell_type": "code",
   "execution_count": 96,
   "metadata": {},
   "outputs": [
    {
     "name": "stdout",
     "output_type": "stream",
     "text": [
      "\u001b[01;34m/Users/imad/Desktop/git-repo/.git/refs/\u001b[00m\n",
      "├── \u001b[01;34mheads\u001b[00m\n",
      "│   ├── feature\n",
      "│   ├── master\n",
      "│   └── test\n",
      "└── \u001b[01;34mtags\u001b[00m\n",
      "    └── v.0.1\n",
      "\n",
      "2 directories, 4 files\n"
     ]
    }
   ],
   "source": [
    "!tree -C /Users/imad/Desktop/git-repo/.git/refs/"
   ]
  },
  {
   "cell_type": "code",
   "execution_count": 97,
   "metadata": {},
   "outputs": [
    {
     "name": "stdout",
     "output_type": "stream",
     "text": [
      "6e9c6886a2180fdfde291a130aa9e10a52bac679\n"
     ]
    }
   ],
   "source": [
    "!cat /Users/imad/Desktop/git-repo/.git/refs/tags/*"
   ]
  },
  {
   "cell_type": "code",
   "execution_count": 100,
   "metadata": {},
   "outputs": [
    {
     "name": "stdout",
     "output_type": "stream",
     "text": [
      "* \u001b[31m6e9c688\t\u001b[32m (HEAD -> master, tag: v.0.1, test)\u001b[0m Renaming \u001b[33m(Imad)\u001b[0m\n",
      "* \u001b[31mff9e667\t\u001b[32m\u001b[0m Add test1 dir \u001b[33m(Imad)\u001b[0m\n",
      "* \u001b[31me503b6e\t\u001b[32m\u001b[0m Add test dir \u001b[33m(Imad)\u001b[0m\n",
      "* \u001b[31m8610c78\t\u001b[32m\u001b[0m Add copied file \u001b[33m(Imad)\u001b[0m\n",
      "* \u001b[31med738c9\t\u001b[32m (feature)\u001b[0m Rebased all commits \u001b[33m(Imad)\u001b[0m\n",
      "* \u001b[31m2050b90\t\u001b[32m\u001b[0m Add host to file \u001b[33m(Imad)\u001b[0m\n",
      "* \u001b[31m91eacf5\t\u001b[32m\u001b[0m Add host \u001b[33m(Imad)\u001b[0m\n",
      "* \u001b[31med27259\t\u001b[32m\u001b[0m patch commit \u001b[33m(Imad)\u001b[0m\n",
      "* \u001b[31mff2d260\t\u001b[32m\u001b[0m third commit \u001b[33m(Imad)\u001b[0m\n",
      "* \u001b[31m6dd0c14\t\u001b[32m\u001b[0m Change second commit \u001b[33m(Imad)\u001b[0m\n",
      "* \u001b[31mc2b7166\t\u001b[32m\u001b[0m first commit \u001b[33m(Imad)\u001b[0m"
     ]
    }
   ],
   "source": [
    "%%bash\n",
    "cd ~/Desktop/git-repo/\n",
    "git graph2"
   ]
  },
  {
   "cell_type": "markdown",
   "metadata": {},
   "source": [
    "## Remote Branches"
   ]
  },
  {
   "cell_type": "markdown",
   "metadata": {},
   "source": [
    "__Remote Branches__ are the same as local branches. They are again files that point to commits.\n",
    "\n",
    "- We can have multiple remotes where each one has its own branches. `origin` is the (default) main one typically used for the upstream (we can change it to other names when cloning a repo such as `git clone URL -o anothername`. `git remote -v` would list all the remotes for the repository. We can add remotes `git remote add remote_name remote_url`\n",
    "- All the remote branches under `remotes/origin/` will be updated ONLY when communicating with the remote server. Such branches act more as bookmarks and can't be changed by any Git commands to point to different commits directly.\n",
    "- Local branch is called **Tracking Branch** if it trackds a remote branche (called **Upstream Branches**)\n",
    "    - `git checkout branchname` would create tracking branch that tracks default remote remotename/branchname if branchname doesn't exist and exactly matches one upstream branch names.\n",
    "    - We can have local branches track branches from different remotes: `git checkout -b remotename/remotebranch` which would create local branch branchname that tracks branchname on remotename server. We can have different name for our local branch as `git checkout -b localbranchname remotename/remotebranch`.\n",
    "    - If we already have a local branch, we can use `git branch --set-upstream-to=remotename/remotebranch` to make current branch trask remotebranch on remotename server\n",
    "    - If I am on a tracking branch and run `git pull`, it knows which server to fetch from and which branch to merge in\n",
    "- `git fetch` download the changes from all branches from remote to local repository without merging them. We should do the merge ourselves such as `git merge origin/branchname`\n",
    "- `git pull` download and merge the changes from remote to local branches.\n",
    "- `git remote show remote_name` will show everything in details about the `remote_name` such as URL, local/remote branches, etc.\n",
    "- We can rename/delete remotes as `git remote rename/remove remote_name`. If we delete remote, it deletes all config/settings related to the deleted remote. Renaming would rename branches.\n",
    "- Remote references are read-only, which means we will never update them using `git commit` but *Git* manages them as bookmarks.\n",
    "- By default, *Git* fetches all references from remote to heads -> All branches. We can change this behavior on the command line when running `git fetch remote_name remote_branch:refs/remotes/remote_name/branch_name`\n",
    "- Pushing local branch to remote can be done in different forms:\n",
    "    - `git push origin branchname`\n",
    "    - `git push origin localbranchname:remotebranchname` which lets us have a different name on the remote server for our local branch\n",
    "- We can delete remote branch `git push origin --delete branchname`"
   ]
  },
  {
   "cell_type": "code",
   "execution_count": 108,
   "metadata": {},
   "outputs": [
    {
     "name": "stdout",
     "output_type": "stream",
     "text": [
      "\u001b[01;34m../../.git/refs/remotes/\u001b[00m\n",
      "└── \u001b[01;34morigin\u001b[00m\n",
      "    ├── HEAD\n",
      "    └── master\n",
      "\n",
      "1 directory, 2 files\n"
     ]
    }
   ],
   "source": [
    "!tree -C ../../.git/refs/remotes/"
   ]
  },
  {
   "cell_type": "code",
   "execution_count": 109,
   "metadata": {},
   "outputs": [
    {
     "name": "stdout",
     "output_type": "stream",
     "text": [
      "ref: refs/remotes/origin/master\n",
      "e1d95ecb4c02e0c30a8635a37631c523d2041299\n"
     ]
    }
   ],
   "source": [
    "%cat ../../.git/refs/remotes/origin/*"
   ]
  },
  {
   "cell_type": "markdown",
   "metadata": {},
   "source": [
    "## HEAD Object"
   ]
  },
  {
   "cell_type": "markdown",
   "metadata": {},
   "source": [
    "`HEAD`, unlike the other objects we've discussed, is a singleton, meaning that there is only ever one HEAD. It identifies the currently checked out object. Typically, this is a branch (with that branch pointing to a commit), but it is possible to check out a commit directly, in which case HEAD would be pointing at that commit.\n",
    "\n",
    "HEAD is a file just like our branch objects. It lives at the root of the .git/ directory and its contents are similarly simple."
   ]
  },
  {
   "cell_type": "code",
   "execution_count": 114,
   "metadata": {},
   "outputs": [
    {
     "name": "stdout",
     "output_type": "stream",
     "text": [
      "ref: refs/heads/master\n"
     ]
    }
   ],
   "source": [
    "%cat /Users/imad/Desktop/git-repo/.git/HEAD"
   ]
  },
  {
   "cell_type": "code",
   "execution_count": 115,
   "metadata": {},
   "outputs": [
    {
     "name": "stdout",
     "output_type": "stream",
     "text": [
      "* \u001b[31m6e9c688\t\u001b[32m (HEAD -> master, tag: v.0.1, test)\u001b[0m Renaming \u001b[33m(Imad)\u001b[0m\n",
      "* \u001b[31mff9e667\t\u001b[32m\u001b[0m Add test1 dir \u001b[33m(Imad)\u001b[0m\n",
      "* \u001b[31me503b6e\t\u001b[32m\u001b[0m Add test dir \u001b[33m(Imad)\u001b[0m\n",
      "* \u001b[31m8610c78\t\u001b[32m\u001b[0m Add copied file \u001b[33m(Imad)\u001b[0m\n",
      "* \u001b[31med738c9\t\u001b[32m (feature)\u001b[0m Rebased all commits \u001b[33m(Imad)\u001b[0m\n",
      "* \u001b[31m2050b90\t\u001b[32m\u001b[0m Add host to file \u001b[33m(Imad)\u001b[0m\n",
      "* \u001b[31m91eacf5\t\u001b[32m\u001b[0m Add host \u001b[33m(Imad)\u001b[0m\n",
      "* \u001b[31med27259\t\u001b[32m\u001b[0m patch commit \u001b[33m(Imad)\u001b[0m\n",
      "* \u001b[31mff2d260\t\u001b[32m\u001b[0m third commit \u001b[33m(Imad)\u001b[0m\n",
      "* \u001b[31m6dd0c14\t\u001b[32m\u001b[0m Change second commit \u001b[33m(Imad)\u001b[0m\n",
      "* \u001b[31mc2b7166\t\u001b[32m\u001b[0m first commit \u001b[33m(Imad)\u001b[0m"
     ]
    }
   ],
   "source": [
    "%%bash\n",
    "cd ~/Desktop/git-repo/\n",
    "git graph2"
   ]
  },
  {
   "cell_type": "code",
   "execution_count": 116,
   "metadata": {},
   "outputs": [
    {
     "name": "stderr",
     "output_type": "stream",
     "text": [
      "Note: checking out '8610c78'.\n",
      "\n",
      "You are in 'detached HEAD' state. You can look around, make experimental\n",
      "changes and commit them, and you can discard any commits you make in this\n",
      "state without impacting any branches by performing another checkout.\n",
      "\n",
      "If you want to create a new branch to retain commits you create, you may\n",
      "do so (now or later) by using -b with the checkout command again. Example:\n",
      "\n",
      "  git checkout -b <new-branch-name>\n",
      "\n",
      "HEAD is now at 8610c78 Add copied file\n"
     ]
    }
   ],
   "source": [
    "%%bash\n",
    "cd ~/Desktop/git-repo/\n",
    "git checkout 8610c78"
   ]
  },
  {
   "cell_type": "code",
   "execution_count": 118,
   "metadata": {},
   "outputs": [
    {
     "name": "stdout",
     "output_type": "stream",
     "text": [
      "8610c78113fe423b20a9f84d485b49af5ad089b0\n"
     ]
    }
   ],
   "source": [
    "%cat /Users/imad/Desktop/git-repo/.git/HEAD"
   ]
  },
  {
   "cell_type": "code",
   "execution_count": 117,
   "metadata": {},
   "outputs": [
    {
     "name": "stdout",
     "output_type": "stream",
     "text": [
      "* \u001b[31m6e9c688\t\u001b[32m (tag: v.0.1, test, master)\u001b[0m Renaming \u001b[33m(Imad)\u001b[0m\n",
      "* \u001b[31mff9e667\t\u001b[32m\u001b[0m Add test1 dir \u001b[33m(Imad)\u001b[0m\n",
      "* \u001b[31me503b6e\t\u001b[32m\u001b[0m Add test dir \u001b[33m(Imad)\u001b[0m\n",
      "* \u001b[31m8610c78\t\u001b[32m (HEAD)\u001b[0m Add copied file \u001b[33m(Imad)\u001b[0m\n",
      "* \u001b[31med738c9\t\u001b[32m (feature)\u001b[0m Rebased all commits \u001b[33m(Imad)\u001b[0m\n",
      "* \u001b[31m2050b90\t\u001b[32m\u001b[0m Add host to file \u001b[33m(Imad)\u001b[0m\n",
      "* \u001b[31m91eacf5\t\u001b[32m\u001b[0m Add host \u001b[33m(Imad)\u001b[0m\n",
      "* \u001b[31med27259\t\u001b[32m\u001b[0m patch commit \u001b[33m(Imad)\u001b[0m\n",
      "* \u001b[31mff2d260\t\u001b[32m\u001b[0m third commit \u001b[33m(Imad)\u001b[0m\n",
      "* \u001b[31m6dd0c14\t\u001b[32m\u001b[0m Change second commit \u001b[33m(Imad)\u001b[0m\n",
      "* \u001b[31mc2b7166\t\u001b[32m\u001b[0m first commit \u001b[33m(Imad)\u001b[0m"
     ]
    }
   ],
   "source": [
    "%%bash\n",
    "cd ~/Desktop/git-repo/\n",
    "git graph2"
   ]
  },
  {
   "cell_type": "markdown",
   "metadata": {},
   "source": [
    "## Conclusion"
   ]
  },
  {
   "cell_type": "markdown",
   "metadata": {},
   "source": [
    "- __Objects__: blobs, trees, and commits.\n",
    "- __Refs__: branches, tags, and remote branches.\n",
    "- __HEAD__: The single pointer to rule them all.\n",
    "\n",
    "<img src=\"git-objects.png\" width=\"500\" >"
   ]
  },
  {
   "cell_type": "markdown",
   "metadata": {},
   "source": [
    "## Operations"
   ]
  },
  {
   "cell_type": "markdown",
   "metadata": {},
   "source": [
    "- __Checkout__: `git checkout -b new-branch` First Git will follow from the HEAD to the current branch to determine what commit hash that branch points at. With that info, Git creates a new file in .git/refs/heads with our new branch name as the file name, and the commit hash as the contents. Lastly, it updates HEAD to point at this new ref.\n",
    "- __Verbose Checkout__: `git checkout -b new-branch master` It is almost the same as the previous checkout, but instead of starting from `HEAD`, it starts from the base branch we provided which is `master` in this case.\n",
    "- __Checkout a File__: `git checkout commit/refs -- file_name` This will look at the tree that the commit is pointing at (in the case of refs, it looks first for the commit that the refs is pointing at), then walking down the tree to get to the blob for the file and restore that version of that file.\n",
    "- __Committing__: `git commit -m \"test\"` When we commit, It involves at least a change to one blob. This will lead to a creation of new tree with current state of the code that reflect the changes. Git then creates commit object that will point to the new tree. Finally, it will update the current branch to point to the newly created branch.\n",
    "- __Fast-Forward Merge__: `git merge --ff-only branch-name` This kind of merge creates no objects, It just updates the current branch to a different commit.\n",
    "- __Merge__: `git merge branch-name` In contrast to the fast forward merge, Git creates a new tree by trying its best to combine two divergent branches. It then creates a new commit that point to the newly created tree and the parent would be the two commits; latest commit from each branch. This is what _merging using pull requests_ does on Github. It may not be preferable because the actual code changes during merge when Git tries to combine all of them and we may end up with conflict.\n",
    "- __Rebase__: `git rebase master` Rebase can be performed when we have new commits on both our feature branch, and our \"upstream\" branch (typically master). We want to update the commits on our branch so they include the changes on master. When we rebase, we essentially replay our work on the current version of the upstream branch. Git does this by calculating each of the diffs for the commits unique to our branch, then applies them onto the upstream branch one by one. Each application of a diff creates a new commit, reusing the associated commit message and author details. Note that the old commits still exist, but they are now orphaned. No refs point to them any longer and so they are essentially unreachable, although we could easily restore them by checking the reflog. Once all the new commits have been created, our branch is updated to point at the tip commit of our rebased group. From here, we could now fast-forward merge the master branch into ours, as we are now in line with its history. The key difference between this and a traditional merge is that all of the commits here were created by us, and we get to interact with them and test them as needed before merging them into master.\n",
    "- __Interactive Rebase__: `git rebase -i master` This mainly happens when we are on a feature branch that is ahead of master and we want to combine both branches w/o incorporating all the commits from feature branch. In this case, we want to squash all the commits in the feature branch into one commit that will be later part of the master branch and not pollute the logs on master branch with a lot small incremental commits from the feature branch. Note that interactive rebase doesn't change any code, it only cleans up history."
   ]
  },
  {
   "cell_type": "markdown",
   "metadata": {},
   "source": [
    "## Git Customization"
   ]
  },
  {
   "cell_type": "markdown",
   "metadata": {},
   "source": [
    "- The `gitconfig` file is where Git stores and reads all configuration. The file lives in your home directory as a \"dotfile\", ~/.gitconfig. The gitconfig file is read automatically before any Git command is run. That turns out to be very handy as it means you never have to reload or experience out-of-sync commands. Additionally, git automatically writes to it when we run commands like git config --global alias.ga.\n",
    "- The config file is split into sections such as _color, alias, core, push, etc._ For example:\n",
    "```bash\n",
    "[push]\n",
    "    default = upstream\n",
    "```\n",
    "is the same as git config --global push.default upstream.\n",
    "- Few useful configurations:\n",
    "    - `push.default upstream` this instructs Git how to respond when you run git push with no arguments. With the upstream configuration, it will push the configured upstream tracking branch (set up with git push -u).\n",
    "    - `merge.ff only` this configuration tells Git to reject merges that are non-fastforward. With fast-forward merges, no new commits are created, but instead the merging branch (typically master) is only moved to point at the commits on the target branch (typically our feature branch).\n",
    "    - `fetch.prune true` this instructs Git to clear local references to remote branches which have been deleted when you pull.\n",
    "- By default, we can only execute one git command when aliasing. To execute more than one command, we can start the command with `!` and then we can execute multiple shell commands using pipes, &&, and ||. For example, `!git checkout master && git pull && git checkout -`.\n",
    "- __Git subcommands__: This would allow us to write scripts in any language we want; not necessarily bash, and make Git executes it. The script subcommand has to be:\n",
    "    - On our $PATH\n",
    "    - Marked as executable\n",
    "    - The file name has to be prefixed with git and then dash and then the name of the command. For example, `git-subcommand-name`. Actually, all git commands are files that share all those criteria such as `git-add`. Below is an example of subcommand:\n",
    "    ```bash\n",
    "    #!/bin/bash\n",
    "    #\n",
    "    # Small wrapper around git commit. Bare 'cm' will enter normal git commit\n",
    "    # editor, but with args it will do a direct `commit -m`\n",
    "\n",
    "    if [[ $# > 0 ]]; then\n",
    "        git commit -m \"$@\"\n",
    "    else\n",
    "        git commit -v\n",
    "    fi\n",
    "    ```\n",
    "- __Hooks__: Hooks are scripts that can be set to run in response to certain events in Git such as before committing or after checkout. Some uses might be to enforce certain commit message standards on pushed commits, or to run the tests before committing. [Check out this post for more details](https://thoughtbot.com/blog/use-git-hooks-to-automate-annoying-tasks)"
   ]
  },
  {
   "cell_type": "markdown",
   "metadata": {},
   "source": [
    "## Github and Remotes"
   ]
  },
  {
   "cell_type": "markdown",
   "metadata": {},
   "source": [
    "- __Hub__ and Github CLI tool __gh__ make it easy to interact with Github from the command line and integrate well with Git. Useful commands are `compare`, `browse`, and `pull-request`.\n",
    "- To share the code on a given branch using a URL that always point to the same code, we can press `y` to change the name of the branch with its hash that will always point to the same version of code even if we make changes to the branch. We can also select lines from the code file that will be highlighted when we open the URL.\n",
    "- If we are creating a new branch locally and want to have an upstream version for that branch:\n",
    "    - `git branch --remote origin/new-branch-name` will create upstream version of the branch so we can easily push.\n",
    "    - `git push -u origin new-branch-name` will create the new branch while pushing to Github\n",
    "    - If we want the upstream name to have different name than the local branch name, `git push -u origin local-branch-name:upstream-branch-name`\n",
    "- If we want to delete a branch:\n",
    "    - Locally: `git branch -d branch-name`\n",
    "    - Upstream: `git remote --delete branch-name`\n",
    "- We can force to push local branch to another existing upstream branch. This is risky and we may not need to use it `git push --force origin local-branch:upstream-branch`"
   ]
  },
  {
   "cell_type": "markdown",
   "metadata": {},
   "source": [
    "## Vim and Git Integration"
   ]
  },
  {
   "cell_type": "markdown",
   "metadata": {},
   "source": [
    "- Add this to Vim `autocmd Filetype gitcommit setlocal spell textwidth=72`\n",
    "- [Fugitive Plugin](https://github.com/tpope/vim-fugitive)\n",
    "    - [five part Fugitive series on Vimcasts](http://vimcasts.org/blog/2011/05/the-fugitive-series/)\n",
    "- [Conflicted](https://github.com/christoomey/vim-conflicted) Optimizing Fugitive for merge and rebase conflicts"
   ]
  },
  {
   "cell_type": "markdown",
   "metadata": {},
   "source": [
    "## Typical Workflow"
   ]
  },
  {
   "cell_type": "markdown",
   "metadata": {},
   "source": [
    "- Always start by creating new branch for new features. Almost always strive to not commit directly to master branch even for small changes. The workflow is: \n",
    "\n",
    "create new branch __->__ make small changes __->__ create pull request __->__ pass code reviews and other stuff like CI/CD __->__ Rebase master into feature branch __->__ Interactive rebase to squash all commits from feature branch into one commit message __->__ Fast forward merge with master __->__ push master __->__ delete feature branch locally and on upstream.\n",
    "\n",
    "- Always commit small changes and don't wait for large changes to commit. It will be harder to figure out what changes have been made and make it difficult for code reviewers to understand. We can always refine commits with interactive rebase.\n",
    "- __Pull Requests:__\n",
    "    - We first need to push the feature branch into Github using `git push -u origin feature-branch`\n",
    "    - We then have two choices to open PRs: Either through Github UI or though command line tools like `hub` and `gh`. The advantage of Github UI is that it lets you review the code one more time through compare view before submitting it.\n",
    "    - Provide as much context as possible when drafting your PR description. Try to provide as much useful detail as you can. Answering the following questions is a great start:\n",
    "        - Why is this change needed?\n",
    "        - Were other solutions considered?\n",
    "        - Were any assumptions made?\n",
    "    - For work that can't be broken down into small changes, we can use Github Task lists that shows all the items that need to be worked on and the methodology so that people would know not to do in depth code reviews. So every time we push changes we mark items that were already done.\n",
    "    - Code reviews resources:\n",
    "        - [Derek Prior's talk on Code Review Culture](http://confreaks.tv/videos/railsconf2015-implementing-a-strong-code-review-culture)\n",
    "        - [thoughtbot guide to code review](https://github.com/thoughtbot/guides/tree/master/code-review)\n",
    "    - After getting the feedback from the team on the code reviews as well as the CI comments, we can incorporate the changes that team recommended. Then push the new commits to the feature branch and those will automatically be included in the PR.\n",
    "    - We prefer a clean history built using fast-forward merges. In order to ensure this, before merging our PR we always pull master and rebase our feature branch onto master to ensure that our commits are ahead of master. One nice helper for this is the mup alias which checks out master, pulls, then checks back out our feature branch: `mup = !git checkout master && git pull && git checkout -`\n",
    "    - Once we're ahead of master, we can perform an interactive rebase to revise our commits and craft our history. In particular, we can use this time to squash down cleanup and WIP commits, ensuring that each commit we keep is useful and has a solid commit message.\n",
    "    - This is the time to ensure that we've captured as much context as possible in our commit message to describe the \"why\" of the change. Two great resources on this topic are:\n",
    "        - [Five Rules for A Good Git Commit Message](https://robots.thoughtbot.com/5-useful-tips-for-a-better-commit-message)\n",
    "        - [Stephen Ball's Deliberate Git talk](http://rakeroutes.com/blog/deliberate-git)\n",
    "    - If we've performed any form of rebase, then we'll have created new commits and will want to push those up to GitHub in order to get everything in sync. To do this we can force push (git push -f) our branch.\n",
    "    - Final steps:\n",
    "        - If we've force pushed after rebasing as described above, we should be all set, but never hurts to give one last git push just to confirm that our local and remote feature branches are in sync.\n",
    "        - Merge fast-forward: `git co master` & `git merge - --ff-only`\n",
    "        - Push master: Now that we've merged master, we can push it up to GitHub with git push. As a reminder, with a fast-forward merge we are simply moving our master branch pointer to point at our feature branches tip commit, not actually creating any new commits. This is one of the main benefits of using fast-forward merges, namely that all commits are created and can be reviewed on our feature branch before merging into master. With \"Big Green Button on GitHub\" merges and other non-fast-forward merges, the merge commit is created directly on master based on Git's merging algorithm.\n",
    "        - Delete local branch: `git branch -d decks-ordering`\n",
    "        - Delete remote branch: `git push origin --delete <branchName>`. We can also delete the branch via the GitHub PR page, and then git pull on master, letting the fetch prune setting automatically clean up our local reference to the remote branch.\n",
    "        - Pull request auto closing. Assuming we've performed the steps outlined above, GitHub will have automatically closed the PR based on the fact that master now contains our branch's commits."
   ]
  },
  {
   "cell_type": "markdown",
   "metadata": {},
   "source": [
    "## Resources"
   ]
  },
  {
   "cell_type": "markdown",
   "metadata": {},
   "source": [
    "- [Git Ready](http://gitready.com/): Practical how-to pages on topics like \"get a file from a specific revision.\"\n",
    "- [Pro Git](https://progit.org/): A great in-depth resource I find myself continually coming back to.\n",
    "- [Git Internals](https://github.com/pluralsight/git-internals-pdf): A deep dive into the Git object model, with more detail and nuance than we could cover in the this course's video on the topic\n",
    "- [Thoughtbot Guides](https://github.com/thoughtbot/guides/tree/main/)\n",
    "- [Github CLI](https://cli.github.com/)"
   ]
  }
 ],
 "metadata": {
  "kernelspec": {
   "display_name": "Python 3 (ipykernel)",
   "language": "python",
   "name": "python3"
  },
  "language_info": {
   "codemirror_mode": {
    "name": "ipython",
    "version": 3
   },
   "file_extension": ".py",
   "mimetype": "text/x-python",
   "name": "python",
   "nbconvert_exporter": "python",
   "pygments_lexer": "ipython3",
   "version": "3.10.9"
  }
 },
 "nbformat": 4,
 "nbformat_minor": 4
}
