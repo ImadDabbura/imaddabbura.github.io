{
 "cells": [
  {
   "cell_type": "markdown",
   "id": "bdf3687f-8696-44d1-acab-0ac5af311162",
   "metadata": {},
   "source": [
    "---\n",
    "title: Byte-level Byte-Pair Encoding (BPE)\n",
    "date: 2024-04-10\n",
    "categories: [NLP, Deep Learning]\n",
    "image: bpe-tokenizer.jpeg\n",
    "---"
   ]
  },
  {
   "cell_type": "markdown",
   "id": "15d8c6cc-8438-4963-8fee-4a206d1a95d8",
   "metadata": {},
   "source": [
    "<img src=\"bpe-tokenizer.jpeg\" height=\"500px\" width=\"800px\">"
   ]
  },
  {
   "cell_type": "markdown",
   "id": "01e4d799-bbd1-499d-9c13-ebc82a8864d3",
   "metadata": {},
   "source": [
    "# Introduction"
   ]
  },
  {
   "cell_type": "markdown",
   "id": "25be7d8f-b75f-49ef-bd3b-5547f58483b4",
   "metadata": {},
   "source": [
    "Byte-level Byte-Pair Encoding (BPE) uses subword tokenization strategy that includes 256 byte to represent text plus count frequency to merge bytes until we reach a desirable vocabulary size. In each iteration:\n",
    "- We calculate the count of bigrams in the dataset\n",
    "- Pick the bigram with the highest frequency and add it to the vocabulary\n",
    "- Merge the tokens that matches the bigram from above\n",
    "- Continue until we get to the predefined vocabulary size"
   ]
  },
  {
   "cell_type": "code",
   "execution_count": 4,
   "id": "660e14ce-2270-4cf4-9078-36759f24db29",
   "metadata": {},
   "outputs": [],
   "source": [
    "# | echo: false\n",
    "# %load_ext lab_black"
   ]
  },
  {
   "cell_type": "markdown",
   "id": "fc957dc1-22af-4978-835a-21881cea06cb",
   "metadata": {},
   "source": [
    "# Implementation"
   ]
  },
  {
   "cell_type": "code",
   "execution_count": 5,
   "id": "1517b8b6-f809-44a3-a368-2ecf7073c0d5",
   "metadata": {},
   "outputs": [],
   "source": [
    "# | code-fold: true\n",
    "from typing import Iterable\n",
    "import requests"
   ]
  },
  {
   "cell_type": "markdown",
   "id": "e16426ed-5d5b-489a-be70-bfa742ff896e",
   "metadata": {},
   "source": [
    "## Detailed Walk-through"
   ]
  },
  {
   "cell_type": "code",
   "execution_count": 6,
   "id": "4da68858-471c-4025-b421-598b0067930b",
   "metadata": {},
   "outputs": [],
   "source": [
    "text = \"A Programmer’s Introduction to Unicode March 3, 2017\"\n",
    "tokens = text.encode(\"utf-8\")  # raw bytes\n",
    "tokens = list(\n",
    "    tokens\n",
    ")  # convert to a list of integers in range 0..255 for convenience"
   ]
  },
  {
   "cell_type": "code",
   "execution_count": 7,
   "id": "0401b4e8-b2c2-4069-bf47-8d335199f6a3",
   "metadata": {},
   "outputs": [],
   "source": [
    "def get_stats(ids):\n",
    "    counts = {}\n",
    "    for pair in zip(ids, ids[1:]):\n",
    "        counts[pair] = counts.get(pair, 0) + 1\n",
    "    return counts"
   ]
  },
  {
   "cell_type": "code",
   "execution_count": 8,
   "id": "8b2e575f-5ecf-4b58-8484-a8dc633f18ab",
   "metadata": {},
   "outputs": [
    {
     "data": {
      "text/plain": [
       "[((65, 32), 1),\n",
       " ((32, 80), 1),\n",
       " ((80, 114), 1),\n",
       " ((114, 111), 2),\n",
       " ((111, 103), 1),\n",
       " ((103, 114), 1),\n",
       " ((114, 97), 1),\n",
       " ((97, 109), 1),\n",
       " ((109, 109), 1),\n",
       " ((109, 101), 1)]"
      ]
     },
     "execution_count": 8,
     "metadata": {},
     "output_type": "execute_result"
    }
   ],
   "source": [
    "[(k,v) for k,v in get_stats(tokens).items()][:10]"
   ]
  },
  {
   "cell_type": "code",
   "execution_count": 9,
   "id": "bf070a90-bad0-41f6-92d2-dce8e9a28218",
   "metadata": {},
   "outputs": [],
   "source": [
    "def merge(ids, pair, idx):\n",
    "    newids = []\n",
    "    i = 0\n",
    "    while i < len(ids):\n",
    "        if i < len(ids) - 1 and tuple(ids[i : i + 2]) == pair:\n",
    "            newids.append(idx)\n",
    "            i += 2\n",
    "        else:\n",
    "            newids.append(ids[i])\n",
    "            i += 1\n",
    "    return newids"
   ]
  },
  {
   "cell_type": "code",
   "execution_count": 10,
   "id": "301e4f32-b8a0-41ca-b05f-61387865cfc9",
   "metadata": {},
   "outputs": [],
   "source": [
    "vocab_sz = 276  # i.e. we want to have only 20 merges\n",
    "n_merges = vocab_sz - 256\n",
    "ids = list(tokens)\n",
    "merges = {}\n",
    "for i in range(n_merges):\n",
    "    stats = get_stats(ids)\n",
    "    top_pair = max(stats, key=stats.get)\n",
    "    idx = 256 + i\n",
    "    ids = merge(ids, top_pair, idx)\n",
    "    merges[top_pair] = idx\n",
    "    break"
   ]
  },
  {
   "cell_type": "code",
   "execution_count": 11,
   "id": "0be9f390-7228-4ecc-98e7-03d4098002d2",
   "metadata": {},
   "outputs": [],
   "source": [
    "def encode(text, merges):\n",
    "    tokens = list(text.encode(\"utf-8\"))\n",
    "    while len(tokens) >= 2:\n",
    "        stats = get_stats(tokens)\n",
    "        pair = min(stats, key=lambda p: merges.get(p, float(\"inf\")))\n",
    "        if pair not in merges:\n",
    "            break\n",
    "        tokens = merge(tokens, pair, merges[pair])\n",
    "    return tokens"
   ]
  },
  {
   "cell_type": "code",
   "execution_count": 12,
   "id": "c24349ee-062f-431c-b123-c5d7bedc9c7f",
   "metadata": {},
   "outputs": [],
   "source": [
    "def decode(ids, vocab):\n",
    "    tokens = b\"\".join(vocab[idx] for idx in ids)\n",
    "    text = tokens.decode(\"utf-8\", errors=\"replace\")\n",
    "    return text"
   ]
  },
  {
   "cell_type": "code",
   "execution_count": 13,
   "id": "ca5d39b6-91b7-47da-bed6-4f1b7dcb5f9c",
   "metadata": {},
   "outputs": [],
   "source": [
    "vocab = {idx: bytes([idx]) for idx in range(256)}\n",
    "for (p0, p1), idx in merges.items():\n",
    "    vocab[idx] = vocab[p0] + vocab[p1]"
   ]
  },
  {
   "cell_type": "code",
   "execution_count": 14,
   "id": "532262b4-5683-4bca-95af-d468897d8a44",
   "metadata": {},
   "outputs": [
    {
     "data": {
      "text/plain": [
       "True"
      ]
     },
     "execution_count": 14,
     "metadata": {},
     "output_type": "execute_result"
    }
   ],
   "source": [
    "text == decode(encode(text, merges), vocab)"
   ]
  },
  {
   "cell_type": "markdown",
   "id": "6072461a-3da7-4a99-ad7e-02bdf6f80015",
   "metadata": {},
   "source": [
    "## Clean Implementation"
   ]
  },
  {
   "cell_type": "code",
   "execution_count": 16,
   "id": "a672ce35-a11c-4452-92fa-09b54198aa31",
   "metadata": {},
   "outputs": [],
   "source": [
    "class BPETokenizer:\n",
    "    \"\"\"Byte-pair encoder.\"\"\"\n",
    "\n",
    "    def __init__(self, vocab_sz: int):\n",
    "        \"\"\"\n",
    "        Args:\n",
    "            vocab_sz (int): Vocabulary size.\n",
    "        \"\"\"\n",
    "        self.vocab_sz = vocab_sz\n",
    "        self.vocab = {}\n",
    "        self.merges = {}\n",
    "\n",
    "    def train(self, text: Iterable[str]):\n",
    "        \"\"\"Train Byte-pair encoder.\"\"\"\n",
    "        ids = list(text.encode(\"utf-8\"))\n",
    "        for i in range(256, self.vocab_sz):\n",
    "            stats = self._get_stats(ids)\n",
    "            pair = max(stats, key=stats.get)\n",
    "            idx = i\n",
    "            self.merges[pair] = idx\n",
    "            ids = self._merge(ids, pair, idx)\n",
    "        self.vocab = self._build_vocab(ids)\n",
    "\n",
    "    def encode(self, text):\n",
    "        \"\"\"Encode string to bytes using vocabulary built during training.\"\"\"\n",
    "        ids = list(text.encode(\"utf-8\"))\n",
    "\n",
    "        # If text is empty or has one character -> it is already encoded from previous step\n",
    "        while len(ids) >= 2:\n",
    "            # stats is used only for getting pairs next to each other\n",
    "            stats = self._get_stats(ids)\n",
    "            # Because we built vocab (and merges) bottom-up, we need to encode\n",
    "            # idx from smallest index because some later pairs depend on pairs\n",
    "            # occured before\n",
    "            # If a pair doesn't exist, it wouldn't participate in the list\n",
    "            pair = min(stats, key=lambda p: self.merges.get(p, float(\"inf\")))\n",
    "            if pair not in self.merges:\n",
    "                break  # No more pairs to merge\n",
    "            idx = self.merges[pair]\n",
    "            ids = self._merge(ids, pair, idx)\n",
    "        return ids\n",
    "\n",
    "    def decode(self, tokens: Iterable[int]):\n",
    "        \"\"\"Decode tokens into string using the vocabulary built during training.\"\"\"\n",
    "        tokens = b\"\".join(self.vocab[idx] for idx in tokens)\n",
    "        # It is important to replace tokens that were not seen during training\n",
    "        # with `?`; otherwise, it would fail\n",
    "        return tokens.decode(\"utf-8\", errors=\"replace\")\n",
    "\n",
    "    def _get_stats(self, ids: Iterable[int]):\n",
    "        \"\"\"Get pair counts.\"\"\"\n",
    "        counts = {}\n",
    "        for pair in zip(ids, ids[1:]):\n",
    "            counts[pair] = counts.get(pair, 0) + 1\n",
    "        return counts\n",
    "\n",
    "    def _merge(self, ids: Iterable[int], pair: Iterable[int], idx: int):\n",
    "        \"\"\"Merge pairs that match `pair` with new index `idx`.\"\"\"\n",
    "        newids = []\n",
    "        i = 0\n",
    "        while i < len(ids):\n",
    "            if i < len(ids) - 1 and tuple(pair) == tuple(ids[i : i + 2]):\n",
    "                newids.append(idx)\n",
    "                i += 2\n",
    "            else:\n",
    "                newids.append(ids[i])\n",
    "                i += 1\n",
    "        return newids\n",
    "\n",
    "    def _build_vocab(self, ids: Iterable[int]):\n",
    "        \"\"\"Build vocabulary from 0-255 bytes and merges.\"\"\"\n",
    "        vocab = {idx: bytes([idx]) for idx in range(256)}\n",
    "        # Here we assume the items returned would be in the same order they were inserted. This is Okay starting in Python 3.10\n",
    "        for (p0, p1), idx in self.merges.items():\n",
    "            # This would be a concatenation of the bytes\n",
    "            vocab[idx] = vocab[p0] + vocab[p1]\n",
    "        return vocab"
   ]
  },
  {
   "cell_type": "code",
   "execution_count": 18,
   "id": "a26b9c11-cf65-45ca-a03a-7f2acef56f13",
   "metadata": {},
   "outputs": [],
   "source": [
    "text = requests.get(\"https://docs.python.org/3/library/stdtypes.html#bytes.decode\").text"
   ]
  },
  {
   "cell_type": "code",
   "execution_count": 20,
   "id": "4368c372-793e-4ca7-be14-c8e62b9c9ca9",
   "metadata": {},
   "outputs": [],
   "source": [
    "tokenizer = BPETokenizer(300)"
   ]
  },
  {
   "cell_type": "code",
   "execution_count": 21,
   "id": "6a4e7562-ca4c-4e81-907c-70479b2448ce",
   "metadata": {},
   "outputs": [],
   "source": [
    "tokenizer.train(text)"
   ]
  },
  {
   "cell_type": "code",
   "execution_count": 22,
   "id": "3ba82c99-8c22-4c9e-be22-717b6be33ab3",
   "metadata": {},
   "outputs": [
    {
     "data": {
      "text/plain": [
       "True"
      ]
     },
     "execution_count": 22,
     "metadata": {},
     "output_type": "execute_result"
    }
   ],
   "source": [
    "tokenizer.decode(tokenizer.encode(text)) == text"
   ]
  },
  {
   "cell_type": "markdown",
   "id": "28ba2a5f-af1c-4407-a144-b8e0a3801d5a",
   "metadata": {},
   "source": [
    "# Resources"
   ]
  },
  {
   "cell_type": "markdown",
   "id": "41b12d6e-c7b2-41bb-adfa-6d3fe086fe65",
   "metadata": {},
   "source": [
    "- [UTF-8 Everywhere](https://utf8everywhere.org/)\n",
    "- [A Programmer’s Introduction to Unicode](https://www.reedbeta.com/blog/programmers-intro-to-unicode/)\n",
    "- [Karpathy's video on BPE](https://www.youtube.com/watch?v=zduSFxRajkE)\n",
    "- [Good tokenization web app](https://tiktokenizer.vercel.app)"
   ]
  }
 ],
 "metadata": {
  "kernelspec": {
   "display_name": "Python 3 (ipykernel)",
   "language": "python",
   "name": "python3"
  },
  "language_info": {
   "codemirror_mode": {
    "name": "ipython",
    "version": 3
   },
   "file_extension": ".py",
   "mimetype": "text/x-python",
   "name": "python",
   "nbconvert_exporter": "python",
   "pygments_lexer": "ipython3",
   "version": "3.12.2"
  }
 },
 "nbformat": 4,
 "nbformat_minor": 5
}
