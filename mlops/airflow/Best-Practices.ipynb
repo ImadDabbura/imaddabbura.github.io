{
 "cells": [
  {
   "cell_type": "markdown",
   "id": "f4a8df91-0b76-4abe-a256-ca7df2fd17dd",
   "metadata": {},
   "source": [
    "---\n",
    "title: \"Airflow Part 8 - Best Practices\"\n",
    "date: \"2022-03-28\"\n",
    "image: feature.png\n",
    "categories: [\"Data Engineering\", \"MLOps\", \"Airflow\"]\n",
    "---"
   ]
  },
  {
   "cell_type": "markdown",
   "id": "48243cb5-f66b-4d0c-9dc3-fb567d6cc643",
   "metadata": {},
   "source": [
    "![](feature.png){fig-align=\"center\"}"
   ]
  },
  {
   "cell_type": "markdown",
   "id": "11931e28-7ba8-4233-87e0-8558e01614ed",
   "metadata": {},
   "source": [
    "- Stick to coding style conventions by using tools like flake8, pylint, black\n",
    "- There are two ways to define DAGs. Stick to one of them:\n",
    "    1. With context manager: \n",
    "```Python\n",
    "with DAG(...) as dag:\n",
    "    task1 = PythonOperator(...)\n",
    "    task2 = PythonOperator(...)\n",
    "```\n",
    "    2. Traditional:\n",
    "```Python\n",
    "dag = DAG(...)\n",
    "task1 = PythonOperator(..., dag=dag)\n",
    "task2 = PythonOperator(..., dag=dag)\n",
    "```\n",
    "- There are also multiple ways to define dependencies. Stick to one of them:\n",
    "```Python\n",
    "task1 >> task2\n",
    "task1 << task2\n",
    "[task1] >> task2\n",
    "task1.set_downstream(task2)\n",
    "task2.set_upstream(task1)\n",
    "```\n",
    "- When loading config files, make sure to understand where the loading happens:\n",
    "    - At the top level on the scheduler\n",
    "    - At the DAG level when it is parsed\n",
    "    - Or when the DAG is executing -> in the worker\n",
    "- Avoid doing any computation in DAG definition:\n",
    "    - At the top level, it will be computed every time the DAG is loaded\n",
    "    - In the DAG definition, it will be executed every time the DAG is parsed by the scheduler\n",
    "    - In the task, it will be computed when the task is executed on the worker machine\n",
    "- Fetch credentials within the task, so they are only fetched once the task is executed\n",
    "- Use factory methods to generate DAGs or set of tasks that are almost typical with few minor changes. Example:\n",
    "\n",
    "```Python\n",
    "def generate_tasks(dataset_name, raw_dir, processed_dir, preprocess_script, output_dir, dag):\n",
    "    raw_path = os.path.join(raw_dir, dataset_name, \"{ds_nodash}.json\") \n",
    "    processed_path = os.path.join(\n",
    "    processed_dir, dataset_name, \"{ds_nodash}.json\" )\n",
    "    output_path = os.path.join(output_dir, dataset_name, \"{ds_nodash}.json\")\n",
    "    fetch_task = BashOperator(\n",
    "        task_id=f\"fetch_{dataset_name}\",\n",
    "        bash_command=f\"echo 'curl http://example.com/{dataset_name}.json{raw_path}.json'\", dag=dag,\n",
    "        )\n",
    "    preprocess_task = BashOperator(\n",
    "        task_id=f\"preprocess_{dataset_name}\",\n",
    "        bash_command=f\"echo '{preprocess_script} {raw_path} {processed_path}'\", dag=dag,\n",
    "    )\n",
    "    export_task = BashOperator(\n",
    "        task_id=f\"export_{dataset_name}\",\n",
    "        bash_command=f\"echo 'cp {processed_path} {output_path}'\", dag=dag,\n",
    "       )\n",
    "        fetch_task >> preprocess_task >> export_task\n",
    "    return fetch_task, export_task\n",
    "\n",
    "with DAG(\n",
    "    dag_id=\"01_task_factory\",\n",
    "    start_date=airflow.utils.dates.days_ago(5),\n",
    "    schedule_interval=\"@daily\",\n",
    ") as dag:\n",
    "    for dataset in [\"sales\", \"customers\"]:\n",
    "        generate_tasks(\n",
    "            dataset_name=dataset,\n",
    "            raw_dir=\"/data/raw\", \n",
    "            processed_dir=\"/data/processed\", \n",
    "            output_dir=\"/data/output\",\n",
    "            preprocess_script=f\"preprocess_{dataset}.py\", dag=dag\n",
    "        )\n",
    "```\n",
    "- We can use `TaskGroup` to group related tasks into groups that will help us navigating the DAG in the UI. This is very helpful when DAGs become very complicated\n",
    "- Create new DAGs for big changes such as renaming/removing tasks or changing the schedule_date/interval so we can keep the historical info about old DAGs and not confuse the scheduler. Scheduler database has instances of the runs of each DAG\n",
    "- Make sure that tasks are idempotenet -> Regardless when they run, If given the same input the should produce the same output. Therefore, be careful when writing data. We may want to overwrite or upsert to avoid appending the same data\n",
    "    - Also, tasks should not have side effects\n",
    "- Avoid writing intermediate results on local filesystem because each task runs independently (and mostly on different machines) -> Use cloud shared storage such as Amazon's S3 bucket where all workers can access it\n",
    "- We can use SLAs on each DAG/task where Airflow will notify if they don't finish within SLA. DAG takes `sla` argument"
   ]
  }
 ],
 "metadata": {
  "kernelspec": {
   "display_name": "Python 3 (ipykernel)",
   "language": "python",
   "name": "python3"
  },
  "language_info": {
   "codemirror_mode": {
    "name": "ipython",
    "version": 3
   },
   "file_extension": ".py",
   "mimetype": "text/x-python",
   "name": "python",
   "nbconvert_exporter": "python",
   "pygments_lexer": "ipython3",
   "version": "3.10.4"
  }
 },
 "nbformat": 4,
 "nbformat_minor": 5
}
