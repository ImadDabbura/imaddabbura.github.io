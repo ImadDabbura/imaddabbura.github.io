{
 "cells": [
  {
   "cell_type": "markdown",
   "id": "f4a8df91-0b76-4abe-a256-ca7df2fd17dd",
   "metadata": {},
   "source": [
    "---\n",
    "title: \"Airflow Part 4 - Task Context & Jinja Templating\"\n",
    "date: \"2022-02-07\"\n",
    "image: feature.png\n",
    "categories: [\"Data Engineering\", \"MLOps\", \"Airflow\"]\n",
    "---"
   ]
  },
  {
   "cell_type": "markdown",
   "id": "48243cb5-f66b-4d0c-9dc3-fb567d6cc643",
   "metadata": {},
   "source": [
    "![](feature.png){fig-align=\"center\"}"
   ]
  },
  {
   "cell_type": "markdown",
   "id": "b5a8d8ad-1df3-4549-be83-49a3f88f76f9",
   "metadata": {},
   "source": [
    ":::{.callout-note}\n",
    "Other than my experience and the documentation, the main resource behind this post and figures is the fantastic book: [Data Pipelines with Apache. Airflow](https://www.manning.com/books/data-pipelines-with-apache-airflow).\n",
    ":::"
   ]
  },
  {
   "cell_type": "markdown",
   "id": "769985b2-d4be-4357-8b87-20f5f3e7b93a",
   "metadata": {},
   "source": [
    "- Airflow uses `Pendulum` library for datetimes. It is a drop-in replacement to the Python standard library datetime but with much nicer API and more features.\n",
    "- Not all arguments can be templates. By default, all arguments are not made into templates and `{{name}}` will be read as a literal string `name` unless it is included in `template_fields` in the list of attributes that can be templated in the Operator.\n",
    "    - Elements in the `template_fields` are names for class attributes. The arguments passed to the `__init__` match the class attributes.\n",
    "- All operators; such as BashOperator, take their argument as string except PythonOperator. It takes its argument as `python_callable`, which is any callable object in Python. The context and parameters will be available to this callable.\n",
    "    - The context variable is a dictionary that has all the instance variables for this task.\n",
    "        - we can use default `**kwargs` or make it easier to read using `**context`\n",
    "    - If we specify argument name in the python_callable, then Airflow will call the python_callable with all the variables in the context.\n",
    "        - If a variable is specified as argument by the callable, then it is passed to the callabe\n",
    "        - Otherwise, it is added to the context dictionary. If we don't have context dictionary as an argument for the callable, then all other variables in the context that are not specified as arguments will be discarded."
   ]
  },
  {
   "cell_type": "code",
   "execution_count": 10,
   "id": "ede4686f-e66c-431d-9155-6e89a7031544",
   "metadata": {},
   "outputs": [],
   "source": [
    "import airflow\n",
    "from airflow import DAG\n",
    "from airflow.operators.python import PythonOperator\n",
    "\n",
    "dag = DAG(dag_id=\"python-operator-context\", start_date=airflow.utils.dates.days_ago(1))\n",
    "\n",
    "\n",
    "def _print_context(**kwargs):\n",
    "    print(kwargs)\n",
    "print_context = PythonOperator(task_id=\"print-context\", python_callable=_print_context, dag=dag)\n",
    "print_context"
   ]
  },
  {
   "cell_type": "markdown",
   "id": "75cafd9d-6ac5-47bd-82ca-ae370b90d444",
   "metadata": {},
   "source": [
    "- Some arguments of operators can be templated\n",
    "- Templating happens at run time\n",
    "- We can provide arguments to PythonOperator using:\n",
    "    - `op_args`: list of positional arguments that are passed to the callable\n",
    "    - `op_kwargs`: dictionary of keyword arguments\n",
    "- We can inspect the templated arguments either on the UI or using the CLI:\n",
    "    - CLI: `airflow tasks render [dag id] [task id] [desired execution date]`\n",
    "- There are two ways to pass data between tasks:\n",
    "    1. read/write to the metastore. It is called `XCom`\n",
    "        - This is done by pickling the objects we want to share and write it to metastore. After that, tasks can read the pickled objects (and unpickle them)\n",
    "        - This is only recommended for small objects because the object are stored as blobs in the metastore. Don't use it for large objects\n",
    "    2. read/write to persistent storage such as disk or database\n",
    "- Tasks are independent and may run on completely different machines -> Can't share memory -> Sharing has to be through persistent storage.\n",
    "- Most operators are installed via separate pip install. For example, PostgresOperator allows us to work with PostgreSQL database.\n",
    "    - We can install operators like `pip install apache-airflow-providers-*`\n",
    "    - We can import the operator as `from airflow.providers.pogstres.operators.postgres import PostgresOperator`\n",
    "    - We can add connections using UI or CLI, which Airflow store them encrypted in metastore, such as:\n",
    "```bash\n",
    "airflow connections add \\\n",
    "--conn-type postgres \\\n",
    "--conn-host localhost \\\n",
    "--conn-login postgres \\\n",
    "--conn-password mysecretpassword \\\n",
    "my_postgres\n",
    "```\n",
    "        - We can later refer to those credentions by name when connecting to any database\n",
    "    - Airflow takes care of setting up the connection and close it once done\n",
    "- Postgres is an external system and Airflow supports connecting to a wide range of external systems with the help of many operators in its ecosystem. This does have an implication: connecting to an external system often requires specific dependencies to be installed, which allow connecting and communicating with the external system. This also holds for Postgres; we must install the package apache-airflow-providers- postgres to install additional Postgres dependencies in our Airflow installation.\n",
    "    - Upon execution of the PostgresOperator, a number of things happen. The PostgresOperator will instantiate a so-called hook to communicate with Postgres. The hook deals with creating a connection, sending queries to Postgres and closing the connection afterward. The operator is merely passing through the request from the user to the hook in this situation.\n",
    "    - An operator determines what has to be done; a hook determines how to do something. When building pipelines like these, you will only deal with operators and have no notion of any hooks, because hooks are used internally in operators.\n",
    "- There’s a number of things to point out in this last step. The DAG has an additional argument: template_searchpath. Besides a string INSERT INTO ..., the content of files can also be templated. Each operator can read and template files with specific extensions by providing the file path to the operator. In the case of the Postgres- Operator, the argument SQL can be templated and thus a path to a file holding a SQL query can also be provided. Any filepath ending in .sql will be read, templates in the file will be rendered, and the queries in the file will be executed by the PostgresOperator. Again, refer to the documentation of the operators and check the field template_ext, which holds the file extensions that can be templated by the operator.\n",
    "    - Jinja requires you to provide the path to search for files that can be templated. By default, only the path of the DAG file is searched for, but since we’ve stored it in /tmp, Jinja won’t find it. To add paths for Jinja to search, set the argument template_searchpath on the DAG and Jinja will traverse the default path plus additional provided paths to search for."
   ]
  }
 ],
 "metadata": {
  "kernelspec": {
   "display_name": "Python 3 (ipykernel)",
   "language": "python",
   "name": "python3"
  },
  "language_info": {
   "codemirror_mode": {
    "name": "ipython",
    "version": 3
   },
   "file_extension": ".py",
   "mimetype": "text/x-python",
   "name": "python",
   "nbconvert_exporter": "python",
   "pygments_lexer": "ipython3",
   "version": "3.10.4"
  }
 },
 "nbformat": 4,
 "nbformat_minor": 5
}
